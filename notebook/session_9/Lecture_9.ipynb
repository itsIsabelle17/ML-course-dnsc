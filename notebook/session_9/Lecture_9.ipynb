{
  "cells": [
    {
      "cell_type": "markdown",
      "metadata": {
        "id": "view-in-github",
        "colab_type": "text"
      },
      "source": [
        "<a href=\"https://colab.research.google.com/github/jphall663/GWU_ML/blob/main/notebook/lecture_9/Lecture_9.ipynb\" target=\"_parent\"><img src=\"https://colab.research.google.com/assets/colab-badge.svg\" alt=\"Open In Colab\"/></a>"
      ]
    },
    {
      "cell_type": "markdown",
      "metadata": {
        "id": "IywCrrPJwHaD"
      },
      "source": [
        "# License \n",
        "***\n",
        "Copyright (C) 2017--2022 J. Patrick Hall, jphall@gwu.edu\n",
        "\n",
        "Permission is hereby granted, free of charge, to any person obtaining a copy of this software and associated documentation files (the \"Software\"), to deal in the Software without restriction, including without limitation the rights to use, copy, modify, merge, publish, distribute, sublicense, and/or sell copies of the Software, and to permit persons to whom the Software is furnished to do so, subject to the following conditions:\n",
        "\n",
        "The above copyright notice and this permission notice shall be included in all copies or substantial portions of the Software.\n",
        "\n",
        "THE SOFTWARE IS PROVIDED \"AS IS\", WITHOUT WARRANTY OF ANY KIND, EXPRESS OR IMPLIED, INCLUDING BUT NOT LIMITED TO THE WARRANTIES OF MERCHANTABILITY, FITNESS FOR A PARTICULAR PURPOSE AND NONINFRINGEMENT. IN NO EVENT SHALL THE AUTHORS OR COPYRIGHT HOLDERS BE LIABLE FOR ANY CLAIM, DAMAGES OR OTHER LIABILITY, WHETHER IN AN ACTION OF CONTRACT, TORT OR OTHERWISE, ARISING FROM, OUT OF OR IN CONNECTION WITH THE SOFTWARE OR THE USE OR OTHER DEALINGS IN THE SOFTWARE."
      ]
    },
    {
      "cell_type": "markdown",
      "source": [
        "1. Python Imports and Config"
      ],
      "metadata": {
        "id": "vbYtlItMwM2v"
      }
    },
    {
      "cell_type": "code",
      "execution_count": null,
      "metadata": {
        "collapsed": true,
        "id": "mfdUDeO0wHaG"
      },
      "outputs": [],
      "source": [
        "# imports\n",
        "import matplotlib.pyplot as plt\n",
        "import numpy as np\n",
        "import pandas as pd\n",
        "\n",
        "# to upload local files\n",
        "import io\n",
        "from google.colab import files  \n",
        "\n",
        "# display matplotlib graphics in notebook\n",
        "%matplotlib inline\n",
        "\n",
        "# for better reproducibility\n",
        "SEED = 12345"
      ]
    },
    {
      "cell_type": "markdown",
      "source": [
        "2. Install Java for h2o"
      ],
      "metadata": {
        "id": "SmSwoOI6wTQb"
      }
    },
    {
      "cell_type": "code",
      "execution_count": null,
      "metadata": {
        "collapsed": true,
        "id": "CthdchhCwHaH"
      },
      "outputs": [],
      "source": [
        "# install Java for h2o backend\n",
        "!apt-get install default-jre\n",
        "!java -version"
      ]
    },
    {
      "cell_type": "markdown",
      "source": [
        "3. Install h2o python package"
      ],
      "metadata": {
        "id": "ojzd-CUNwZ0P"
      }
    },
    {
      "cell_type": "code",
      "source": [
        "# install h2o\n",
        "!pip install h2o "
      ],
      "metadata": {
        "id": "3cDwhTepwZez"
      },
      "execution_count": null,
      "outputs": []
    },
    {
      "cell_type": "markdown",
      "source": [
        "4. Start h2o"
      ],
      "metadata": {
        "id": "DHcure58wX-S"
      }
    },
    {
      "cell_type": "code",
      "execution_count": null,
      "metadata": {
        "id": "90jPwpxHwHaH"
      },
      "outputs": [],
      "source": [
        "# start and connect to h2o server\n",
        "import h2o\n",
        "from h2o.estimators.deeplearning import H2ODeepLearningEstimator\n",
        "from h2o.estimators.kmeans import H2OKMeansEstimator\n",
        "from h2o.estimators.pca import H2OPrincipalComponentAnalysisEstimator\n",
        "\n",
        "h2o.init()"
      ]
    },
    {
      "cell_type": "markdown",
      "source": [
        "5. Upload example data"
      ],
      "metadata": {
        "id": "9R2Vo6YAwvXa"
      }
    },
    {
      "cell_type": "code",
      "execution_count": null,
      "metadata": {
        "collapsed": true,
        "id": "FYMb_8dPwHaI"
      },
      "outputs": [],
      "source": [
        "# special google collab command to upload a file from computer\n",
        "uploaded = files.upload() # REQUIRES STUDENT INPUT"
      ]
    },
    {
      "cell_type": "code",
      "source": [
        "# 6\n",
        "uploaded.keys() # what is stored in that Python object?"
      ],
      "metadata": {
        "id": "hmqjkkAoxDFb"
      },
      "execution_count": null,
      "outputs": []
    },
    {
      "cell_type": "markdown",
      "source": [
        "7. Define character column types carefully"
      ],
      "metadata": {
        "id": "KstQKL3wxSOo"
      }
    },
    {
      "cell_type": "code",
      "execution_count": null,
      "metadata": {
        "collapsed": true,
        "id": "aqSGOXyxwHaI"
      },
      "outputs": [],
      "source": [
        "# define input variable measurement levels \n",
        "# strings automatically parsed as enums (nominal)\n",
        "# numbers automatically parsed as numeric\n",
        "col_types = {'bad_loan': 'enum',\n",
        "             'GRP_addr_state': 'enum',\n",
        "             'GRP_home_ownership': 'enum',\n",
        "             'GRP_verification_status': 'enum',\n",
        "             'GRP_REP_home_ownership': 'enum',\n",
        "             'GRP_purpose': 'enum'}"
      ]
    },
    {
      "cell_type": "markdown",
      "source": [
        "8. Read data into h2o"
      ],
      "metadata": {
        "id": "1NkCWzsAyLdy"
      }
    },
    {
      "cell_type": "code",
      "execution_count": null,
      "metadata": {
        "id": "KZA7ztUqwHaJ"
      },
      "outputs": [],
      "source": [
        "raw = pd.read_csv(io.StringIO(uploaded['loan_clean.csv'].decode('utf-8'))) # name in quotes here must match name in 6 above\n",
        "frame = h2o.H2OFrame(raw, column_types=col_types)"
      ]
    },
    {
      "cell_type": "markdown",
      "source": [
        "9. Display a summary of the data"
      ],
      "metadata": {
        "id": "3d6M5rJPzzwY"
      }
    },
    {
      "cell_type": "code",
      "execution_count": null,
      "metadata": {
        "id": "5eYUCbn9wHaJ"
      },
      "outputs": [],
      "source": [
        "frame.describe()"
      ]
    },
    {
      "cell_type": "markdown",
      "source": [
        "10. Assign basic modeling roles -- `y` will not be used"
      ],
      "metadata": {
        "id": "xZ2nYW0kz4EW"
      }
    },
    {
      "cell_type": "code",
      "execution_count": null,
      "metadata": {
        "id": "eg4hsRwgwHaK"
      },
      "outputs": [],
      "source": [
        "# assign target and inputs\n",
        "y = 'bad_loan'\n",
        "X = [name for name in frame.columns if name not in ['id', '_WARN_', 'GRP_home_ownership', y]]\n",
        "print(y)\n",
        "print(X)\n",
        "print(len(X))"
      ]
    },
    {
      "cell_type": "markdown",
      "source": [
        "11. Train a _k_-means model"
      ],
      "metadata": {
        "id": "ZU4HtC1U0CXa"
      }
    },
    {
      "cell_type": "code",
      "execution_count": null,
      "metadata": {
        "id": "Ru33upC6wHaL"
      },
      "outputs": [],
      "source": [
        "# train k-means cluster model\n",
        "# data is already standardized\n",
        "# w/ 3 clusters\n",
        "# print summary\n",
        "clusters = H2OKMeansEstimator(standardize=False, k=, seed=) # REQUIRES STUDENT INPUT\n",
        "clusters.train(x=X, training_frame=frame)\n",
        "print(clusters)"
      ]
    },
    {
      "cell_type": "markdown",
      "source": [
        "12. Display a few example cluster labels"
      ],
      "metadata": {
        "id": "yzb-ZCua0yVR"
      }
    },
    {
      "cell_type": "code",
      "execution_count": null,
      "metadata": {
        "id": "_3YQOS3DwHaL"
      },
      "outputs": [],
      "source": [
        "# join cluster labels to original data for further analysis\n",
        "labels = clusters.predict(frame)\n",
        "labeled_frame =  frame.cbind(labels)\n",
        "labeled_frame.head(rows=) # REQUIRES STUDENT INPUT (scroll right to see cluster assignments)"
      ]
    },
    {
      "cell_type": "markdown",
      "source": [
        "13. Divide columns into numeric (\"real\") and categorical (\"enum\")"
      ],
      "metadata": {
        "id": "wzWQUg3909-F"
      }
    },
    {
      "cell_type": "code",
      "execution_count": null,
      "metadata": {
        "id": "esXqxu9-wHaL"
      },
      "outputs": [],
      "source": [
        "# determine column types\n",
        "reals, enums = [], []\n",
        "for key, val in labeled_frame.types.items():\n",
        "    if key in X:\n",
        "        if val == 'enum':\n",
        "            enums.append(key)\n",
        "        else: \n",
        "            reals.append(key)\n",
        "\n",
        "print(enums)\n",
        "print(reals)"
      ]
    },
    {
      "cell_type": "markdown",
      "source": [
        "14. Profile clusters using means"
      ],
      "metadata": {
        "id": "_b6_XgU21Mcs"
      }
    },
    {
      "cell_type": "code",
      "execution_count": null,
      "metadata": {
        "id": "LRnlcLmWwHaM"
      },
      "outputs": [],
      "source": [
        "# profile clusters by means\n",
        "grouped = labeled_frame.group_by(by=['predict'])\n",
        "means = grouped.mean(col=reals).get_frame()\n",
        "print(means)"
      ]
    },
    {
      "cell_type": "markdown",
      "source": [
        "15. Profile clusters using modes"
      ],
      "metadata": {
        "id": "nd9ickk51Wx-"
      }
    },
    {
      "cell_type": "code",
      "execution_count": null,
      "metadata": {
        "id": "g-kivKdAwHaM"
      },
      "outputs": [],
      "source": [
        "# profile clusters by modes\n",
        "grouped = labeled_frame.group_by(by=['predict'])\n",
        "modes = grouped.mode(col=enums).get_frame()\n",
        "print(modes)"
      ]
    },
    {
      "cell_type": "markdown",
      "source": [
        "16. Define a custom function for plotting the clusters"
      ],
      "metadata": {
        "id": "8OYC4apv1bdG"
      }
    },
    {
      "cell_type": "code",
      "execution_count": null,
      "metadata": {
        "id": "ti51AeplwHaM"
      },
      "outputs": [],
      "source": [
        "# define a function for plotting clusters in 2-d\n",
        "def plot(_2d_labeled_frame):\n",
        "\n",
        "    _0 = plt.scatter(features_pandas[_2d_labeled_frame.label == 0].iloc[0:750, 0], \n",
        "                     features_pandas[_2d_labeled_frame.label == 0].iloc[0:750, 1],\n",
        "                     color='m', marker='^', alpha=.15)\n",
        "\n",
        "    _1 = plt.scatter(features_pandas[_2d_labeled_frame.label == 1].iloc[0:750, 0], \n",
        "                     features_pandas[_2d_labeled_frame.label == 1].iloc[0:750, 1],\n",
        "                     color='c', alpha=.15)\n",
        "\n",
        "    _2 = plt.scatter(features_pandas[_2d_labeled_frame.label == 2].iloc[0:750, 0], \n",
        "                     features_pandas[_2d_labeled_frame.label == 2].iloc[0:750, 1],\n",
        "                     color='g', marker='s', alpha=.15)               \n",
        "                     \n",
        "    plt.legend([_0, _1, _2], \n",
        "               ['Cluster 0', 'Cluster 1', 'Cluster 2'],\n",
        "               bbox_to_anchor=(1.05, 0.0), \n",
        "               loc=3, borderaxespad=0.)\n",
        "    \n",
        "    plt.xlabel('Dimension 1')\n",
        "    plt.ylabel('Dimension 2')"
      ]
    },
    {
      "cell_type": "markdown",
      "source": [
        "17. Project clusters into a lower-dimensional space with PCA to visualize"
      ],
      "metadata": {
        "id": "wARuiGiR1mnB"
      }
    },
    {
      "cell_type": "code",
      "execution_count": null,
      "metadata": {
        "id": "0CPYHnASwHaM"
      },
      "outputs": [],
      "source": [
        "# project training data onto 2-D using principal components\n",
        "# join with clusters labels\n",
        "# plot\n",
        "pca = H2OPrincipalComponentAnalysisEstimator(k=) # REQUIRES STUDENT INPUT\n",
        "pca.train(x=X, training_frame=labeled_frame)\n",
        "features = pca.predict(labeled_frame)\n",
        "features_pandas = features.as_data_frame()\n",
        "features_pandas['label'] = labeled_frame[-1].as_data_frame()\n",
        "print(features_pandas.head())\n",
        "plot(features_pandas)"
      ]
    },
    {
      "cell_type": "markdown",
      "source": [
        "18. Shutdown h2o"
      ],
      "metadata": {
        "id": "8hy0bplf195o"
      }
    },
    {
      "cell_type": "code",
      "execution_count": null,
      "metadata": {
        "id": "6VVLg05mwHaN"
      },
      "outputs": [],
      "source": [
        "# shutdown h2o\n",
        "h2o.cluster().shutdown(prompt=False)"
      ]
    }
  ],
  "metadata": {
    "anaconda-cloud": {},
    "kernelspec": {
      "display_name": "Python [conda root]",
      "language": "python",
      "name": "conda-root-py"
    },
    "language_info": {
      "codemirror_mode": {
        "name": "ipython",
        "version": 3
      },
      "file_extension": ".py",
      "mimetype": "text/x-python",
      "name": "python",
      "nbconvert_exporter": "python",
      "pygments_lexer": "ipython3",
      "version": "3.5.2"
    },
    "colab": {
      "name": "Lecture 9.ipynb",
      "provenance": [],
      "include_colab_link": true
    }
  },
  "nbformat": 4,
  "nbformat_minor": 0
}

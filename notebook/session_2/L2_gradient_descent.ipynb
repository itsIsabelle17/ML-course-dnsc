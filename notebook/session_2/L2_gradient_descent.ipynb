{
  "cells": [
    {
      "cell_type": "markdown",
      "metadata": {
        "id": "IWnt46AmT8PH"
      },
      "source": [
        "# License \n",
        "***\n",
        "Copyright (C) 2017 -- 2022 J. Patrick Hall, jphall@gwu.edu\n",
        "\n",
        "Permission is hereby granted, free of charge, to any person obtaining a copy of this software and associated documentation files (the \"Software\"), to deal in the Software without restriction, including without limitation the rights to use, copy, modify, merge, publish, distribute, sublicense, and/or sell copies of the Software, and to permit persons to whom the Software is furnished to do so, subject to the following conditions:\n",
        "\n",
        "The above copyright notice and this permission notice shall be included in all copies or substantial portions of the Software.\n",
        "\n",
        "THE SOFTWARE IS PROVIDED \"AS IS\", WITHOUT WARRANTY OF ANY KIND, EXPRESS OR IMPLIED, INCLUDING BUT NOT LIMITED TO THE WARRANTIES OF MERCHANTABILITY, FITNESS FOR A PARTICULAR PURPOSE AND NONINFRINGEMENT. IN NO EVENT SHALL THE AUTHORS OR COPYRIGHT HOLDERS BE LIABLE FOR ANY CLAIM, DAMAGES OR OTHER LIABILITY, WHETHER IN AN ACTION OF CONTRACT, TORT OR OTHERWISE, ARISING FROM, OUT OF OR IN CONNECTION WITH THE SOFTWARE OR THE USE OR OTHER DEALINGS IN THE SOFTWARE."
      ]
    },
    {
      "cell_type": "markdown",
      "metadata": {
        "id": "4xghu7cLT8PR"
      },
      "source": [
        "***\n",
        "# **Basic** Gradient Descent for Multiple Linear Regression"
      ]
    },
    {
      "cell_type": "markdown",
      "source": [
        "#### Installs and Imports"
      ],
      "metadata": {
        "id": "KVn5YXd2V-kU"
      }
    },
    {
      "cell_type": "code",
      "execution_count": null,
      "metadata": {
        "id": "pvTkpRwET8PS"
      },
      "outputs": [],
      "source": [
        "# imports \n",
        "import pandas as pd # import pandas for easy data manipulation using data frames\n",
        "import numpy as np  # import numpy for numeric calculations on matrices\n",
        "import time         # for timers\n",
        "\n",
        "# to upload local files\n",
        "import io\n",
        "from google.colab import files  "
      ]
    },
    {
      "cell_type": "code",
      "source": [
        "# install Java for h2o backend\n",
        "!apt-get install default-jre\n",
        "!java -version"
      ],
      "metadata": {
        "colab": {
          "base_uri": "https://localhost:8080/"
        },
        "id": "7-YbUyqtUMNL",
        "outputId": "5ce8d74b-221d-47a1-b16e-f4dc41aba228"
      },
      "execution_count": null,
      "outputs": [
        {
          "output_type": "stream",
          "name": "stdout",
          "text": [
            "Reading package lists... Done\n",
            "Building dependency tree       \n",
            "Reading state information... Done\n",
            "default-jre is already the newest version (2:1.11-68ubuntu1~18.04.1).\n",
            "default-jre set to manually installed.\n",
            "0 upgraded, 0 newly installed, 0 to remove and 37 not upgraded.\n",
            "openjdk version \"11.0.13\" 2021-10-19\n",
            "OpenJDK Runtime Environment (build 11.0.13+8-Ubuntu-0ubuntu1.18.04)\n",
            "OpenJDK 64-Bit Server VM (build 11.0.13+8-Ubuntu-0ubuntu1.18.04, mixed mode, sharing)\n"
          ]
        }
      ]
    },
    {
      "cell_type": "code",
      "source": [
        "# install h2o\n",
        "!pip install h2o "
      ],
      "metadata": {
        "colab": {
          "base_uri": "https://localhost:8080/"
        },
        "id": "Md93AynhUo6K",
        "outputId": "4e2ff0cf-07c9-42ed-ce2e-18a0e9d9185b"
      },
      "execution_count": null,
      "outputs": [
        {
          "output_type": "stream",
          "name": "stdout",
          "text": [
            "Collecting h2o\n",
            "  Downloading h2o-3.34.0.7.tar.gz (175.8 MB)\n",
            "\u001b[K     |████████████████████████████████| 175.8 MB 38 kB/s \n",
            "\u001b[?25hRequirement already satisfied: requests in /usr/local/lib/python3.7/dist-packages (from h2o) (2.23.0)\n",
            "Requirement already satisfied: tabulate in /usr/local/lib/python3.7/dist-packages (from h2o) (0.8.9)\n",
            "Requirement already satisfied: future in /usr/local/lib/python3.7/dist-packages (from h2o) (0.16.0)\n",
            "Requirement already satisfied: urllib3!=1.25.0,!=1.25.1,<1.26,>=1.21.1 in /usr/local/lib/python3.7/dist-packages (from requests->h2o) (1.24.3)\n",
            "Requirement already satisfied: certifi>=2017.4.17 in /usr/local/lib/python3.7/dist-packages (from requests->h2o) (2021.10.8)\n",
            "Requirement already satisfied: idna<3,>=2.5 in /usr/local/lib/python3.7/dist-packages (from requests->h2o) (2.10)\n",
            "Requirement already satisfied: chardet<4,>=3.0.2 in /usr/local/lib/python3.7/dist-packages (from requests->h2o) (3.0.4)\n",
            "Building wheels for collected packages: h2o\n",
            "  Building wheel for h2o (setup.py) ... \u001b[?25l\u001b[?25hdone\n",
            "  Created wheel for h2o: filename=h2o-3.34.0.7-py2.py3-none-any.whl size=175908084 sha256=3ac669bf9a6c08c4da81d517529d1244c6655102f1aca1cb9e697492e47dff90\n",
            "  Stored in directory: /root/.cache/pip/wheels/df/df/05/1f2ac68a5d9bf38b74f2b8218443b2c00f1a5f4f3154ec11b6\n",
            "Successfully built h2o\n",
            "Installing collected packages: h2o\n",
            "Successfully installed h2o-3.34.0.7\n"
          ]
        }
      ]
    },
    {
      "cell_type": "code",
      "source": [
        "# import h2o to check calculations\n",
        "import h2o\n",
        "from h2o.estimators.glm import H2OGeneralizedLinearEstimator"
      ],
      "metadata": {
        "id": "wECURngVVEEV"
      },
      "execution_count": null,
      "outputs": []
    },
    {
      "cell_type": "markdown",
      "source": [
        "#### Load example data"
      ],
      "metadata": {
        "id": "aRjuduSaWD1K"
      }
    },
    {
      "cell_type": "code",
      "source": [
        "# special google collab command to upload a file from computer\n",
        "uploaded = files.upload()"
      ],
      "metadata": {
        "colab": {
          "resources": {
            "http://localhost:8080/nbextensions/google.colab/files.js": {
              "data": "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",
              "ok": true,
              "headers": [
                [
                  "content-type",
                  "application/javascript"
                ]
              ],
              "status": 200,
              "status_text": ""
            }
          },
          "base_uri": "https://localhost:8080/",
          "height": 74
        },
        "id": "AWUunZLpVTiR",
        "outputId": "61256ec1-866d-4caa-8f20-8339e133fe36"
      },
      "execution_count": null,
      "outputs": [
        {
          "output_type": "display_data",
          "data": {
            "text/html": [
              "\n",
              "     <input type=\"file\" id=\"files-5c3879c0-b1e5-4857-b529-c624def99fb9\" name=\"files[]\" multiple disabled\n",
              "        style=\"border:none\" />\n",
              "     <output id=\"result-5c3879c0-b1e5-4857-b529-c624def99fb9\">\n",
              "      Upload widget is only available when the cell has been executed in the\n",
              "      current browser session. Please rerun this cell to enable.\n",
              "      </output>\n",
              "      <script src=\"/nbextensions/google.colab/files.js\"></script> "
            ],
            "text/plain": [
              "<IPython.core.display.HTML object>"
            ]
          },
          "metadata": {}
        },
        {
          "output_type": "stream",
          "name": "stdout",
          "text": [
            "Saving loan_clean.csv to loan_clean.csv\n"
          ]
        }
      ]
    },
    {
      "cell_type": "code",
      "source": [
        "uploaded.keys() # what is stored in that Python object?"
      ],
      "metadata": {
        "colab": {
          "base_uri": "https://localhost:8080/"
        },
        "id": "O3oh8A5gWIcu",
        "outputId": "221569a0-34bb-4e21-e5a9-607d99f55101"
      },
      "execution_count": null,
      "outputs": [
        {
          "output_type": "execute_result",
          "data": {
            "text/plain": [
              "dict_keys(['loan_clean.csv'])"
            ]
          },
          "metadata": {},
          "execution_count": 8
        }
      ]
    },
    {
      "cell_type": "code",
      "source": [
        "raw = pd.read_csv(io.StringIO(uploaded['loan_clean.csv'].decode('utf-8')))"
      ],
      "metadata": {
        "id": "5MxbxgL2WYza"
      },
      "execution_count": null,
      "outputs": []
    },
    {
      "cell_type": "markdown",
      "metadata": {
        "id": "QmhXrsVcT8PT"
      },
      "source": [
        "#### Assign global constants"
      ]
    },
    {
      "cell_type": "code",
      "execution_count": null,
      "metadata": {
        "id": "oGaK5VDxT8PX"
      },
      "outputs": [],
      "source": [
        "Y            = 'STD_IMP_REP_loan_amnt'\n",
        "DROPS        = ['id', 'GRP_REP_home_ownership', 'GRP_addr_state', 'GRP_home_ownership',\n",
        "                'GRP_purpose', 'GRP_verification_status', '_WARN_']\n",
        "\n",
        "# model-related constants\n",
        "LEARN_RATE   = 0.05 # how much each gradient descent step impacts parameters\n",
        "CONV         = 1e-10 # desired precision in parameters \n",
        "MAX_ITERS    = 10000 # maximum number of gradient descent steps to allow"
      ]
    },
    {
      "cell_type": "markdown",
      "metadata": {
        "id": "vyy9QvJgT8PZ"
      },
      "source": [
        "### Clean data and convert to numpy matrices"
      ]
    },
    {
      "cell_type": "code",
      "execution_count": null,
      "metadata": {
        "colab": {
          "base_uri": "https://localhost:8080/",
          "height": 364
        },
        "id": "LHCWE27MT8PZ",
        "outputId": "2640034a-6f3d-492a-8f6a-78ab795da524"
      },
      "outputs": [
        {
          "output_type": "execute_result",
          "data": {
            "text/html": [
              "\n",
              "  <div id=\"df-52eed739-c827-4ce9-b6cb-88d44f38768e\">\n",
              "    <div class=\"colab-df-container\">\n",
              "      <div>\n",
              "<style scoped>\n",
              "    .dataframe tbody tr th:only-of-type {\n",
              "        vertical-align: middle;\n",
              "    }\n",
              "\n",
              "    .dataframe tbody tr th {\n",
              "        vertical-align: top;\n",
              "    }\n",
              "\n",
              "    .dataframe thead th {\n",
              "        text-align: right;\n",
              "    }\n",
              "</style>\n",
              "<table border=\"1\" class=\"dataframe\">\n",
              "  <thead>\n",
              "    <tr style=\"text-align: right;\">\n",
              "      <th></th>\n",
              "      <th>id</th>\n",
              "      <th>bad_loan</th>\n",
              "      <th>GRP_REP_home_ownership</th>\n",
              "      <th>GRP_addr_state</th>\n",
              "      <th>GRP_home_ownership</th>\n",
              "      <th>GRP_purpose</th>\n",
              "      <th>GRP_verification_status</th>\n",
              "      <th>_WARN_</th>\n",
              "      <th>STD_IMP_REP_annual_inc</th>\n",
              "      <th>STD_IMP_REP_delinq_2yrs</th>\n",
              "      <th>STD_IMP_REP_dti</th>\n",
              "      <th>STD_IMP_REP_emp_length</th>\n",
              "      <th>STD_IMP_REP_int_rate</th>\n",
              "      <th>STD_IMP_REP_loan_amnt</th>\n",
              "      <th>STD_IMP_REP_longest_credit_lengt</th>\n",
              "      <th>STD_IMP_REP_revol_util</th>\n",
              "      <th>STD_IMP_REP_term_length</th>\n",
              "      <th>STD_IMP_REP_total_acc</th>\n",
              "    </tr>\n",
              "  </thead>\n",
              "  <tbody>\n",
              "    <tr>\n",
              "      <th>count</th>\n",
              "      <td>163987.000000</td>\n",
              "      <td>163987.000000</td>\n",
              "      <td>163987.000000</td>\n",
              "      <td>163987.000000</td>\n",
              "      <td>163987.000000</td>\n",
              "      <td>163987.000000</td>\n",
              "      <td>163987.000000</td>\n",
              "      <td>0.0</td>\n",
              "      <td>1.639870e+05</td>\n",
              "      <td>1.639870e+05</td>\n",
              "      <td>1.639870e+05</td>\n",
              "      <td>1.639870e+05</td>\n",
              "      <td>1.639870e+05</td>\n",
              "      <td>1.639870e+05</td>\n",
              "      <td>1.639870e+05</td>\n",
              "      <td>1.639870e+05</td>\n",
              "      <td>1.639870e+05</td>\n",
              "      <td>1.639870e+05</td>\n",
              "    </tr>\n",
              "    <tr>\n",
              "      <th>mean</th>\n",
              "      <td>91994.000000</td>\n",
              "      <td>0.192595</td>\n",
              "      <td>2.574003</td>\n",
              "      <td>11.409337</td>\n",
              "      <td>2.574003</td>\n",
              "      <td>3.244940</td>\n",
              "      <td>2.340356</td>\n",
              "      <td>NaN</td>\n",
              "      <td>2.387342e-11</td>\n",
              "      <td>2.408736e-12</td>\n",
              "      <td>6.806950e-11</td>\n",
              "      <td>-3.563309e-11</td>\n",
              "      <td>-8.939301e-12</td>\n",
              "      <td>8.310596e-11</td>\n",
              "      <td>5.061841e-11</td>\n",
              "      <td>-1.473947e-11</td>\n",
              "      <td>-1.500741e-10</td>\n",
              "      <td>8.045720e-13</td>\n",
              "    </tr>\n",
              "    <tr>\n",
              "      <th>std</th>\n",
              "      <td>47339.113634</td>\n",
              "      <td>0.394338</td>\n",
              "      <td>0.667526</td>\n",
              "      <td>9.971926</td>\n",
              "      <td>0.667526</td>\n",
              "      <td>2.267289</td>\n",
              "      <td>0.504086</td>\n",
              "      <td>NaN</td>\n",
              "      <td>1.000000e+00</td>\n",
              "      <td>1.000000e+00</td>\n",
              "      <td>1.000000e+00</td>\n",
              "      <td>1.000000e+00</td>\n",
              "      <td>1.000000e+00</td>\n",
              "      <td>1.000000e+00</td>\n",
              "      <td>1.000000e+00</td>\n",
              "      <td>1.000000e+00</td>\n",
              "      <td>1.000000e+00</td>\n",
              "      <td>1.000000e+00</td>\n",
              "    </tr>\n",
              "    <tr>\n",
              "      <th>min</th>\n",
              "      <td>10001.000000</td>\n",
              "      <td>0.000000</td>\n",
              "      <td>1.000000</td>\n",
              "      <td>1.000000</td>\n",
              "      <td>1.000000</td>\n",
              "      <td>1.000000</td>\n",
              "      <td>1.000000</td>\n",
              "      <td>NaN</td>\n",
              "      <td>-1.767456e+00</td>\n",
              "      <td>-3.921962e-01</td>\n",
              "      <td>-2.119639e+00</td>\n",
              "      <td>-1.621390e+00</td>\n",
              "      <td>-1.907046e+00</td>\n",
              "      <td>-1.587129e+00</td>\n",
              "      <td>-2.224451e+00</td>\n",
              "      <td>-2.164541e+00</td>\n",
              "      <td>-5.164956e-01</td>\n",
              "      <td>-2.058862e+00</td>\n",
              "    </tr>\n",
              "    <tr>\n",
              "      <th>25%</th>\n",
              "      <td>50997.500000</td>\n",
              "      <td>0.000000</td>\n",
              "      <td>2.000000</td>\n",
              "      <td>3.000000</td>\n",
              "      <td>2.000000</td>\n",
              "      <td>2.000000</td>\n",
              "      <td>2.000000</td>\n",
              "      <td>NaN</td>\n",
              "      <td>-6.595203e-01</td>\n",
              "      <td>-3.921962e-01</td>\n",
              "      <td>-7.380602e-01</td>\n",
              "      <td>-7.663281e-01</td>\n",
              "      <td>-6.840838e-01</td>\n",
              "      <td>-7.667612e-01</td>\n",
              "      <td>-7.212383e-01</td>\n",
              "      <td>-7.235035e-01</td>\n",
              "      <td>-5.164956e-01</td>\n",
              "      <td>-7.471426e-01</td>\n",
              "    </tr>\n",
              "    <tr>\n",
              "      <th>50%</th>\n",
              "      <td>91994.000000</td>\n",
              "      <td>0.000000</td>\n",
              "      <td>3.000000</td>\n",
              "      <td>8.000000</td>\n",
              "      <td>3.000000</td>\n",
              "      <td>2.000000</td>\n",
              "      <td>2.000000</td>\n",
              "      <td>NaN</td>\n",
              "      <td>-2.225562e-01</td>\n",
              "      <td>-3.921962e-01</td>\n",
              "      <td>-2.257573e-02</td>\n",
              "      <td>8.873407e-02</td>\n",
              "      <td>-5.191344e-02</td>\n",
              "      <td>-2.114351e-01</td>\n",
              "      <td>-1.199531e-01</td>\n",
              "      <td>7.707309e-02</td>\n",
              "      <td>-5.164956e-01</td>\n",
              "      <td>-1.350069e-01</td>\n",
              "    </tr>\n",
              "    <tr>\n",
              "      <th>75%</th>\n",
              "      <td>132990.500000</td>\n",
              "      <td>0.000000</td>\n",
              "      <td>3.000000</td>\n",
              "      <td>17.000000</td>\n",
              "      <td>3.000000</td>\n",
              "      <td>3.000000</td>\n",
              "      <td>3.000000</td>\n",
              "      <td>NaN</td>\n",
              "      <td>3.686305e-01</td>\n",
              "      <td>-3.921962e-01</td>\n",
              "      <td>6.955785e-01</td>\n",
              "      <td>1.228817e+00</td>\n",
              "      <td>5.917510e-01</td>\n",
              "      <td>6.215541e-01</td>\n",
              "      <td>4.813321e-01</td>\n",
              "      <td>7.815805e-01</td>\n",
              "      <td>-5.164956e-01</td>\n",
              "      <td>5.645768e-01</td>\n",
              "    </tr>\n",
              "    <tr>\n",
              "      <th>max</th>\n",
              "      <td>173987.000000</td>\n",
              "      <td>1.000000</td>\n",
              "      <td>5.000000</td>\n",
              "      <td>37.000000</td>\n",
              "      <td>5.000000</td>\n",
              "      <td>14.000000</td>\n",
              "      <td>3.000000</td>\n",
              "      <td>NaN</td>\n",
              "      <td>4.618062e+00</td>\n",
              "      <td>4.156695e+00</td>\n",
              "      <td>3.037149e+00</td>\n",
              "      <td>1.228817e+00</td>\n",
              "      <td>2.837680e+00</td>\n",
              "      <td>2.767132e+00</td>\n",
              "      <td>3.143160e+00</td>\n",
              "      <td>3.036350e+00</td>\n",
              "      <td>1.971879e+00</td>\n",
              "      <td>3.068467e+00</td>\n",
              "    </tr>\n",
              "  </tbody>\n",
              "</table>\n",
              "</div>\n",
              "      <button class=\"colab-df-convert\" onclick=\"convertToInteractive('df-52eed739-c827-4ce9-b6cb-88d44f38768e')\"\n",
              "              title=\"Convert this dataframe to an interactive table.\"\n",
              "              style=\"display:none;\">\n",
              "        \n",
              "  <svg xmlns=\"http://www.w3.org/2000/svg\" height=\"24px\"viewBox=\"0 0 24 24\"\n",
              "       width=\"24px\">\n",
              "    <path d=\"M0 0h24v24H0V0z\" fill=\"none\"/>\n",
              "    <path d=\"M18.56 5.44l.94 2.06.94-2.06 2.06-.94-2.06-.94-.94-2.06-.94 2.06-2.06.94zm-11 1L8.5 8.5l.94-2.06 2.06-.94-2.06-.94L8.5 2.5l-.94 2.06-2.06.94zm10 10l.94 2.06.94-2.06 2.06-.94-2.06-.94-.94-2.06-.94 2.06-2.06.94z\"/><path d=\"M17.41 7.96l-1.37-1.37c-.4-.4-.92-.59-1.43-.59-.52 0-1.04.2-1.43.59L10.3 9.45l-7.72 7.72c-.78.78-.78 2.05 0 2.83L4 21.41c.39.39.9.59 1.41.59.51 0 1.02-.2 1.41-.59l7.78-7.78 2.81-2.81c.8-.78.8-2.07 0-2.86zM5.41 20L4 18.59l7.72-7.72 1.47 1.35L5.41 20z\"/>\n",
              "  </svg>\n",
              "      </button>\n",
              "      \n",
              "  <style>\n",
              "    .colab-df-container {\n",
              "      display:flex;\n",
              "      flex-wrap:wrap;\n",
              "      gap: 12px;\n",
              "    }\n",
              "\n",
              "    .colab-df-convert {\n",
              "      background-color: #E8F0FE;\n",
              "      border: none;\n",
              "      border-radius: 50%;\n",
              "      cursor: pointer;\n",
              "      display: none;\n",
              "      fill: #1967D2;\n",
              "      height: 32px;\n",
              "      padding: 0 0 0 0;\n",
              "      width: 32px;\n",
              "    }\n",
              "\n",
              "    .colab-df-convert:hover {\n",
              "      background-color: #E2EBFA;\n",
              "      box-shadow: 0px 1px 2px rgba(60, 64, 67, 0.3), 0px 1px 3px 1px rgba(60, 64, 67, 0.15);\n",
              "      fill: #174EA6;\n",
              "    }\n",
              "\n",
              "    [theme=dark] .colab-df-convert {\n",
              "      background-color: #3B4455;\n",
              "      fill: #D2E3FC;\n",
              "    }\n",
              "\n",
              "    [theme=dark] .colab-df-convert:hover {\n",
              "      background-color: #434B5C;\n",
              "      box-shadow: 0px 1px 3px 1px rgba(0, 0, 0, 0.15);\n",
              "      filter: drop-shadow(0px 1px 2px rgba(0, 0, 0, 0.3));\n",
              "      fill: #FFFFFF;\n",
              "    }\n",
              "  </style>\n",
              "\n",
              "      <script>\n",
              "        const buttonEl =\n",
              "          document.querySelector('#df-52eed739-c827-4ce9-b6cb-88d44f38768e button.colab-df-convert');\n",
              "        buttonEl.style.display =\n",
              "          google.colab.kernel.accessAllowed ? 'block' : 'none';\n",
              "\n",
              "        async function convertToInteractive(key) {\n",
              "          const element = document.querySelector('#df-52eed739-c827-4ce9-b6cb-88d44f38768e');\n",
              "          const dataTable =\n",
              "            await google.colab.kernel.invokeFunction('convertToInteractive',\n",
              "                                                     [key], {});\n",
              "          if (!dataTable) return;\n",
              "\n",
              "          const docLinkHtml = 'Like what you see? Visit the ' +\n",
              "            '<a target=\"_blank\" href=https://colab.research.google.com/notebooks/data_table.ipynb>data table notebook</a>'\n",
              "            + ' to learn more about interactive tables.';\n",
              "          element.innerHTML = '';\n",
              "          dataTable['output_type'] = 'display_data';\n",
              "          await google.colab.output.renderOutput(dataTable, element);\n",
              "          const docLink = document.createElement('div');\n",
              "          docLink.innerHTML = docLinkHtml;\n",
              "          element.appendChild(docLink);\n",
              "        }\n",
              "      </script>\n",
              "    </div>\n",
              "  </div>\n",
              "  "
            ],
            "text/plain": [
              "                  id  ...  STD_IMP_REP_total_acc\n",
              "count  163987.000000  ...           1.639870e+05\n",
              "mean    91994.000000  ...           8.045720e-13\n",
              "std     47339.113634  ...           1.000000e+00\n",
              "min     10001.000000  ...          -2.058862e+00\n",
              "25%     50997.500000  ...          -7.471426e-01\n",
              "50%     91994.000000  ...          -1.350069e-01\n",
              "75%    132990.500000  ...           5.645768e-01\n",
              "max    173987.000000  ...           3.068467e+00\n",
              "\n",
              "[8 rows x 18 columns]"
            ]
          },
          "metadata": {},
          "execution_count": 11
        }
      ],
      "source": [
        "raw.describe()"
      ]
    },
    {
      "cell_type": "code",
      "execution_count": null,
      "metadata": {
        "colab": {
          "base_uri": "https://localhost:8080/"
        },
        "id": "DAvI6FW7T8Pf",
        "outputId": "84c14909-d6eb-4fa3-c007-1d63e9bc1adf"
      },
      "outputs": [
        {
          "output_type": "stream",
          "name": "stdout",
          "text": [
            "[-1.01918221 -1.33470843 -1.34732948 ... -0.03158515  1.83948532\n",
            "  0.49534363]\n"
          ]
        }
      ],
      "source": [
        "# select target column\n",
        "y = raw[Y].values\n",
        "print(y)"
      ]
    },
    {
      "cell_type": "code",
      "execution_count": null,
      "metadata": {
        "id": "veqkfXVYT8Ph"
      },
      "outputs": [],
      "source": [
        "# create input matrix\n",
        "# add an additional column of 1's for intercept \n",
        "# by overlaying inputs onto matrix of 1's\n",
        "numeric = raw.drop(DROPS + [Y], axis=1).values\n",
        "N, p = numeric.shape\n",
        "X = np.ones(shape=(N, p + 1))\n",
        "X[:,1:] = numeric "
      ]
    },
    {
      "cell_type": "markdown",
      "metadata": {
        "id": "2BOSeWB7T8Pi"
      },
      "source": [
        "### Linear Regression by Solving the Normal Equation "
      ]
    },
    {
      "cell_type": "markdown",
      "metadata": {
        "id": "DPr9ATN9T8Pi"
      },
      "source": [
        "\\begin{equation}\n",
        "X\\hat{\\beta} = y \n",
        "\\end{equation}\n",
        "\n",
        "\\begin{equation}\n",
        "\\hat{\\beta} = (X^{T}X)^{-1}X^Ty\n",
        "\\end{equation}\n",
        "\n",
        "The normal equation estimates coefficients that globally minimize the squared error between a rectangular input data matrix $X$ and a column vector of target values $y$. I.e. it presents an optimal solution to an underspecified set of linear equations."
      ]
    },
    {
      "cell_type": "code",
      "execution_count": null,
      "metadata": {
        "colab": {
          "base_uri": "https://localhost:8080/"
        },
        "id": "1bFqxVttT8Pl",
        "outputId": "8ab86e50-445d-46ba-dd9b-cf3d0a8343ed"
      },
      "outputs": [
        {
          "output_type": "stream",
          "name": "stdout",
          "text": [
            "Model parameters:\n",
            " [-0.00953184  0.04949174  0.4184344  -0.04237427  0.08966404  0.0301429\n",
            "  0.08011731  0.05023822  0.01554239  0.31239211  0.04139277]\n"
          ]
        }
      ],
      "source": [
        "X_transpose = np.transpose(X)\n",
        "beta_hat = np.linalg.inv(X_transpose.dot(X))\n",
        "beta_hat = beta_hat.dot(X_transpose)\n",
        "beta_hat = beta_hat.dot(y)\n",
        "print('Model parameters:\\n', beta_hat)"
      ]
    },
    {
      "cell_type": "markdown",
      "metadata": {
        "id": "YaCdV8XNT8Pl"
      },
      "source": [
        "### Basic Gradient Descent Routines with L2 (\"Ridge\"/\"Tikhonov\") Regularization\n",
        "\\begin{equation}\n",
        "\\tilde{\\beta} = \\underset{\\beta}{argmin}\\sum_{i=0}^{N-1} (y^{(i)} - \\beta_0 - \\sum_{j=0}^{P-1}\\beta x_j)^2 + \\lambda\\sum_{j=0}^{P-1} \\beta^2_j\n",
        "\\end{equation}"
      ]
    },
    {
      "cell_type": "markdown",
      "metadata": {
        "id": "6cI0W7x-T8Pm"
      },
      "source": [
        "#### Define squared loss function\n",
        "* For linear regression, we directly minimize the squared distance between the regression plane and points in the conditional distribution of **y** given **X**.\n",
        "* Direct minimization of the squared loss function is typically preferred to solving the normal equation directly due to numerical stability and scalability issues.\n",
        "* It is convenient to use a scaled mean squared error (MSE) formula:\n",
        "\\begin{equation}\n",
        "\\frac{1}{2N}\\sum_{i=0}^{N-1} (y^{(i)} - \\beta_0 - \\sum_{j=0}^{P-1}\\beta x_j)^2 + \\lambda\\sum_{j=0}^{P-1} \\beta^2_j\n",
        "\\end{equation}"
      ]
    },
    {
      "cell_type": "code",
      "execution_count": null,
      "metadata": {
        "id": "FBoNwMDDT8Pn"
      },
      "outputs": [],
      "source": [
        "def squared_loss(n, x, y, betas, lambda_=0):\n",
        "    \n",
        "    \"\"\" Squared loss function for multiple linear regression.\n",
        "    \n",
        "    :param n: Number of rows in x.\n",
        "    :param x: Matrix of numeric inputs.\n",
        "    :param y: Vector of known target values.\n",
        "    :param beta: Vector of current model parameters.\n",
        "    :param lambda_: Scale factor for L2 regularization, default 0.\n",
        "    :return: Scalar MSE value.    \n",
        "    \n",
        "    \"\"\"\n",
        "    \n",
        "    yhat = x.dot(betas)\n",
        "        \n",
        "    return (1 / (2 * n)) * (((y - yhat)**2).sum() + lambda_ * (betas**2).sum())"
      ]
    },
    {
      "cell_type": "markdown",
      "metadata": {
        "id": "xVxfYouiT8Po"
      },
      "source": [
        "#### Define gradient of loss function\n",
        "* The derivative of the loss function w.r.t the model parameters is used to update model parameters at each gradient descent step.\n",
        "* The gradient of our MSE loss function is trivial:"
      ]
    },
    {
      "cell_type": "code",
      "execution_count": null,
      "metadata": {
        "id": "fN8hFi6OT8Pq"
      },
      "outputs": [],
      "source": [
        "def grad(n, y, yhat, x, beta_j, lambda_=0):\n",
        "    \n",
        "    \"\"\" Analytical gradient of scaled MSE loss function with L2 regularization.\n",
        "    \n",
        "    :param n: Number of rows in X.\n",
        "    :param y: Vector of known target values.\n",
        "    :param yhat: Vector of predicted target values.\n",
        "    :param x: Vector of input values.\n",
        "    :param beta_j: Model parameter for which to calculate gradient.\n",
        "    :param lambda_: Scale factor for L2 regularization, default 0.\n",
        "    :return: Vector of gradient values.\n",
        "    \n",
        "    \"\"\"\n",
        "    \n",
        "    return (1 / n) * (x * (yhat - y) + (lambda_ * beta_j))"
      ]
    },
    {
      "cell_type": "markdown",
      "metadata": {
        "id": "QRJVL1MsT8Pr"
      },
      "source": [
        "#### Define function for executing gradient descent minimization\n",
        "For each gradient descent step:\n",
        "* Predictions are made using the current model parameters.\n",
        "* The gradient is calculated for each model pararmeter.\n",
        "* The gradient is used in combination with the learning rate to update each parameter."
      ]
    },
    {
      "cell_type": "code",
      "execution_count": null,
      "metadata": {
        "id": "jdbGCNART8Pr"
      },
      "outputs": [],
      "source": [
        "def grad_descent(X, y, learn_rate, max_iters, sgd_mini_batch_n=0, lambda_=0):\n",
        "    \n",
        "    \"\"\" Routine for executing simple gradient descent with stochastic gradient descent option.\n",
        "    \n",
        "    :param X: Matrix of numeric data.\n",
        "    :param y: Vector of known target values.\n",
        "    :param learn_rate: Learning rate.\n",
        "    :param max_iters: Maximum number of gradient descent steps to perform.\n",
        "    :param sgd_mini_batch_n: Minibatch size for sgd optimization.\n",
        "                             If > 0 minibatch stochastic gradient descent is performed.\n",
        "    :param lambda_: Scale factor for L2 regularization, default 0.\n",
        "    \n",
        "    \"\"\"\n",
        "\n",
        "    tic = time.time()               # start timer\n",
        "    n_betas = X.shape[1]            # number of model parameters including bias    \n",
        "    betas = np.zeros(shape=n_betas) # parameters start with value of 0\n",
        "    n = y.shape[0]                  # number of rows in X\n",
        "    \n",
        "    # Pandas dataframe for iteration history\n",
        "    iteration_frame = pd.DataFrame(columns=['Iteration', 'Loss'])\n",
        "\n",
        "    print('Iteration history:')\n",
        "    \n",
        "    # loop for gradient descent steps\n",
        "    for i in range(max_iters):\n",
        "        \n",
        "        # stochastic gradient descent\n",
        "        if sgd_mini_batch_n > 0:\n",
        "            \n",
        "            samp_idx = np.random.randint(n, size=sgd_mini_batch_n)\n",
        "            X_samp = X[samp_idx, :]\n",
        "            y_samp = y[samp_idx]\n",
        "            n_samp = X_samp.shape[0]\n",
        "            yhat_samp = X_samp.dot(betas) # model predictions for iteration\n",
        "\n",
        "            # loop for column-wise parameter updates\n",
        "            for j in range(n_betas):\n",
        "\n",
        "                # select column\n",
        "                # calculate column-wise gradient\n",
        "                # update corresponding parameter based on negative gradient\n",
        "                # calculate loss\n",
        "\n",
        "                xj_samp = X_samp[:, j]\n",
        "                beta_j = betas[j]\n",
        "                xj_grad_samp = grad(n_samp, y_samp, yhat_samp, xj_samp, beta_j, lambda_)\n",
        "                betas[j] = betas[j] - learn_rate * xj_grad_samp.sum()\n",
        "                iter_loss = squared_loss(n_samp, X_samp, y_samp, betas, lambda_)\n",
        "        \n",
        "        # standard gradient descent\n",
        "        else:\n",
        "            \n",
        "            yhat = X.dot(betas) # model predictions for iteration\n",
        "\n",
        "            # loop for column-wise parameter updates\n",
        "            for j in range(n_betas):\n",
        "                xj = X[:, j]\n",
        "                beta_j = betas[j]\n",
        "                xj_grad = grad(n, y, yhat, xj, beta_j, lambda_)\n",
        "                betas[j] = betas[j] - learn_rate * xj_grad.sum()\n",
        "                iter_loss = squared_loss(n, X, y, betas, lambda_)\n",
        "        \n",
        "        # update loss history\n",
        "        iteration_frame = iteration_frame.append({'Iteration': i,\n",
        "                                                  'Loss':  iter_loss}, \n",
        "                                                  ignore_index=True)        \n",
        "        # progress indicator \n",
        "        if i % 1000 == 0:\n",
        "            print('iter=%d loss=%.6f' % (i, iter_loss))\n",
        "        \n",
        "        # convergence check\n",
        "        if i > 0:\n",
        "            if np.abs(iteration_frame.iat[i-1, 1] - iteration_frame.iat[i, 1]) < CONV:\n",
        "                break\n",
        "\n",
        "    # output \n",
        "    %matplotlib inline\n",
        "    iteration_frame.plot.line(title='Iteration Plot', x='Iteration', y='Loss')\n",
        "    print()           \n",
        "    print('Model parameters at iteration ' + str(i) + ':')\n",
        "    print(betas)\n",
        "    print()\n",
        "    print('Model trained in %.2f s.' % (time.time()-tic))\n"
      ]
    },
    {
      "cell_type": "markdown",
      "metadata": {
        "id": "4RN1CE3MT8Ps"
      },
      "source": [
        "#### Execute gradient descent"
      ]
    },
    {
      "cell_type": "code",
      "execution_count": null,
      "metadata": {
        "colab": {
          "base_uri": "https://localhost:8080/",
          "height": 439
        },
        "id": "qJyrGm0JT8Pt",
        "outputId": "9618d81d-f64c-4174-d54a-2db0727830b5"
      },
      "outputs": [
        {
          "output_type": "stream",
          "name": "stdout",
          "text": [
            "Iteration history:\n",
            "iter=0 loss=0.472967\n",
            "\n",
            "Model parameters at iteration 709:\n",
            "[-0.00946269  0.04918263  0.41842662 -0.04237465  0.08967229  0.03014185\n",
            "  0.08014273  0.05024078  0.01554251  0.3123994   0.04138562]\n",
            "\n",
            "Model trained in 47.20 s.\n"
          ]
        },
        {
          "output_type": "display_data",
          "data": {
            "image/png": "[encoded data removed]",
            "text/plain": [
              "<Figure size 432x288 with 1 Axes>"
            ]
          },
          "metadata": {
            "needs_background": "light"
          }
        }
      ],
      "source": [
        "grad_descent(X, y, LEARN_RATE, MAX_ITERS)"
      ]
    },
    {
      "cell_type": "markdown",
      "metadata": {
        "id": "PFOjM7AuT8Pt"
      },
      "source": [
        "#### Execute L2 penalized gradient descent"
      ]
    },
    {
      "cell_type": "code",
      "execution_count": null,
      "metadata": {
        "colab": {
          "base_uri": "https://localhost:8080/",
          "height": 439
        },
        "id": "88Y7g76pT8Pt",
        "outputId": "ba250e04-8620-4503-c942-84199f1688d1"
      },
      "outputs": [
        {
          "output_type": "stream",
          "name": "stdout",
          "text": [
            "Iteration history:\n",
            "iter=0 loss=0.472967\n",
            "\n",
            "Model parameters at iteration 962:\n",
            "[-0.00887026  0.04652247  0.41326281 -0.04186768  0.08725817  0.03035732\n",
            "  0.08097103  0.050572    0.01624763  0.30948716  0.04325793]\n",
            "\n",
            "Model trained in 65.22 s.\n"
          ]
        },
        {
          "output_type": "display_data",
          "data": {
            "image/png": "[encoded data removed]",
            "text/plain": [
              "<Figure size 432x288 with 1 Axes>"
            ]
          },
          "metadata": {
            "needs_background": "light"
          }
        }
      ],
      "source": [
        "grad_descent(X, y, LEARN_RATE, MAX_ITERS, lambda_=0.01)"
      ]
    },
    {
      "cell_type": "markdown",
      "metadata": {
        "id": "oIZ576GfT8Pv"
      },
      "source": [
        "#### Execute stochastic gradient descent"
      ]
    },
    {
      "cell_type": "code",
      "execution_count": null,
      "metadata": {
        "colab": {
          "base_uri": "https://localhost:8080/",
          "height": 600
        },
        "id": "Ouzx2ZQTT8Pv",
        "outputId": "5e527e15-3870-47d1-d46d-2ac4b7b5da72"
      },
      "outputs": [
        {
          "output_type": "stream",
          "name": "stdout",
          "text": [
            "Iteration history:\n",
            "iter=0 loss=0.439249\n",
            "iter=1000 loss=0.320123\n",
            "iter=2000 loss=0.315571\n",
            "iter=3000 loss=0.310116\n",
            "iter=4000 loss=0.337577\n",
            "iter=5000 loss=0.292644\n",
            "iter=6000 loss=0.289687\n",
            "iter=7000 loss=0.301630\n",
            "iter=8000 loss=0.343404\n",
            "iter=9000 loss=0.321595\n",
            "\n",
            "Model parameters at iteration 9999:\n",
            "[-0.00232352  0.04909765  0.41894127 -0.04403398  0.08710958  0.02783919\n",
            "  0.08525565  0.05318875  0.01350517  0.30850027  0.03727043]\n",
            "\n",
            "Model trained in 37.36 s.\n"
          ]
        },
        {
          "output_type": "display_data",
          "data": {
            "image/png": "[encoded data removed]",
            "text/plain": [
              "<Figure size 432x288 with 1 Axes>"
            ]
          },
          "metadata": {
            "needs_background": "light"
          }
        }
      ],
      "source": [
        "grad_descent(X, y, LEARN_RATE, MAX_ITERS, sgd_mini_batch_n=1000)"
      ]
    },
    {
      "cell_type": "markdown",
      "metadata": {
        "id": "s6V0juGfT8Pv"
      },
      "source": [
        "#### Execute L2 penalized stochastic gradient descent"
      ]
    },
    {
      "cell_type": "code",
      "execution_count": null,
      "metadata": {
        "colab": {
          "base_uri": "https://localhost:8080/",
          "height": 600
        },
        "id": "xwnW23a0T8Pw",
        "outputId": "aa45345e-07a7-4e73-df64-c11835e3e692"
      },
      "outputs": [
        {
          "output_type": "stream",
          "name": "stdout",
          "text": [
            "Iteration history:\n",
            "iter=0 loss=0.522797\n",
            "iter=1000 loss=0.291220\n",
            "iter=2000 loss=0.304839\n",
            "iter=3000 loss=0.306702\n",
            "iter=4000 loss=0.328873\n",
            "iter=5000 loss=0.304997\n",
            "iter=6000 loss=0.308997\n",
            "iter=7000 loss=0.322125\n",
            "iter=8000 loss=0.325605\n",
            "iter=9000 loss=0.317328\n",
            "\n",
            "Model parameters at iteration 9999:\n",
            "[-0.00566562  0.0475607   0.42188972 -0.04180237  0.08237843  0.02679364\n",
            "  0.07306504  0.0479515   0.01217848  0.31191062  0.04560815]\n",
            "\n",
            "Model trained in 38.61 s.\n"
          ]
        },
        {
          "output_type": "display_data",
          "data": {
            "image/png": "[encoded data removed]",
            "text/plain": [
              "<Figure size 432x288 with 1 Axes>"
            ]
          },
          "metadata": {
            "needs_background": "light"
          }
        }
      ],
      "source": [
        "grad_descent(X, y, LEARN_RATE, MAX_ITERS, lambda_=0.01, sgd_mini_batch_n=1000)"
      ]
    },
    {
      "cell_type": "markdown",
      "metadata": {
        "id": "NUGpY9uCT8Pw"
      },
      "source": [
        "### Use h2o to check model parameters"
      ]
    },
    {
      "cell_type": "code",
      "execution_count": null,
      "metadata": {
        "colab": {
          "base_uri": "https://localhost:8080/",
          "height": 699
        },
        "id": "vh1_CH3KT8Pw",
        "outputId": "96e32237-71bf-4660-a699-6f1a8f596ba2"
      },
      "outputs": [
        {
          "output_type": "stream",
          "name": "stdout",
          "text": [
            "Checking whether there is an H2O instance running at http://localhost:54321 . connected.\n"
          ]
        },
        {
          "output_type": "display_data",
          "data": {
            "text/html": [
              "<div style=\"overflow:auto\"><table style=\"width:50%\"><tr><td>H2O_cluster_uptime:</td>\n",
              "<td>15 secs</td></tr>\n",
              "<tr><td>H2O_cluster_timezone:</td>\n",
              "<td>Etc/UTC</td></tr>\n",
              "<tr><td>H2O_data_parsing_timezone:</td>\n",
              "<td>UTC</td></tr>\n",
              "<tr><td>H2O_cluster_version:</td>\n",
              "<td>3.34.0.7</td></tr>\n",
              "<tr><td>H2O_cluster_version_age:</td>\n",
              "<td>1 month </td></tr>\n",
              "<tr><td>H2O_cluster_name:</td>\n",
              "<td>H2O_from_python_unknownUser_4uoy5r</td></tr>\n",
              "<tr><td>H2O_cluster_total_nodes:</td>\n",
              "<td>1</td></tr>\n",
              "<tr><td>H2O_cluster_free_memory:</td>\n",
              "<td>3.172 Gb</td></tr>\n",
              "<tr><td>H2O_cluster_total_cores:</td>\n",
              "<td>2</td></tr>\n",
              "<tr><td>H2O_cluster_allowed_cores:</td>\n",
              "<td>2</td></tr>\n",
              "<tr><td>H2O_cluster_status:</td>\n",
              "<td>locked, healthy</td></tr>\n",
              "<tr><td>H2O_connection_url:</td>\n",
              "<td>http://localhost:54321</td></tr>\n",
              "<tr><td>H2O_connection_proxy:</td>\n",
              "<td>{\"http\": null, \"https\": null}</td></tr>\n",
              "<tr><td>H2O_internal_security:</td>\n",
              "<td>False</td></tr>\n",
              "<tr><td>H2O_API_Extensions:</td>\n",
              "<td>Amazon S3, XGBoost, Algos, AutoML, Core V3, TargetEncoder, Core V4</td></tr>\n",
              "<tr><td>Python_version:</td>\n",
              "<td>3.7.12 final</td></tr></table></div>"
            ],
            "text/plain": [
              "--------------------------  ------------------------------------------------------------------\n",
              "H2O_cluster_uptime:         15 secs\n",
              "H2O_cluster_timezone:       Etc/UTC\n",
              "H2O_data_parsing_timezone:  UTC\n",
              "H2O_cluster_version:        3.34.0.7\n",
              "H2O_cluster_version_age:    1 month\n",
              "H2O_cluster_name:           H2O_from_python_unknownUser_4uoy5r\n",
              "H2O_cluster_total_nodes:    1\n",
              "H2O_cluster_free_memory:    3.172 Gb\n",
              "H2O_cluster_total_cores:    2\n",
              "H2O_cluster_allowed_cores:  2\n",
              "H2O_cluster_status:         locked, healthy\n",
              "H2O_connection_url:         http://localhost:54321\n",
              "H2O_connection_proxy:       {\"http\": null, \"https\": null}\n",
              "H2O_internal_security:      False\n",
              "H2O_API_Extensions:         Amazon S3, XGBoost, Algos, AutoML, Core V3, TargetEncoder, Core V4\n",
              "Python_version:             3.7.12 final\n",
              "--------------------------  ------------------------------------------------------------------"
            ]
          },
          "metadata": {}
        },
        {
          "output_type": "stream",
          "name": "stdout",
          "text": [
            "Parse progress: |████████████████████████████████████████████████████████████████| (done) 100%\n",
            "glm Model Build progress: |██████████████████████████████████████████████████████| (done) 100%\n",
            "\n",
            "Model parameters:\n",
            "Intercept -0.009531837795375258\n",
            "bad_loan 0.04949173616041542\n",
            "STD_IMP_REP_annual_inc 0.41843440383336206\n",
            "STD_IMP_REP_delinq_2yrs -0.04237426505134592\n",
            "STD_IMP_REP_dti 0.08966404330350629\n",
            "STD_IMP_REP_emp_length 0.0301429030204786\n",
            "STD_IMP_REP_int_rate 0.08011731349761636\n",
            "STD_IMP_REP_longest_credit_lengt 0.05023821933457022\n",
            "STD_IMP_REP_revol_util 0.015542387042662822\n",
            "STD_IMP_REP_term_length 0.31239210762624064\n",
            "STD_IMP_REP_total_acc 0.0413927677379069\n",
            "\n",
            "H2O session _sid_b3f1 closed.\n"
          ]
        }
      ],
      "source": [
        "# start h2o\n",
        "h2o.init()\n",
        "\n",
        "DROPS = ['id', 'GRP_REP_home_ownership', 'GRP_addr_state', 'GRP_home_ownership',\n",
        "         'GRP_purpose', 'GRP_verification_status', '_WARN_']\n",
        "\n",
        "# numeric columns \n",
        "train = h2o.H2OFrame(raw)\n",
        "train = train.drop(DROPS)\n",
        "X = train.col_names\n",
        "\n",
        "# initialize non-penalized GLM model\n",
        "loan_glm = H2OGeneralizedLinearEstimator(family='gaussian',      # uses squared error\n",
        "                                         solver='IRLSM',         # necessary for non-penalized GLM\n",
        "                                         standardize=False,      # data is already standardized\n",
        "                                         compute_p_values=True,  # necessary for non-penalized GLM \n",
        "                                         lambda_=0)              # necessary for non-penalized GLM\n",
        "\n",
        "# train \n",
        "loan_glm.train(train.col_names, Y, training_frame=train)\n",
        "\n",
        "# print trained model info\n",
        "print() \n",
        "print('Model parameters:')\n",
        "for name, val in loan_glm.coef().items():\n",
        "    print(name, val)\n",
        "print()\n",
        "\n",
        "# shutdown h2o\n",
        "h2o.cluster().shutdown()"
      ]
    }
  ],
  "metadata": {
    "anaconda-cloud": {},
    "kernelspec": {
      "display_name": "Python 3",
      "language": "python",
      "name": "python3"
    },
    "language_info": {
      "codemirror_mode": {
        "name": "ipython",
        "version": 3
      },
      "file_extension": ".py",
      "mimetype": "text/x-python",
      "name": "python",
      "nbconvert_exporter": "python",
      "pygments_lexer": "ipython3",
      "version": "3.6.4"
    },
    "colab": {
      "name": "L2_gradient_descent.ipynb",
      "provenance": []
    }
  },
  "nbformat": 4,
  "nbformat_minor": 0
}
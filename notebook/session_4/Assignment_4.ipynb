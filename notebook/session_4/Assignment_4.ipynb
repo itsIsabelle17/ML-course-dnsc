{
  "cells": [
    {
      "cell_type": "markdown",
      "metadata": {
        "id": "IWnt46AmT8PH"
      },
      "source": [
        "# License \n",
        "***\n",
        "Copyright (C) 2017 -- 2022 J. Patrick Hall, jphall@gwu.edu\n",
        "\n",
        "Permission is hereby granted, free of charge, to any person obtaining a copy of this software and associated documentation files (the \"Software\"), to deal in the Software without restriction, including without limitation the rights to use, copy, modify, merge, publish, distribute, sublicense, and/or sell copies of the Software, and to permit persons to whom the Software is furnished to do so, subject to the following conditions:\n",
        "\n",
        "The above copyright notice and this permission notice shall be included in all copies or substantial portions of the Software.\n",
        "\n",
        "THE SOFTWARE IS PROVIDED \"AS IS\", WITHOUT WARRANTY OF ANY KIND, EXPRESS OR IMPLIED, INCLUDING BUT NOT LIMITED TO THE WARRANTIES OF MERCHANTABILITY, FITNESS FOR A PARTICULAR PURPOSE AND NONINFRINGEMENT. IN NO EVENT SHALL THE AUTHORS OR COPYRIGHT HOLDERS BE LIABLE FOR ANY CLAIM, DAMAGES OR OTHER LIABILITY, WHETHER IN AN ACTION OF CONTRACT, TORT OR OTHERWISE, ARISING FROM, OUT OF OR IN CONNECTION WITH THE SOFTWARE OR THE USE OR OTHER DEALINGS IN THE SOFTWARE."
      ]
    },
    {
      "cell_type": "markdown",
      "metadata": {
        "id": "KVn5YXd2V-kU"
      },
      "source": [
        "## Installs and Imports"
      ]
    },
    {
      "cell_type": "markdown",
      "metadata": {
        "id": "YOR1L6Y1qiys"
      },
      "source": [
        "1. Standard Python imports"
      ]
    },
    {
      "cell_type": "code",
      "execution_count": null,
      "metadata": {
        "id": "pvTkpRwET8PS"
      },
      "outputs": [],
      "source": [
        "import pandas as pd # import pandas for easy data manipulation using data frames\n",
        "\n",
        "from matplotlib import pyplot as plt # plotting\n",
        "import numpy as np                   # basic array and matric handling\n",
        "\n",
        "from sklearn import tree                                  # sklearn tree model for decision trees\n",
        "from sklearn.model_selection import train_test_split      # for partitioning data\n",
        "from sklearn.model_selection import cross_val_score       # for cross validation\n",
        "from sklearn.metrics import roc_auc_score, accuracy_score # to assess decision tree perforamce\n",
        "\n",
        "# to upload local files\n",
        "import io\n",
        "from google.colab import files  \n",
        "\n",
        "SEED = 12345 # seed for better reproducibility"
      ]
    },
    {
      "cell_type": "markdown",
      "metadata": {
        "id": "aRjuduSaWD1K"
      },
      "source": [
        "## Load example data"
      ]
    },
    {
      "cell_type": "markdown",
      "metadata": {
        "id": "IFdzLsXSq1vw"
      },
      "source": [
        "2. Upload class example data"
      ]
    },
    {
      "cell_type": "code",
      "execution_count": null,
      "metadata": {
        "id": "AWUunZLpVTiR"
      },
      "outputs": [],
      "source": [
        "# special google collab command to upload a file from computer\n",
        "uploaded = files.upload() # REQUIRES STUDENT INPUT"
      ]
    },
    {
      "cell_type": "code",
      "execution_count": null,
      "metadata": {
        "id": "O3oh8A5gWIcu"
      },
      "outputs": [],
      "source": [
        "# 3\n",
        "uploaded.keys() # what is stored in that Python object?"
      ]
    },
    {
      "cell_type": "markdown",
      "metadata": {
        "id": "X8JqTohvq70h"
      },
      "source": [
        "4. Covert to Pandas DataFrame"
      ]
    },
    {
      "cell_type": "code",
      "execution_count": null,
      "metadata": {
        "id": "5MxbxgL2WYza"
      },
      "outputs": [],
      "source": [
        "# convert data to Pandas DataFrame\n",
        "raw = pd.read_csv(io.StringIO(uploaded['loan_clean.csv'].decode('utf-8'))) # name in quotes here must match name in quotes directly above "
      ]
    },
    {
      "cell_type": "markdown",
      "source": [
        "## Split training data into three partitions for improved model selection\""
      ],
      "metadata": {
        "id": "_VHhtn1cY3IL"
      }
    },
    {
      "cell_type": "markdown",
      "source": [
        "5. Set modeling roles based on feature names"
      ],
      "metadata": {
        "id": "AfHyYryaap9N"
      }
    },
    {
      "cell_type": "code",
      "execution_count": null,
      "metadata": {
        "id": "oGaK5VDxT8PX"
      },
      "outputs": [],
      "source": [
        "x_names = ['GRP_REP_home_ownership', 'GRP_addr_state', 'GRP_purpose', 'GRP_verification_status', \n",
        "           'STD_IMP_REP_annual_inc',\t'STD_IMP_REP_delinq_2yrs',\t 'STD_IMP_REP_dti', \n",
        "           'STD_IMP_REP_emp_length', 'STD_IMP_REP_int_rate', 'STD_IMP_REP_loan_amnt', \n",
        "           'STD_IMP_REP_longest_credit_lengt', 'STD_IMP_REP_revol_util', 'STD_IMP_REP_term_length', \n",
        "           'STD_IMP_REP_total_acc']\n",
        "y_name = 'bad_loan'"
      ]
    },
    {
      "cell_type": "markdown",
      "source": [
        "6. Create train, valid, and test partitions for honest assessment"
      ],
      "metadata": {
        "id": "pcCwB9kzbjWW"
      }
    },
    {
      "cell_type": "code",
      "source": [
        "# ALWAYS set a random seed when working with randomness\n",
        "# REQUIRES STUDENT INPUT\n",
        "train_X, valid_test_X, train_y, valid_test_y = train_test_split(raw[x_names], raw[y_name], test_size=0.5, random_state=) # split off training data\n",
        "valid_X, test_X, valid_y, test_y = train_test_split(valid_test_X, valid_test_y, test_size=0.5, random_state=) # split remainder into validation and test\n",
        "\n",
        "# summarize \n",
        "print('Training data: %i rows and %i columns' % (train_X.shape[0], train_X.shape[1] + 1))\n",
        "print('Validation data: %i rows and %i columns' % (valid_X.shape[0], valid_X.shape[1] + 1))\n",
        "print('Testing data: %i rows and %i columns' % (test_X.shape[0], test_X.shape[1] + 1))\n",
        "\n",
        "# test that splits sum to original data size\n",
        "assert(raw.shape[0] == train_X.shape[0] + valid_X.shape[0] + test_X.shape[0]) \n",
        "assert(raw.shape[0] == train_y.shape[0] + valid_y.shape[0] + test_y.shape[0]) "
      ],
      "metadata": {
        "id": "gD60BqKOZCX0"
      },
      "execution_count": null,
      "outputs": []
    },
    {
      "cell_type": "markdown",
      "metadata": {
        "id": "Bkgid47Aea1f"
      },
      "source": [
        "7. Train decision tree model to predict loan default with validation data"
      ]
    },
    {
      "cell_type": "code",
      "source": [
        "# train decision tree \n",
        "# with validation-based early stopping\n",
        "max_depth = 12\n",
        "candidate_models = {}\n",
        "\n",
        "for depth in range(0, max_depth):\n",
        "\n",
        "  # fit tree at a certain depth\n",
        "  # REQUIRES STUDENT INPUT\n",
        "  clf = tree.DecisionTreeClassifier(max_depth = depth + 1, random_state=)\n",
        "  clf.fit(train_X, train_y)\n",
        "\n",
        "  # calculate AUC\n",
        "  train_phat = clf.predict_proba(train_X)[:, 1] # score current tree on trainig data\n",
        "  valid_phat = clf.predict_proba(valid_X)[:, 1] # score current tree on validation data\n",
        "  train_auc = roc_auc_score(train_y, train_phat) # train AUC\n",
        "  valid_auc = roc_auc_score(valid_y, valid_phat) # validation AUC\n",
        "\n",
        "  # calculate cross-validation metrics\n",
        "  # to assess stability\n",
        "  cv_scores = cross_val_score(clf, valid_X, valid_y, scoring='roc_auc', cv=5)\n",
        "  cv_std = np.std(cv_scores)\n",
        "\n",
        "  # store information about current tree\n",
        "  candidate_models[depth + 1] = {}\n",
        "  candidate_models[depth + 1]['Model'] = clf\n",
        "  candidate_models[depth + 1]['Training AUC'] = train_auc\n",
        "  candidate_models[depth + 1]['Validation AUC'] = valid_auc\n",
        "  candidate_models[depth + 1]['5-Fold SD'] = cv_std\n"
      ],
      "metadata": {
        "id": "q5pAblDOZC1g"
      },
      "execution_count": null,
      "outputs": []
    },
    {
      "cell_type": "markdown",
      "source": [
        "8. Generate iteration plot based on AUC"
      ],
      "metadata": {
        "id": "lB5OI_jZcRN0"
      }
    },
    {
      "cell_type": "code",
      "source": [
        "# plot tree depth vs. training and validation AUC\n",
        "# using simple pandas plotting and matplotlib\n",
        "candidate_results = pd.DataFrame.from_dict(candidate_models, orient='index')\n",
        "fig, ax = plt.subplots(figsize=(8, 8))\n",
        "_ = candidate_results[['Training AUC', 'Validation AUC']].plot(title='Iteration Plot',\n",
        "                                                               ax=ax)\n",
        "_ = ax.set_xlabel('Tree Depth')\n",
        "_ = ax.set_ylabel('AUC')\n",
        "\n",
        "print(candidate_results.iloc[:, 1:])"
      ],
      "metadata": {
        "id": "c5bbaBocaI01"
      },
      "execution_count": null,
      "outputs": []
    },
    {
      "cell_type": "markdown",
      "source": [
        "9. Select the best model based on the iteration plot"
      ],
      "metadata": {
        "id": "iAOkDOxedzi6"
      }
    },
    {
      "cell_type": "code",
      "source": [
        "best_model = candidate_models[]['Model'] # REQUIRES STUDENT INPUT"
      ],
      "metadata": {
        "id": "pWc8_i5Uav9o"
      },
      "execution_count": null,
      "outputs": []
    },
    {
      "cell_type": "markdown",
      "source": [
        "10. Visualize entire tree"
      ],
      "metadata": {
        "id": "gmFXu8Mycawc"
      }
    },
    {
      "cell_type": "code",
      "source": [
        "# plot the tree for human interpretation\n",
        "fig = plt.figure(figsize=(400, 70))\n",
        "_ = tree.plot_tree(best_model,\n",
        "                   feature_names=x_names,\n",
        "                   class_names=['Good Loan', 'Bad Loan'],\n",
        "                   filled=True)"
      ],
      "metadata": {
        "id": "oV8ipZKmdxtf"
      },
      "execution_count": null,
      "outputs": []
    },
    {
      "cell_type": "markdown",
      "source": [
        "11. Plot feature importance"
      ],
      "metadata": {
        "id": "1W63iVA6cgZF"
      }
    },
    {
      "cell_type": "code",
      "source": [
        "# plot variable importances\n",
        "# create pandas dataframe\n",
        "# plot dataframe values\n",
        "importances = pd.DataFrame(best_model.feature_importances_,\n",
        "                           index=x_names,\n",
        "                           columns=['Importance'])\n",
        "_ = importances.sort_values(by='Importance').plot(kind='barh', title='Variable Importance', legend=False)"
      ],
      "metadata": {
        "id": "NDyqOYoNa5Rk"
      },
      "execution_count": null,
      "outputs": []
    },
    {
      "cell_type": "markdown",
      "source": [
        "12. Use test performance to estimate real-world performance"
      ],
      "metadata": {
        "id": "0Sb_SA9BcljF"
      }
    },
    {
      "cell_type": "code",
      "source": [
        "# score on test data for \n",
        "# final HONEST assessment\n",
        "# this is not to see how well the model *did*!\n",
        "# it's to get an assessment of how it *will do* on unseen data!\n",
        "test_phat = best_model.predict_proba(test_X)[:, 1]\n",
        "print('Test AUC: %.4f' % roc_auc_score(test_y, test_phat))"
      ],
      "metadata": {
        "id": "4bSD-ucObJRd"
      },
      "execution_count": null,
      "outputs": []
    },
    {
      "cell_type": "markdown",
      "source": [
        "13. Generate a prediction for a new customer"
      ],
      "metadata": {
        "id": "TFE7ZrWptGww"
      }
    },
    {
      "cell_type": "code",
      "source": [
        "# predict on new data -- REQUIRES STUDENT INPUT\n",
        "new_row = pd.DataFrame.from_dict({\n",
        "  \"GRP_REP_home_ownership\": [],\n",
        "  \"GRP_addr_state\": [],\n",
        "  \"GRP_purpose\": [],\n",
        "  \"GRP_verification_status\": [],\n",
        "  \"STD_IMP_REP_annual_inc\": [],\n",
        "  \"STD_IMP_REP_delinq_2yrs\": [],\n",
        "  \"STD_IMP_REP_dti\": [],\n",
        "  \"STD_IMP_REP_emp_length\": [],\n",
        "  \"STD_IMP_REP_int_rate\": [],\n",
        "  \"STD_IMP_REP_loan_amnt\": [],\n",
        "  \"STD_IMP_REP_longest_credit_lengt\": [],\n",
        "  \"STD_IMP_REP_revol_util\": [],\n",
        "  \"STD_IMP_REP_term_length\":[],\n",
        "  \"STD_IMP_REP_total_acc\": []},\n",
        "  orient='columns')\n",
        "\n",
        "# generate prediction -- REQUIRES STUDENT INPUT\n"
      ],
      "metadata": {
        "id": "qTIDheZ3tFTe"
      },
      "execution_count": null,
      "outputs": []
    }
  ],
  "metadata": {
    "anaconda-cloud": {},
    "colab": {
      "collapsed_sections": [],
      "name": "Assignment 4.ipynb",
      "provenance": []
    },
    "kernelspec": {
      "display_name": "Python 3",
      "language": "python",
      "name": "python3"
    },
    "language_info": {
      "codemirror_mode": {
        "name": "ipython",
        "version": 3
      },
      "file_extension": ".py",
      "mimetype": "text/x-python",
      "name": "python",
      "nbconvert_exporter": "python",
      "pygments_lexer": "ipython3",
      "version": "3.6.4"
    }
  },
  "nbformat": 4,
  "nbformat_minor": 0
}
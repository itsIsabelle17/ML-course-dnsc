{
  "cells": [
    {
      "cell_type": "markdown",
      "metadata": {
        "id": "lHJyCWCR0H02"
      },
      "source": [
        "# License \n",
        "***\n",
        "Copyright (C) 2017-2022 J. Patrick Hall, jphall@gwu.edu\n",
        "\n",
        "Permission is hereby granted, free of charge, to any person obtaining a copy of this software and associated documentation files (the \"Software\"), to deal in the Software without restriction, including without limitation the rights to use, copy, modify, merge, publish, distribute, sublicense, and/or sell copies of the Software, and to permit persons to whom the Software is furnished to do so, subject to the following conditions:\n",
        "\n",
        "The above copyright notice and this permission notice shall be included in all copies or substantial portions of the Software.\n",
        "\n",
        "THE SOFTWARE IS PROVIDED \"AS IS\", WITHOUT WARRANTY OF ANY KIND, EXPRESS OR IMPLIED, INCLUDING BUT NOT LIMITED TO THE WARRANTIES OF MERCHANTABILITY, FITNESS FOR A PARTICULAR PURPOSE AND NONINFRINGEMENT. IN NO EVENT SHALL THE AUTHORS OR COPYRIGHT HOLDERS BE LIABLE FOR ANY CLAIM, DAMAGES OR OTHER LIABILITY, WHETHER IN AN ACTION OF CONTRACT, TORT OR OTHERWISE, ARISING FROM, OUT OF OR IN CONNECTION WITH THE SOFTWARE OR THE USE OR OTHER DEALINGS IN THE SOFTWARE."
      ]
    },
    {
      "cell_type": "markdown",
      "metadata": {
        "id": "jzDi7hqI0H1C"
      },
      "source": [
        "***\n",
        "# Kaggle House Prices with GLRM Matrix Factorization Example"
      ]
    },
    {
      "cell_type": "markdown",
      "metadata": {
        "id": "9_pxDSsA0H1D"
      },
      "source": [
        "1. General imports and inits"
      ]
    },
    {
      "cell_type": "code",
      "execution_count": null,
      "metadata": {
        "id": "0mY9UtJr0H1E"
      },
      "outputs": [],
      "source": [
        "import matplotlib as plt\n",
        "%matplotlib inline\n",
        "import numpy as np\n",
        "import pandas as pd\n",
        "\n",
        "# to upload local files\n",
        "import io\n",
        "from google.colab import files  \n",
        "\n",
        "SEED = 12345 # for better reproducibility"
      ]
    },
    {
      "cell_type": "markdown",
      "source": [
        "2. Install Java for h2o "
      ],
      "metadata": {
        "id": "tClICrRDnKA_"
      }
    },
    {
      "cell_type": "code",
      "source": [
        "# install Java for h2o backend\n",
        "!apt-get install default-jre\n",
        "!java -version"
      ],
      "metadata": {
        "id": "18j9KgxInJeO",
        "colab": {
          "base_uri": "https://localhost:8080/"
        },
        "outputId": "09f94bd6-bb62-4773-c225-637434f7e4eb"
      },
      "execution_count": null,
      "outputs": [
        {
          "output_type": "stream",
          "name": "stdout",
          "text": [
            "Reading package lists... Done\n",
            "Building dependency tree       \n",
            "Reading state information... Done\n",
            "default-jre is already the newest version (2:1.11-68ubuntu1~18.04.1).\n",
            "default-jre set to manually installed.\n",
            "0 upgraded, 0 newly installed, 0 to remove and 39 not upgraded.\n",
            "openjdk version \"11.0.14.1\" 2022-02-08\n",
            "OpenJDK Runtime Environment (build 11.0.14.1+1-Ubuntu-0ubuntu1.18.04)\n",
            "OpenJDK 64-Bit Server VM (build 11.0.14.1+1-Ubuntu-0ubuntu1.18.04, mixed mode, sharing)\n"
          ]
        }
      ]
    },
    {
      "cell_type": "markdown",
      "source": [
        "3. Install h2o"
      ],
      "metadata": {
        "id": "pNtRrcjenKdI"
      }
    },
    {
      "cell_type": "code",
      "source": [
        "# install h2o\n",
        "!pip install h2o "
      ],
      "metadata": {
        "id": "edb05AW3nJTv",
        "colab": {
          "base_uri": "https://localhost:8080/"
        },
        "outputId": "2b904362-dd61-4f96-f6a2-e305aef30469"
      },
      "execution_count": null,
      "outputs": [
        {
          "output_type": "stream",
          "name": "stdout",
          "text": [
            "Collecting h2o\n",
            "  Downloading h2o-3.36.1.1.tar.gz (177.0 MB)\n",
            "\u001b[K     |████████████████████████████████| 177.0 MB 18 kB/s \n",
            "\u001b[?25hRequirement already satisfied: requests in /usr/local/lib/python3.7/dist-packages (from h2o) (2.23.0)\n",
            "Requirement already satisfied: tabulate in /usr/local/lib/python3.7/dist-packages (from h2o) (0.8.9)\n",
            "Requirement already satisfied: future in /usr/local/lib/python3.7/dist-packages (from h2o) (0.16.0)\n",
            "Requirement already satisfied: idna<3,>=2.5 in /usr/local/lib/python3.7/dist-packages (from requests->h2o) (2.10)\n",
            "Requirement already satisfied: certifi>=2017.4.17 in /usr/local/lib/python3.7/dist-packages (from requests->h2o) (2021.10.8)\n",
            "Requirement already satisfied: urllib3!=1.25.0,!=1.25.1,<1.26,>=1.21.1 in /usr/local/lib/python3.7/dist-packages (from requests->h2o) (1.24.3)\n",
            "Requirement already satisfied: chardet<4,>=3.0.2 in /usr/local/lib/python3.7/dist-packages (from requests->h2o) (3.0.4)\n",
            "Building wheels for collected packages: h2o\n",
            "  Building wheel for h2o (setup.py) ... \u001b[?25l\u001b[?25hdone\n",
            "  Created wheel for h2o: filename=h2o-3.36.1.1-py2.py3-none-any.whl size=177068062 sha256=8b9fdd464f78c9d53a994e6ffeb99b7dd64d6255db84b45149cc6744e7c9d048\n",
            "  Stored in directory: /root/.cache/pip/wheels/a6/d9/ab/5442447c7e2ccf07f66aa8b79f3877ce5382f0b95e6c0c797b\n",
            "Successfully built h2o\n",
            "Installing collected packages: h2o\n",
            "Successfully installed h2o-3.36.1.1\n"
          ]
        }
      ]
    },
    {
      "cell_type": "markdown",
      "source": [
        "4. Import and start h2o"
      ],
      "metadata": {
        "id": "kjpTEyW9nGD3"
      }
    },
    {
      "cell_type": "code",
      "source": [
        "import h2o\n",
        "from h2o.estimators.glrm import H2OGeneralizedLowRankEstimator\n",
        "from h2o.estimators.glm import H2OGeneralizedLinearEstimator\n",
        "from h2o.grid.grid_search import H2OGridSearch \n",
        "h2o.init()"
      ],
      "metadata": {
        "id": "2zBY2Q0JnE8s",
        "colab": {
          "base_uri": "https://localhost:8080/",
          "height": 520
        },
        "outputId": "4b1024f8-c8d0-49fc-f831-a026622af186"
      },
      "execution_count": null,
      "outputs": [
        {
          "output_type": "stream",
          "name": "stdout",
          "text": [
            "Checking whether there is an H2O instance running at http://localhost:54321 ..... not found.\n",
            "Attempting to start a local H2O server...\n",
            "  Java Version: openjdk version \"11.0.14.1\" 2022-02-08; OpenJDK Runtime Environment (build 11.0.14.1+1-Ubuntu-0ubuntu1.18.04); OpenJDK 64-Bit Server VM (build 11.0.14.1+1-Ubuntu-0ubuntu1.18.04, mixed mode, sharing)\n",
            "  Starting server from /usr/local/lib/python3.7/dist-packages/h2o/backend/bin/h2o.jar\n",
            "  Ice root: /tmp/tmp288elggo\n",
            "  JVM stdout: /tmp/tmp288elggo/h2o_unknownUser_started_from_python.out\n",
            "  JVM stderr: /tmp/tmp288elggo/h2o_unknownUser_started_from_python.err\n",
            "  Server is running at http://127.0.0.1:54321\n",
            "Connecting to H2O server at http://127.0.0.1:54321 ... successful.\n"
          ]
        },
        {
          "output_type": "display_data",
          "data": {
            "text/plain": [
              "--------------------------  ----------------------------------\n",
              "H2O_cluster_uptime:         03 secs\n",
              "H2O_cluster_timezone:       Etc/UTC\n",
              "H2O_data_parsing_timezone:  UTC\n",
              "H2O_cluster_version:        3.36.1.1\n",
              "H2O_cluster_version_age:    23 hours and 54 minutes\n",
              "H2O_cluster_name:           H2O_from_python_unknownUser_cqzajf\n",
              "H2O_cluster_total_nodes:    1\n",
              "H2O_cluster_free_memory:    3.172 Gb\n",
              "H2O_cluster_total_cores:    2\n",
              "H2O_cluster_allowed_cores:  2\n",
              "H2O_cluster_status:         locked, healthy\n",
              "H2O_connection_url:         http://127.0.0.1:54321\n",
              "H2O_connection_proxy:       {\"http\": null, \"https\": null}\n",
              "H2O_internal_security:      False\n",
              "Python_version:             3.7.13 final\n",
              "--------------------------  ----------------------------------"
            ],
            "text/html": [
              "<div style=\"overflow:auto\"><table style=\"width:50%\"><tr><td>H2O_cluster_uptime:</td>\n",
              "<td>03 secs</td></tr>\n",
              "<tr><td>H2O_cluster_timezone:</td>\n",
              "<td>Etc/UTC</td></tr>\n",
              "<tr><td>H2O_data_parsing_timezone:</td>\n",
              "<td>UTC</td></tr>\n",
              "<tr><td>H2O_cluster_version:</td>\n",
              "<td>3.36.1.1</td></tr>\n",
              "<tr><td>H2O_cluster_version_age:</td>\n",
              "<td>23 hours and 54 minutes </td></tr>\n",
              "<tr><td>H2O_cluster_name:</td>\n",
              "<td>H2O_from_python_unknownUser_cqzajf</td></tr>\n",
              "<tr><td>H2O_cluster_total_nodes:</td>\n",
              "<td>1</td></tr>\n",
              "<tr><td>H2O_cluster_free_memory:</td>\n",
              "<td>3.172 Gb</td></tr>\n",
              "<tr><td>H2O_cluster_total_cores:</td>\n",
              "<td>2</td></tr>\n",
              "<tr><td>H2O_cluster_allowed_cores:</td>\n",
              "<td>2</td></tr>\n",
              "<tr><td>H2O_cluster_status:</td>\n",
              "<td>locked, healthy</td></tr>\n",
              "<tr><td>H2O_connection_url:</td>\n",
              "<td>http://127.0.0.1:54321</td></tr>\n",
              "<tr><td>H2O_connection_proxy:</td>\n",
              "<td>{\"http\": null, \"https\": null}</td></tr>\n",
              "<tr><td>H2O_internal_security:</td>\n",
              "<td>False</td></tr>\n",
              "<tr><td>Python_version:</td>\n",
              "<td>3.7.13 final</td></tr></table></div>"
            ]
          },
          "metadata": {}
        }
      ]
    },
    {
      "cell_type": "markdown",
      "metadata": {
        "id": "OSjm0mY40H1G"
      },
      "source": [
        "## Helper Functions"
      ]
    },
    {
      "cell_type": "markdown",
      "metadata": {
        "id": "Fz4ITDfJ0H1H"
      },
      "source": [
        "5. Determine data types"
      ]
    },
    {
      "cell_type": "code",
      "execution_count": null,
      "metadata": {
        "id": "kYkv6HLb0H1I"
      },
      "outputs": [],
      "source": [
        "def get_type_lists(frame, rejects=['Id', 'SalePrice']):\n",
        "\n",
        "    \"\"\"Creates lists of numeric and categorical variables.\n",
        "    \n",
        "    :param frame: The frame from which to determine types.\n",
        "    :param rejects: Variable names not to be included in returned lists.\n",
        "    :return: Tuple of lists for numeric and categorical variables in the frame.\n",
        "    \n",
        "    \"\"\"\n",
        "    \n",
        "    nums, cats = [], []\n",
        "    for key, val in frame.types.items():\n",
        "        if key not in rejects:\n",
        "            if val == 'enum':\n",
        "                cats.append(key)\n",
        "            else: \n",
        "                nums.append(key)\n",
        "                \n",
        "    print('Numeric =', nums)                \n",
        "    print()\n",
        "    print('Categorical =', cats)\n",
        "    \n",
        "    return nums, cats"
      ]
    },
    {
      "cell_type": "markdown",
      "metadata": {
        "id": "NEAkfIpZ0H1J"
      },
      "source": [
        "6. Impute with GLRM"
      ]
    },
    {
      "cell_type": "code",
      "execution_count": null,
      "metadata": {
        "id": "BFglS0xN0H1J"
      },
      "outputs": [],
      "source": [
        "def glrm_num_impute(role, frame):\n",
        "\n",
        "    \"\"\" Helper function for imputing numeric variables using GLRM.\n",
        "    \n",
        "    :param role: Role of frame to be imputed.\n",
        "    :param frame: H2OFrame to be imputed.\n",
        "    :return: H2OFrame of imputed numeric features.\n",
        "    \n",
        "    \"\"\"\n",
        "    \n",
        "    # count missing values in training data numeric columns\n",
        "    print(role + ' missing:\\n', [cnt for cnt in frame.nacnt() if cnt != 0.0])\n",
        "\n",
        "    # initialize GLRM\n",
        "    matrix_complete_glrm = H2OGeneralizedLowRankEstimator(\n",
        "        k=10,                      # create 10 features, REQUIRES STUDENT INPUT \n",
        "        transform='STANDARDIZE', # <- seems very important\n",
        "        gamma_x=0.001,           # regularization on values in X\n",
        "        gamma_y=0.05,            # regularization on values in Y\n",
        "        seed=SEED,                   # REQUIRES STUDENT INPUT\n",
        "        impute_original=True)\n",
        "\n",
        "    # train GLRM\n",
        "    matrix_complete_glrm.train(training_frame=frame, x=original_nums)\n",
        "\n",
        "    # plot iteration history to ensure convergence\n",
        "    matrix_complete_glrm.score_history().plot(x='iterations', y='objective', title='GLRM Score History')\n",
        "\n",
        "    # impute numeric inputs by multiplying the calculated xi and yj for the missing values in train\n",
        "    num_impute = matrix_complete_glrm.predict(frame)\n",
        "\n",
        "    # count missing values in imputed set\n",
        "    print('imputed ' + role + ' missing:\\n', [cnt for cnt in num_impute.nacnt() if cnt != 0.0])\n",
        "    \n",
        "    return num_impute"
      ]
    },
    {
      "cell_type": "markdown",
      "metadata": {
        "id": "LKtFtreI0H1L"
      },
      "source": [
        "7. Embed with GLRM "
      ]
    },
    {
      "cell_type": "code",
      "execution_count": null,
      "metadata": {
        "id": "XzhBCUTs0H1M"
      },
      "outputs": [],
      "source": [
        "def glrm_cat_embed(frame):\n",
        "    \n",
        "    \"\"\" Helper function for embedding caetgorical variables using GLRM.\n",
        "    \n",
        "    :param frame: H2OFrame to be embedded.\n",
        "    :return: H2OFrame of embedded categorical features.\n",
        "    \n",
        "    \"\"\"\n",
        "    \n",
        "    # initialize GLRM\n",
        "    cat_embed_glrm = H2OGeneralizedLowRankEstimator(\n",
        "        k=50, # REQUIRES STUDENT INPUT\n",
        "        transform='STANDARDIZE',\n",
        "        loss='Quadratic',\n",
        "        regularization_x='Quadratic',\n",
        "        regularization_y='L1',\n",
        "        gamma_x=0.25,\n",
        "        gamma_y=0.5,\n",
        "        seed=SEED) # REQUIRES STUDENT INPUT\n",
        "\n",
        "    # train GLRM\n",
        "    cat_embed_glrm.train(training_frame=frame, x=cats)\n",
        "\n",
        "    # plot iteration history to ensure convergence\n",
        "    cat_embed_glrm.score_history().plot(x='iterations', y='objective', title='GLRM Score History')\n",
        "\n",
        "    # extracted embedded features\n",
        "    cat_embed = h2o.get_frame(cat_embed_glrm._model_json['output']['representation_name'])\n",
        "    \n",
        "    return cat_embed"
      ]
    },
    {
      "cell_type": "markdown",
      "metadata": {
        "id": "9xTvIstw0H1N"
      },
      "source": [
        "8. Import train data"
      ]
    },
    {
      "cell_type": "code",
      "source": [
        "# special google collab command to upload a file from computer\n",
        "uploaded = files.upload() # REQUIRES STUDENT INPUT"
      ],
      "metadata": {
        "id": "aqk7_ra6p73S",
        "colab": {
          "resources": {
            "http://localhost:8080/nbextensions/google.colab/files.js": {
              "data": "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",
              "ok": true,
              "headers": [
                [
                  "content-type",
                  "application/javascript"
                ]
              ],
              "status": 200,
              "status_text": ""
            }
          },
          "base_uri": "https://localhost:8080/",
          "height": 73
        },
        "outputId": "7981e5da-1eb9-4860-94c0-9b00db0f39be"
      },
      "execution_count": null,
      "outputs": [
        {
          "output_type": "display_data",
          "data": {
            "text/plain": [
              "<IPython.core.display.HTML object>"
            ],
            "text/html": [
              "\n",
              "     <input type=\"file\" id=\"files-6b020338-a5f4-4ee4-bc3e-533962af6a47\" name=\"files[]\" multiple disabled\n",
              "        style=\"border:none\" />\n",
              "     <output id=\"result-6b020338-a5f4-4ee4-bc3e-533962af6a47\">\n",
              "      Upload widget is only available when the cell has been executed in the\n",
              "      current browser session. Please rerun this cell to enable.\n",
              "      </output>\n",
              "      <script src=\"/nbextensions/google.colab/files.js\"></script> "
            ]
          },
          "metadata": {}
        },
        {
          "output_type": "stream",
          "name": "stdout",
          "text": [
            "Saving train.csv to train.csv\n"
          ]
        }
      ]
    },
    {
      "cell_type": "code",
      "source": [
        "# 9 \n",
        "uploaded.keys() # what is stored in that Python object?"
      ],
      "metadata": {
        "id": "JQIg4lJKqGsv",
        "colab": {
          "base_uri": "https://localhost:8080/"
        },
        "outputId": "79b72be1-45c2-4b72-92df-0692f77ccb88"
      },
      "execution_count": null,
      "outputs": [
        {
          "output_type": "execute_result",
          "data": {
            "text/plain": [
              "dict_keys(['train.csv'])"
            ]
          },
          "metadata": {},
          "execution_count": 9
        }
      ]
    },
    {
      "cell_type": "markdown",
      "source": [
        "10. Load train and test data"
      ],
      "metadata": {
        "id": "RZyzaq6jqyto"
      }
    },
    {
      "cell_type": "code",
      "execution_count": null,
      "metadata": {
        "id": "fQTrj9Sf0H1O",
        "colab": {
          "base_uri": "https://localhost:8080/"
        },
        "outputId": "c84de88c-ea49-4c01-acb9-7202dbef720f"
      },
      "outputs": [
        {
          "output_type": "stream",
          "name": "stdout",
          "text": [
            "Parse progress: |████████████████████████████████████████████████████████████████| (done) 100%\n",
            "(1460, 81)\n"
          ]
        }
      ],
      "source": [
        "train = pd.read_csv(io.StringIO(uploaded['train.csv'].decode('utf-8'))) # name in quotes here must match name in 6 above\n",
        "train = h2o.H2OFrame(train) # convert to h2o\n",
        "\n",
        "print(train.shape)"
      ]
    },
    {
      "cell_type": "markdown",
      "source": [
        "11. Determine input feature measurement levels"
      ],
      "metadata": {
        "id": "aaeqCknDq3XC"
      }
    },
    {
      "cell_type": "code",
      "execution_count": null,
      "metadata": {
        "id": "8vHdniU50H1P",
        "colab": {
          "base_uri": "https://localhost:8080/"
        },
        "outputId": "ab031565-b580-4041-c04d-b10fe710ee3c"
      },
      "outputs": [
        {
          "output_type": "stream",
          "name": "stdout",
          "text": [
            "Numeric = ['MSSubClass', 'LotFrontage', 'LotArea', 'OverallQual', 'OverallCond', 'YearBuilt', 'YearRemodAdd', 'MasVnrArea', 'BsmtFinSF1', 'BsmtFinSF2', 'BsmtUnfSF', 'TotalBsmtSF', '1stFlrSF', '2ndFlrSF', 'LowQualFinSF', 'GrLivArea', 'BsmtFullBath', 'BsmtHalfBath', 'FullBath', 'HalfBath', 'BedroomAbvGr', 'KitchenAbvGr', 'TotRmsAbvGrd', 'Fireplaces', 'GarageYrBlt', 'GarageCars', 'GarageArea', 'WoodDeckSF', 'OpenPorchSF', 'EnclosedPorch', '3SsnPorch', 'ScreenPorch', 'PoolArea', 'MiscVal', 'MoSold', 'YrSold']\n",
            "\n",
            "Categorical = ['MSZoning', 'Street', 'Alley', 'LotShape', 'LandContour', 'Utilities', 'LotConfig', 'LandSlope', 'Neighborhood', 'Condition1', 'Condition2', 'BldgType', 'HouseStyle', 'RoofStyle', 'RoofMatl', 'Exterior1st', 'Exterior2nd', 'MasVnrType', 'ExterQual', 'ExterCond', 'Foundation', 'BsmtQual', 'BsmtCond', 'BsmtExposure', 'BsmtFinType1', 'BsmtFinType2', 'Heating', 'HeatingQC', 'CentralAir', 'Electrical', 'KitchenQual', 'Functional', 'FireplaceQu', 'GarageType', 'GarageFinish', 'GarageQual', 'GarageCond', 'PavedDrive', 'PoolQC', 'Fence', 'MiscFeature', 'SaleType', 'SaleCondition']\n"
          ]
        }
      ],
      "source": [
        "original_nums, cats = get_type_lists(train)"
      ]
    },
    {
      "cell_type": "markdown",
      "metadata": {
        "id": "VXE__H-60H1Q"
      },
      "source": [
        "12. Split into to train and validation (before doing data prep!!!)"
      ]
    },
    {
      "cell_type": "code",
      "execution_count": null,
      "metadata": {
        "id": "JHY-Le7D0H1Q",
        "colab": {
          "base_uri": "https://localhost:8080/"
        },
        "outputId": "a48bf771-2a68-47d7-a071-f20594a9f32e"
      },
      "outputs": [
        {
          "output_type": "stream",
          "name": "stdout",
          "text": [
            "(1001, 81)\n",
            "(459, 81)\n"
          ]
        }
      ],
      "source": [
        "train, valid = train.split_frame([0.7], seed=SEED) # REQUIRES STUDENT INPUT\n",
        "print(train.shape)\n",
        "print(valid.shape)"
      ]
    },
    {
      "cell_type": "markdown",
      "metadata": {
        "id": "U1UyCu7y0H1Q"
      },
      "source": [
        "13. Impute numeric missing using GLRM matrix completion in training data"
      ]
    },
    {
      "cell_type": "code",
      "execution_count": null,
      "metadata": {
        "id": "J_RF9PAQ0H1R",
        "colab": {
          "base_uri": "https://localhost:8080/",
          "height": 402
        },
        "outputId": "5ab83925-bb93-4bbc-e026-4cf70435b93f"
      },
      "outputs": [
        {
          "output_type": "stream",
          "name": "stdout",
          "text": [
            "training missing:\n",
            " [179.0, 7.0, 48.0]\n",
            "glrm Model Build progress: |█████████████████████████████████████████████████████| (done) 100%\n",
            "glrm prediction progress: |██████████████████████████████████████████████████████| (done) 100%\n",
            "imputed training missing:\n",
            " []\n"
          ]
        },
        {
          "output_type": "display_data",
          "data": {
            "text/plain": [
              "<Figure size 432x288 with 1 Axes>"
            ],
            "image/png": "[encoded data removed]"
          },
          "metadata": {
            "needs_background": "light"
          }
        }
      ],
      "source": [
        "train_num_impute = glrm_num_impute('training', train)"
      ]
    },
    {
      "cell_type": "markdown",
      "source": [
        "14. Inspect imputed training data "
      ],
      "metadata": {
        "id": "xBVR4-Dtr6tN"
      }
    },
    {
      "cell_type": "code",
      "execution_count": null,
      "metadata": {
        "id": "1NTkAxxN0H1R",
        "colab": {
          "base_uri": "https://localhost:8080/",
          "height": 274
        },
        "outputId": "cd6d7c6e-cc60-4b54-dd2f-82d001476ed0"
      },
      "outputs": [
        {
          "output_type": "display_data",
          "data": {
            "text/html": [
              "<table>\n",
              "<thead>\n",
              "<tr><th style=\"text-align: right;\">  reconstr_MSSubClass</th><th style=\"text-align: right;\">  reconstr_LotFrontage</th><th style=\"text-align: right;\">  reconstr_LotArea</th><th style=\"text-align: right;\">  reconstr_OverallQual</th><th style=\"text-align: right;\">  reconstr_OverallCond</th><th style=\"text-align: right;\">  reconstr_YearBuilt</th><th style=\"text-align: right;\">  reconstr_YearRemodAdd</th><th style=\"text-align: right;\">  reconstr_MasVnrArea</th><th style=\"text-align: right;\">  reconstr_BsmtFinSF1</th><th style=\"text-align: right;\">  reconstr_BsmtFinSF2</th><th style=\"text-align: right;\">  reconstr_BsmtUnfSF</th><th style=\"text-align: right;\">  reconstr_TotalBsmtSF</th><th style=\"text-align: right;\">  reconstr_1stFlrSF</th><th style=\"text-align: right;\">  reconstr_2ndFlrSF</th><th style=\"text-align: right;\">  reconstr_LowQualFinSF</th><th style=\"text-align: right;\">  reconstr_GrLivArea</th><th style=\"text-align: right;\">  reconstr_BsmtFullBath</th><th style=\"text-align: right;\">  reconstr_BsmtHalfBath</th><th style=\"text-align: right;\">  reconstr_FullBath</th><th style=\"text-align: right;\">  reconstr_HalfBath</th><th style=\"text-align: right;\">  reconstr_BedroomAbvGr</th><th style=\"text-align: right;\">  reconstr_KitchenAbvGr</th><th style=\"text-align: right;\">  reconstr_TotRmsAbvGrd</th><th style=\"text-align: right;\">  reconstr_Fireplaces</th><th style=\"text-align: right;\">  reconstr_GarageYrBlt</th><th style=\"text-align: right;\">  reconstr_GarageCars</th><th style=\"text-align: right;\">  reconstr_GarageArea</th><th style=\"text-align: right;\">  reconstr_WoodDeckSF</th><th style=\"text-align: right;\">  reconstr_OpenPorchSF</th><th style=\"text-align: right;\">  reconstr_EnclosedPorch</th><th style=\"text-align: right;\">  reconstr_3SsnPorch</th><th style=\"text-align: right;\">  reconstr_ScreenPorch</th><th style=\"text-align: right;\">  reconstr_PoolArea</th><th style=\"text-align: right;\">  reconstr_MiscVal</th><th style=\"text-align: right;\">  reconstr_MoSold</th><th style=\"text-align: right;\">  reconstr_YrSold</th></tr>\n",
              "</thead>\n",
              "<tbody>\n",
              "<tr><td style=\"text-align: right;\">             100.2   </td><td style=\"text-align: right;\">               61.7625</td><td style=\"text-align: right;\">           7147.29</td><td style=\"text-align: right;\">               6.90494</td><td style=\"text-align: right;\">               5.21513</td><td style=\"text-align: right;\">             1997.99</td><td style=\"text-align: right;\">                1999.94</td><td style=\"text-align: right;\">            160.366  </td><td style=\"text-align: right;\">              592.201</td><td style=\"text-align: right;\">             50.7091 </td><td style=\"text-align: right;\">            250.873 </td><td style=\"text-align: right;\">               893.783</td><td style=\"text-align: right;\">            956.012</td><td style=\"text-align: right;\">           786.295 </td><td style=\"text-align: right;\">                8.75929</td><td style=\"text-align: right;\">            1751.07 </td><td style=\"text-align: right;\">             0.746311  </td><td style=\"text-align: right;\">            -0.0680921 </td><td style=\"text-align: right;\">           1.8799  </td><td style=\"text-align: right;\">          0.910455 </td><td style=\"text-align: right;\">                2.95499</td><td style=\"text-align: right;\">               1.03907 </td><td style=\"text-align: right;\">                7.07958</td><td style=\"text-align: right;\">             0.571503</td><td style=\"text-align: right;\">               2002.47</td><td style=\"text-align: right;\">              2.17164</td><td style=\"text-align: right;\">              568.2  </td><td style=\"text-align: right;\">             142.236 </td><td style=\"text-align: right;\">              55.7654 </td><td style=\"text-align: right;\">                 4.6024 </td><td style=\"text-align: right;\">            -8.50383</td><td style=\"text-align: right;\">              -1.51778</td><td style=\"text-align: right;\">            2.78743</td><td style=\"text-align: right;\">          -91.771 </td><td style=\"text-align: right;\">          4.17287</td><td style=\"text-align: right;\">          2008.85</td></tr>\n",
              "<tr><td style=\"text-align: right;\">              30.3395</td><td style=\"text-align: right;\">               84.2024</td><td style=\"text-align: right;\">          20840.5 </td><td style=\"text-align: right;\">               6.2055 </td><td style=\"text-align: right;\">               7.50561</td><td style=\"text-align: right;\">             1962.7 </td><td style=\"text-align: right;\">                1995.05</td><td style=\"text-align: right;\">            159.564  </td><td style=\"text-align: right;\">              787.1  </td><td style=\"text-align: right;\">            -96.6578 </td><td style=\"text-align: right;\">            460.515 </td><td style=\"text-align: right;\">              1150.96 </td><td style=\"text-align: right;\">           1280.01 </td><td style=\"text-align: right;\">           166.112 </td><td style=\"text-align: right;\">               -5.12071</td><td style=\"text-align: right;\">            1441    </td><td style=\"text-align: right;\">             0.304783  </td><td style=\"text-align: right;\">             0.571971  </td><td style=\"text-align: right;\">           1.39223 </td><td style=\"text-align: right;\">          0.065198 </td><td style=\"text-align: right;\">                2.70352</td><td style=\"text-align: right;\">               0.846635</td><td style=\"text-align: right;\">                5.83769</td><td style=\"text-align: right;\">             0.762571</td><td style=\"text-align: right;\">               1970.21</td><td style=\"text-align: right;\">              1.64264</td><td style=\"text-align: right;\">              456.616</td><td style=\"text-align: right;\">             239.688 </td><td style=\"text-align: right;\">              -2.11734</td><td style=\"text-align: right;\">                23.7554 </td><td style=\"text-align: right;\">            32.4608 </td><td style=\"text-align: right;\">             -39.3048 </td><td style=\"text-align: right;\">           10.9351 </td><td style=\"text-align: right;\">          240.716 </td><td style=\"text-align: right;\">          6.56241</td><td style=\"text-align: right;\">          2007.28</td></tr>\n",
              "<tr><td style=\"text-align: right;\">              86.5286</td><td style=\"text-align: right;\">               66.8285</td><td style=\"text-align: right;\">           8155.25</td><td style=\"text-align: right;\">               6.94773</td><td style=\"text-align: right;\">               5.12827</td><td style=\"text-align: right;\">             1998.19</td><td style=\"text-align: right;\">                1996.73</td><td style=\"text-align: right;\">            167.288  </td><td style=\"text-align: right;\">              556.582</td><td style=\"text-align: right;\">             35.6741 </td><td style=\"text-align: right;\">            357.341 </td><td style=\"text-align: right;\">               949.597</td><td style=\"text-align: right;\">           1026.92 </td><td style=\"text-align: right;\">           707.632 </td><td style=\"text-align: right;\">              -14.5587 </td><td style=\"text-align: right;\">            1719.99 </td><td style=\"text-align: right;\">             0.598535  </td><td style=\"text-align: right;\">             0.0143079 </td><td style=\"text-align: right;\">           1.82202 </td><td style=\"text-align: right;\">          0.902207 </td><td style=\"text-align: right;\">                2.86485</td><td style=\"text-align: right;\">               1.00815 </td><td style=\"text-align: right;\">                6.85263</td><td style=\"text-align: right;\">             0.765706</td><td style=\"text-align: right;\">               1999.2 </td><td style=\"text-align: right;\">              2.23749</td><td style=\"text-align: right;\">              580.325</td><td style=\"text-align: right;\">             107.047 </td><td style=\"text-align: right;\">              79.2117 </td><td style=\"text-align: right;\">                -6.60266</td><td style=\"text-align: right;\">             1.51646</td><td style=\"text-align: right;\">              27.1416 </td><td style=\"text-align: right;\">           -1.5781 </td><td style=\"text-align: right;\">         -144.765 </td><td style=\"text-align: right;\">          7.46699</td><td style=\"text-align: right;\">          2007.58</td></tr>\n",
              "<tr><td style=\"text-align: right;\">              87.0459</td><td style=\"text-align: right;\">               87.8415</td><td style=\"text-align: right;\">          14237.4 </td><td style=\"text-align: right;\">               7.79448</td><td style=\"text-align: right;\">               5.17553</td><td style=\"text-align: right;\">             2004.28</td><td style=\"text-align: right;\">                2003.55</td><td style=\"text-align: right;\">            277.651  </td><td style=\"text-align: right;\">              755.675</td><td style=\"text-align: right;\">              8.44946</td><td style=\"text-align: right;\">            458.189 </td><td style=\"text-align: right;\">              1222.31 </td><td style=\"text-align: right;\">           1335.38 </td><td style=\"text-align: right;\">          1009.88  </td><td style=\"text-align: right;\">              -21.3071 </td><td style=\"text-align: right;\">            2323.95 </td><td style=\"text-align: right;\">             0.631121  </td><td style=\"text-align: right;\">             0.0790071 </td><td style=\"text-align: right;\">           2.27324 </td><td style=\"text-align: right;\">          1.07073  </td><td style=\"text-align: right;\">                3.51058</td><td style=\"text-align: right;\">               1.09552 </td><td style=\"text-align: right;\">                8.57617</td><td style=\"text-align: right;\">             1.15683 </td><td style=\"text-align: right;\">               2004.52</td><td style=\"text-align: right;\">              2.66402</td><td style=\"text-align: right;\">              699.236</td><td style=\"text-align: right;\">             154.533 </td><td style=\"text-align: right;\">             103.79   </td><td style=\"text-align: right;\">               -18.4366 </td><td style=\"text-align: right;\">             8.86939</td><td style=\"text-align: right;\">              32.8711 </td><td style=\"text-align: right;\">            9.86674</td><td style=\"text-align: right;\">         -147.739 </td><td style=\"text-align: right;\">          8.61329</td><td style=\"text-align: right;\">          2007.25</td></tr>\n",
              "<tr><td style=\"text-align: right;\">              62.4402</td><td style=\"text-align: right;\">               69.1372</td><td style=\"text-align: right;\">          15465.8 </td><td style=\"text-align: right;\">               5.57221</td><td style=\"text-align: right;\">               6.75408</td><td style=\"text-align: right;\">             1993.59</td><td style=\"text-align: right;\">                2003.53</td><td style=\"text-align: right;\">             45.303  </td><td style=\"text-align: right;\">              838.822</td><td style=\"text-align: right;\">            -34.0855 </td><td style=\"text-align: right;\">            -26.4899</td><td style=\"text-align: right;\">               778.246</td><td style=\"text-align: right;\">            983.444</td><td style=\"text-align: right;\">            69.2207</td><td style=\"text-align: right;\">              -64.5229 </td><td style=\"text-align: right;\">             988.142</td><td style=\"text-align: right;\">             0.789657  </td><td style=\"text-align: right;\">             0.31284   </td><td style=\"text-align: right;\">           1.48418 </td><td style=\"text-align: right;\">          0.195025 </td><td style=\"text-align: right;\">                2.40114</td><td style=\"text-align: right;\">               1.04578 </td><td style=\"text-align: right;\">                4.95571</td><td style=\"text-align: right;\">             0.28269 </td><td style=\"text-align: right;\">               1992.22</td><td style=\"text-align: right;\">              1.66145</td><td style=\"text-align: right;\">              424.711</td><td style=\"text-align: right;\">             194.693 </td><td style=\"text-align: right;\">              43.1951 </td><td style=\"text-align: right;\">               -97.0233 </td><td style=\"text-align: right;\">            44.6804 </td><td style=\"text-align: right;\">              -5.84479</td><td style=\"text-align: right;\">          -29.7145 </td><td style=\"text-align: right;\">           62.2913</td><td style=\"text-align: right;\">         11.2054 </td><td style=\"text-align: right;\">          2006.88</td></tr>\n",
              "<tr><td style=\"text-align: right;\">              51.2755</td><td style=\"text-align: right;\">               80.5674</td><td style=\"text-align: right;\">          15601.9 </td><td style=\"text-align: right;\">               7.3058 </td><td style=\"text-align: right;\">               5.24004</td><td style=\"text-align: right;\">             2004.97</td><td style=\"text-align: right;\">                2002.84</td><td style=\"text-align: right;\">            219.088  </td><td style=\"text-align: right;\">             1154.33 </td><td style=\"text-align: right;\">             50.3392 </td><td style=\"text-align: right;\">            469.733 </td><td style=\"text-align: right;\">              1674.4  </td><td style=\"text-align: right;\">           1695.65 </td><td style=\"text-align: right;\">            44.1354</td><td style=\"text-align: right;\">                0.6216 </td><td style=\"text-align: right;\">            1740.4  </td><td style=\"text-align: right;\">             1.05541   </td><td style=\"text-align: right;\">             0.106922  </td><td style=\"text-align: right;\">           1.92464 </td><td style=\"text-align: right;\">          0.0998495</td><td style=\"text-align: right;\">                2.50341</td><td style=\"text-align: right;\">               1.05061 </td><td style=\"text-align: right;\">                6.58691</td><td style=\"text-align: right;\">             0.839242</td><td style=\"text-align: right;\">               2004.75</td><td style=\"text-align: right;\">              2.4289 </td><td style=\"text-align: right;\">              690.606</td><td style=\"text-align: right;\">             176.581 </td><td style=\"text-align: right;\">              70.1765 </td><td style=\"text-align: right;\">                -8.05102</td><td style=\"text-align: right;\">            14.9888 </td><td style=\"text-align: right;\">               4.9414 </td><td style=\"text-align: right;\">           21.6682 </td><td style=\"text-align: right;\">          175.16  </td><td style=\"text-align: right;\">          7.42561</td><td style=\"text-align: right;\">          2007.35</td></tr>\n",
              "<tr><td style=\"text-align: right;\">              86.3493</td><td style=\"text-align: right;\">               59.0296</td><td style=\"text-align: right;\">           5983.7 </td><td style=\"text-align: right;\">               5.61897</td><td style=\"text-align: right;\">               4.54278</td><td style=\"text-align: right;\">             1926.32</td><td style=\"text-align: right;\">                1949.25</td><td style=\"text-align: right;\">            253.131  </td><td style=\"text-align: right;\">              269.61 </td><td style=\"text-align: right;\">           -120.59   </td><td style=\"text-align: right;\">            962.918 </td><td style=\"text-align: right;\">              1111.94 </td><td style=\"text-align: right;\">           1365.97 </td><td style=\"text-align: right;\">           519.692 </td><td style=\"text-align: right;\">               27.6471 </td><td style=\"text-align: right;\">            1913.31 </td><td style=\"text-align: right;\">            -0.00292833</td><td style=\"text-align: right;\">             0.00977723</td><td style=\"text-align: right;\">           1.60128 </td><td style=\"text-align: right;\">          0.194963 </td><td style=\"text-align: right;\">                3.49228</td><td style=\"text-align: right;\">               1.47332 </td><td style=\"text-align: right;\">                8.17005</td><td style=\"text-align: right;\">             0.725016</td><td style=\"text-align: right;\">               1943.04</td><td style=\"text-align: right;\">              1.65557</td><td style=\"text-align: right;\">              434.729</td><td style=\"text-align: right;\">             -55.4176</td><td style=\"text-align: right;\">             -22.0123 </td><td style=\"text-align: right;\">               131.772  </td><td style=\"text-align: right;\">           -15.3817 </td><td style=\"text-align: right;\">              16.1845 </td><td style=\"text-align: right;\">            2.89029</td><td style=\"text-align: right;\">           70.3145</td><td style=\"text-align: right;\">          4.65155</td><td style=\"text-align: right;\">          2008.11</td></tr>\n",
              "<tr><td style=\"text-align: right;\">              53.2672</td><td style=\"text-align: right;\">               72.0088</td><td style=\"text-align: right;\">          10252.7 </td><td style=\"text-align: right;\">               4.92693</td><td style=\"text-align: right;\">               5.65759</td><td style=\"text-align: right;\">             1956.61</td><td style=\"text-align: right;\">                1971.56</td><td style=\"text-align: right;\">             31.0389 </td><td style=\"text-align: right;\">              695.802</td><td style=\"text-align: right;\">             94.2575 </td><td style=\"text-align: right;\">            188.23  </td><td style=\"text-align: right;\">               978.29 </td><td style=\"text-align: right;\">           1102.93 </td><td style=\"text-align: right;\">          -118.994 </td><td style=\"text-align: right;\">               12.1427 </td><td style=\"text-align: right;\">             996.082</td><td style=\"text-align: right;\">             0.866434  </td><td style=\"text-align: right;\">            -0.0210858 </td><td style=\"text-align: right;\">           1.07462 </td><td style=\"text-align: right;\">         -0.0217117</td><td style=\"text-align: right;\">                2.31001</td><td style=\"text-align: right;\">               1.09395 </td><td style=\"text-align: right;\">                5.08008</td><td style=\"text-align: right;\">             0.32294 </td><td style=\"text-align: right;\">               1964.77</td><td style=\"text-align: right;\">              1.2996 </td><td style=\"text-align: right;\">              369.1  </td><td style=\"text-align: right;\">              75.3856</td><td style=\"text-align: right;\">               1.52187</td><td style=\"text-align: right;\">                35.4737 </td><td style=\"text-align: right;\">            -2.88736</td><td style=\"text-align: right;\">               4.41918</td><td style=\"text-align: right;\">           -2.03496</td><td style=\"text-align: right;\">          -37.7536</td><td style=\"text-align: right;\">          4.28384</td><td style=\"text-align: right;\">          2008.88</td></tr>\n",
              "<tr><td style=\"text-align: right;\">              95.4637</td><td style=\"text-align: right;\">               86.2891</td><td style=\"text-align: right;\">          15845.2 </td><td style=\"text-align: right;\">               8.12251</td><td style=\"text-align: right;\">               5.12335</td><td style=\"text-align: right;\">             2003.67</td><td style=\"text-align: right;\">                2005.68</td><td style=\"text-align: right;\">            333.628  </td><td style=\"text-align: right;\">              968.135</td><td style=\"text-align: right;\">            -22.0443 </td><td style=\"text-align: right;\">            490.862 </td><td style=\"text-align: right;\">              1436.95 </td><td style=\"text-align: right;\">           1541.9  </td><td style=\"text-align: right;\">          1016.49  </td><td style=\"text-align: right;\">                2.59758</td><td style=\"text-align: right;\">            2560.99 </td><td style=\"text-align: right;\">             0.74667   </td><td style=\"text-align: right;\">             0.122007  </td><td style=\"text-align: right;\">           2.47547 </td><td style=\"text-align: right;\">          0.894685 </td><td style=\"text-align: right;\">                3.65363</td><td style=\"text-align: right;\">               1.17361 </td><td style=\"text-align: right;\">                9.17617</td><td style=\"text-align: right;\">             1.16274 </td><td style=\"text-align: right;\">               2006.41</td><td style=\"text-align: right;\">              2.76791</td><td style=\"text-align: right;\">              745.247</td><td style=\"text-align: right;\">             190.073 </td><td style=\"text-align: right;\">              92.771  </td><td style=\"text-align: right;\">                 3.84771</td><td style=\"text-align: right;\">             8.50622</td><td style=\"text-align: right;\">               6.66397</td><td style=\"text-align: right;\">           28.9384 </td><td style=\"text-align: right;\">           17.3805</td><td style=\"text-align: right;\">          7.59357</td><td style=\"text-align: right;\">          2007.25</td></tr>\n",
              "<tr><td style=\"text-align: right;\">              35.1202</td><td style=\"text-align: right;\">               59.016 </td><td style=\"text-align: right;\">          10256.2 </td><td style=\"text-align: right;\">               4.77545</td><td style=\"text-align: right;\">               6.01856</td><td style=\"text-align: right;\">             1954.62</td><td style=\"text-align: right;\">                1967.93</td><td style=\"text-align: right;\">              4.79522</td><td style=\"text-align: right;\">              724.641</td><td style=\"text-align: right;\">            129.304  </td><td style=\"text-align: right;\">             67.1439</td><td style=\"text-align: right;\">               921.089</td><td style=\"text-align: right;\">           1052.67 </td><td style=\"text-align: right;\">          -177.202 </td><td style=\"text-align: right;\">              -32.9215 </td><td style=\"text-align: right;\">             842.549</td><td style=\"text-align: right;\">             0.879529  </td><td style=\"text-align: right;\">             0.0102914 </td><td style=\"text-align: right;\">           0.798874</td><td style=\"text-align: right;\">          0.166289 </td><td style=\"text-align: right;\">                2.09575</td><td style=\"text-align: right;\">               0.994961</td><td style=\"text-align: right;\">                4.48624</td><td style=\"text-align: right;\">             0.659865</td><td style=\"text-align: right;\">               1957.05</td><td style=\"text-align: right;\">              1.21744</td><td style=\"text-align: right;\">              334.535</td><td style=\"text-align: right;\">              20.376 </td><td style=\"text-align: right;\">              40.1882 </td><td style=\"text-align: right;\">                -4.1723 </td><td style=\"text-align: right;\">             6.97086</td><td style=\"text-align: right;\">              77.4188 </td><td style=\"text-align: right;\">          -14.5185 </td><td style=\"text-align: right;\">          193.441 </td><td style=\"text-align: right;\">          8.2839 </td><td style=\"text-align: right;\">          2007.81</td></tr>\n",
              "</tbody>\n",
              "</table>"
            ]
          },
          "metadata": {}
        },
        {
          "output_type": "execute_result",
          "data": {
            "text/plain": [
              ""
            ]
          },
          "metadata": {},
          "execution_count": 14
        }
      ],
      "source": [
        "train_num_impute.head()"
      ]
    },
    {
      "cell_type": "markdown",
      "metadata": {
        "id": "PkkzGy6c0H1S"
      },
      "source": [
        "15. Impute numeric missing using GLRM matrix completion in validation data"
      ]
    },
    {
      "cell_type": "code",
      "execution_count": null,
      "metadata": {
        "id": "OaIetotk0H1S",
        "colab": {
          "base_uri": "https://localhost:8080/",
          "height": 402
        },
        "outputId": "0290e3b8-782b-4f07-d454-55541bcf2c61"
      },
      "outputs": [
        {
          "output_type": "stream",
          "name": "stdout",
          "text": [
            "validation missing:\n",
            " [80.0, 1.0, 33.0]\n",
            "glrm Model Build progress: |█████████████████████████████████████████████████████| (done) 100%\n",
            "glrm prediction progress: |██████████████████████████████████████████████████████| (done) 100%\n",
            "imputed validation missing:\n",
            " []\n"
          ]
        },
        {
          "output_type": "display_data",
          "data": {
            "text/plain": [
              "<Figure size 432x288 with 1 Axes>"
            ],
            "image/png": "[encoded data removed]"
          },
          "metadata": {
            "needs_background": "light"
          }
        }
      ],
      "source": [
        "valid_num_impute = glrm_num_impute('validation', valid)"
      ]
    },
    {
      "cell_type": "markdown",
      "metadata": {
        "id": "-mTengjT0H1U"
      },
      "source": [
        "16. Embed categorical vars in training data with GLRM"
      ]
    },
    {
      "cell_type": "code",
      "execution_count": null,
      "metadata": {
        "id": "Xj85xZKd0H1U",
        "colab": {
          "base_uri": "https://localhost:8080/",
          "height": 313
        },
        "outputId": "1e8cb52c-7fc8-4528-a3d0-ab101191df94"
      },
      "outputs": [
        {
          "output_type": "stream",
          "name": "stdout",
          "text": [
            "glrm Model Build progress: |█████████████████████████████████████████████████████| (done) 100%\n"
          ]
        },
        {
          "output_type": "display_data",
          "data": {
            "text/plain": [
              "<Figure size 432x288 with 1 Axes>"
            ],
            "image/png": "[encoded data removed]"
          },
          "metadata": {
            "needs_background": "light"
          }
        }
      ],
      "source": [
        "train_cat_embed = glrm_cat_embed(train) # runs for a long time"
      ]
    },
    {
      "cell_type": "markdown",
      "metadata": {
        "id": "Xp05usIv0H1V"
      },
      "source": [
        "17. Embed categorical vars in validation data with GLRM"
      ]
    },
    {
      "cell_type": "code",
      "execution_count": null,
      "metadata": {
        "id": "JbIRQJal0H1V",
        "colab": {
          "base_uri": "https://localhost:8080/",
          "height": 368
        },
        "outputId": "ef1a8ad6-49f4-401b-aba5-1c1d8f6c5c62"
      },
      "outputs": [
        {
          "output_type": "stream",
          "name": "stdout",
          "text": [
            "glrm Model Build progress: |"
          ]
        },
        {
          "output_type": "stream",
          "name": "stderr",
          "text": [
            "/usr/local/lib/python3.7/dist-packages/h2o/estimators/estimator_base.py:208: RuntimeWarning: Dropping bad and constant columns: [Utilities]\n",
            "  warnings.warn(mesg[\"message\"], RuntimeWarning)\n"
          ]
        },
        {
          "output_type": "stream",
          "name": "stdout",
          "text": [
            "█████████████████████████████████████████████████████| (done) 100%\n"
          ]
        },
        {
          "output_type": "display_data",
          "data": {
            "text/plain": [
              "<Figure size 432x288 with 1 Axes>"
            ],
            "image/png": "[encoded data removed]"
          },
          "metadata": {
            "needs_background": "light"
          }
        }
      ],
      "source": [
        "valid_cat_embed = glrm_cat_embed(valid) # runs for a long time"
      ]
    },
    {
      "cell_type": "markdown",
      "metadata": {
        "id": "uOFxSUxR0H1W"
      },
      "source": [
        "18. Merge imputed and embedded frames"
      ]
    },
    {
      "cell_type": "code",
      "execution_count": null,
      "metadata": {
        "id": "EK7Bx1OX0H1W"
      },
      "outputs": [],
      "source": [
        "imputed_embedded_train = train[['Id', 'SalePrice']].cbind(train_num_impute).cbind(train_cat_embed)\n",
        "imputed_embedded_valid = valid[['Id', 'SalePrice']].cbind(valid_num_impute).cbind(valid_cat_embed)"
      ]
    },
    {
      "cell_type": "markdown",
      "metadata": {
        "id": "p2o-Qmeb0H1W"
      },
      "source": [
        "19. Redefine numeric inputs and explore"
      ]
    },
    {
      "cell_type": "code",
      "execution_count": null,
      "metadata": {
        "id": "SG-rwOV30H1X",
        "colab": {
          "base_uri": "https://localhost:8080/",
          "height": 1000
        },
        "outputId": "4e7fa8ca-9d89-4494-e97e-68f77e68bbb2"
      },
      "outputs": [
        {
          "output_type": "stream",
          "name": "stdout",
          "text": [
            "Numeric = ['reconstr_MSSubClass', 'reconstr_LotFrontage', 'reconstr_LotArea', 'reconstr_OverallQual', 'reconstr_OverallCond', 'reconstr_YearBuilt', 'reconstr_YearRemodAdd', 'reconstr_MasVnrArea', 'reconstr_BsmtFinSF1', 'reconstr_BsmtFinSF2', 'reconstr_BsmtUnfSF', 'reconstr_TotalBsmtSF', 'reconstr_1stFlrSF', 'reconstr_2ndFlrSF', 'reconstr_LowQualFinSF', 'reconstr_GrLivArea', 'reconstr_BsmtFullBath', 'reconstr_BsmtHalfBath', 'reconstr_FullBath', 'reconstr_HalfBath', 'reconstr_BedroomAbvGr', 'reconstr_KitchenAbvGr', 'reconstr_TotRmsAbvGrd', 'reconstr_Fireplaces', 'reconstr_GarageYrBlt', 'reconstr_GarageCars', 'reconstr_GarageArea', 'reconstr_WoodDeckSF', 'reconstr_OpenPorchSF', 'reconstr_EnclosedPorch', 'reconstr_3SsnPorch', 'reconstr_ScreenPorch', 'reconstr_PoolArea', 'reconstr_MiscVal', 'reconstr_MoSold', 'reconstr_YrSold', 'Arch1', 'Arch2', 'Arch3', 'Arch4', 'Arch5', 'Arch6', 'Arch7', 'Arch8', 'Arch9', 'Arch10', 'Arch11', 'Arch12', 'Arch13', 'Arch14', 'Arch15', 'Arch16', 'Arch17', 'Arch18', 'Arch19', 'Arch20', 'Arch21', 'Arch22', 'Arch23', 'Arch24', 'Arch25', 'Arch26', 'Arch27', 'Arch28', 'Arch29', 'Arch30', 'Arch31', 'Arch32', 'Arch33', 'Arch34', 'Arch35', 'Arch36', 'Arch37', 'Arch38', 'Arch39', 'Arch40', 'Arch41', 'Arch42', 'Arch43', 'Arch44', 'Arch45', 'Arch46', 'Arch47', 'Arch48', 'Arch49', 'Arch50']\n",
            "\n",
            "Categorical = []\n",
            "Imputed and encoded numeric training data:\n",
            "Rows:1001\n",
            "Cols:88\n",
            "\n",
            "\n"
          ]
        },
        {
          "output_type": "display_data",
          "data": {
            "text/html": [
              "<table>\n",
              "<thead>\n",
              "<tr><th>       </th><th>Id               </th><th>SalePrice         </th><th>reconstr_MSSubClass  </th><th>reconstr_LotFrontage  </th><th>reconstr_LotArea  </th><th>reconstr_OverallQual  </th><th>reconstr_OverallCond  </th><th>reconstr_YearBuilt  </th><th>reconstr_YearRemodAdd  </th><th>reconstr_MasVnrArea  </th><th>reconstr_BsmtFinSF1  </th><th>reconstr_BsmtFinSF2  </th><th>reconstr_BsmtUnfSF  </th><th>reconstr_TotalBsmtSF  </th><th>reconstr_1stFlrSF  </th><th>reconstr_2ndFlrSF  </th><th>reconstr_LowQualFinSF  </th><th>reconstr_GrLivArea  </th><th>reconstr_BsmtFullBath  </th><th>reconstr_BsmtHalfBath  </th><th>reconstr_FullBath  </th><th>reconstr_HalfBath    </th><th>reconstr_BedroomAbvGr  </th><th>reconstr_KitchenAbvGr  </th><th>reconstr_TotRmsAbvGrd  </th><th>reconstr_Fireplaces  </th><th>reconstr_GarageYrBlt  </th><th>reconstr_GarageCars  </th><th>reconstr_GarageArea  </th><th>reconstr_WoodDeckSF  </th><th>reconstr_OpenPorchSF  </th><th>reconstr_EnclosedPorch  </th><th>reconstr_3SsnPorch  </th><th>reconstr_ScreenPorch  </th><th>reconstr_PoolArea  </th><th>reconstr_MiscVal   </th><th>reconstr_MoSold     </th><th>reconstr_YrSold   </th><th>Arch1                </th><th>Arch2                 </th><th>Arch3               </th><th>Arch4                </th><th>Arch5               </th><th>Arch6                </th><th>Arch7                </th><th>Arch8                 </th><th>Arch9               </th><th>Arch10              </th><th>Arch11               </th><th>Arch12              </th><th>Arch13              </th><th>Arch14              </th><th>Arch15               </th><th>Arch16                </th><th>Arch17              </th><th>Arch18              </th><th>Arch19               </th><th>Arch20              </th><th>Arch21               </th><th>Arch22               </th><th>Arch23               </th><th>Arch24               </th><th>Arch25               </th><th>Arch26              </th><th>Arch27               </th><th>Arch28               </th><th>Arch29              </th><th>Arch30              </th><th>Arch31              </th><th>Arch32               </th><th>Arch33              </th><th>Arch34              </th><th>Arch35               </th><th>Arch36              </th><th>Arch37               </th><th>Arch38                </th><th>Arch39               </th><th>Arch40                </th><th>Arch41               </th><th>Arch42              </th><th>Arch43              </th><th>Arch44               </th><th>Arch45               </th><th>Arch46               </th><th>Arch47              </th><th>Arch48               </th><th>Arch49               </th><th>Arch50               </th></tr>\n",
              "</thead>\n",
              "<tbody>\n",
              "<tr><td>type   </td><td>int              </td><td>int               </td><td>real                 </td><td>real                  </td><td>real              </td><td>real                  </td><td>real                  </td><td>real                </td><td>real                   </td><td>real                 </td><td>real                 </td><td>real                 </td><td>real                </td><td>real                  </td><td>real               </td><td>real               </td><td>real                   </td><td>real                </td><td>real                   </td><td>real                   </td><td>real               </td><td>real                 </td><td>real                   </td><td>real                   </td><td>real                   </td><td>real                 </td><td>real                  </td><td>real                 </td><td>real                 </td><td>real                 </td><td>real                  </td><td>real                    </td><td>real                </td><td>real                  </td><td>real               </td><td>real               </td><td>real                </td><td>real              </td><td>real                 </td><td>real                  </td><td>real                </td><td>real                 </td><td>real                </td><td>real                 </td><td>real                 </td><td>real                  </td><td>real                </td><td>real                </td><td>real                 </td><td>real                </td><td>real                </td><td>real                </td><td>real                 </td><td>real                  </td><td>real                </td><td>real                </td><td>real                 </td><td>real                </td><td>real                 </td><td>real                 </td><td>real                 </td><td>real                 </td><td>real                 </td><td>real                </td><td>real                 </td><td>real                 </td><td>real                </td><td>real                </td><td>real                </td><td>real                 </td><td>real                </td><td>real                </td><td>real                 </td><td>real                </td><td>real                 </td><td>real                  </td><td>real                 </td><td>real                  </td><td>real                 </td><td>real                </td><td>real                </td><td>real                 </td><td>real                 </td><td>real                 </td><td>real                </td><td>real                 </td><td>real                 </td><td>real                 </td></tr>\n",
              "<tr><td>mins   </td><td>1.0              </td><td>34900.0           </td><td>-64.59925489482721   </td><td>-675.34374169413      </td><td>-43717.54431215916</td><td>3.3953509441572924    </td><td>3.3294969772249927    </td><td>1895.962827557306   </td><td>1941.0550286814423     </td><td>-254.30914158116866  </td><td>-318.70104254931874  </td><td>-287.12377898900917  </td><td>-700.4723749155809  </td><td>238.933787932335      </td><td>384.8575819518459  </td><td>-376.71861667426646</td><td>-82.66863659864092     </td><td>324.3643662579452   </td><td>-0.46368662906642455   </td><td>-0.6441158870380423    </td><td>0.5566576616785204 </td><td>-0.9210380496994404  </td><td>1.2973126797854888     </td><td>0.542949808598387      </td><td>2.6140269709483746     </td><td>-0.7359411499539961  </td><td>1924.3292149544375    </td><td>-0.37467565309123496 </td><td>-144.6770375789868   </td><td>-100.56551305318574  </td><td>-50.3904379023947     </td><td>-119.2483225863501      </td><td>-58.47501815462659  </td><td>-147.43509791723818   </td><td>-55.58681160285601 </td><td>-1474.0658308058462</td><td>-0.10850128821803562</td><td>2002.4871469181796</td><td>-0.5374184621347902  </td><td>-0.6142718434962435   </td><td>-0.5456609832138628 </td><td>-0.505951063914427   </td><td>-0.38147711703621817</td><td>-0.4547570520766015  </td><td>-0.7323503994602779  </td><td>-0.5512939286361961   </td><td>-0.5246506073205343 </td><td>-0.5864823276190919 </td><td>-0.4926887165594985  </td><td>-0.5936964835002287 </td><td>-0.5035560749585509 </td><td>-0.512019958385935  </td><td>-0.49660015074130726 </td><td>-0.7620595619848979   </td><td>-0.4590904427663423 </td><td>-0.5171006818751035 </td><td>-0.6609539553700502  </td><td>-0.4163911682676171 </td><td>-0.6274658459380574  </td><td>-0.9636843747489741  </td><td>-0.9708939101946886  </td><td>-0.6595327968188051  </td><td>-0.4134991527216117  </td><td>-0.7244936987870071 </td><td>-0.4779506393205474  </td><td>-0.5567511473044259  </td><td>-0.501823524563496  </td><td>-0.6456200226603943 </td><td>-0.4600853986117895 </td><td>-0.4758642921746174  </td><td>-0.7580050143301814 </td><td>-0.4253555564792938 </td><td>-0.7709002623653247  </td><td>-0.5087647708994947 </td><td>-0.43779612172817545 </td><td>-0.41606149723437197  </td><td>-0.4644368992883791  </td><td>-0.5819029881006389   </td><td>-0.4551013092364462  </td><td>-0.5086024116732367 </td><td>-0.5027016236321846 </td><td>-0.5461902145041244  </td><td>-0.5783809370622193  </td><td>-0.6592720372388359  </td><td>-0.4994609436959995 </td><td>-0.5254173575490017  </td><td>-0.6730543113314104  </td><td>-0.46382396690744515 </td></tr>\n",
              "<tr><td>mean   </td><td>724.8291708291705</td><td>182171.95904095893</td><td>56.89405637509002    </td><td>71.25307785981404     </td><td>10706.401835737654</td><td>6.136367838598657     </td><td>5.582767152309022     </td><td>1971.9944935734989  </td><td>1984.8937656696405     </td><td>107.00768398149857   </td><td>445.7174959702375    </td><td>41.89396950564188    </td><td>575.0390411578867   </td><td>1062.650506633766     </td><td>1172.570038124237  </td><td>342.2570593506547  </td><td>5.884725054214955      </td><td>1520.7118225291053  </td><td>0.4258335032543762     </td><td>0.060758816621798536   </td><td>1.571497881479508  </td><td>0.3818425522622315   </td><td>2.874458887989991      </td><td>1.0472728335213717     </td><td>6.5156668145673695     </td><td>0.6235736067080643   </td><td>1978.45054316317      </td><td>1.7908865820653845   </td><td>476.9756408188908    </td><td>90.81905742655182    </td><td>44.79965075657362     </td><td>21.74002201971292       </td><td>3.4295394337648966  </td><td>14.828407412937715    </td><td>3.406001973304866  </td><td>31.296168509381044 </td><td>6.366902450882957   </td><td>2007.82671928495  </td><td>0.03789702992728133  </td><td>0.05879346314130011   </td><td>0.024404081302336945</td><td>-0.017702113493930714</td><td>0.007395369318399129</td><td>0.04088137464755632  </td><td>0.032373594568912305 </td><td>0.046942219495438225  </td><td>-0.0116134387340919 </td><td>0.033194259696432506</td><td>0.017137055208581053 </td><td>0.06687156967320024 </td><td>0.011701517952602512</td><td>0.032964644688014216</td><td>0.03818276579853593  </td><td>0.042816354632747036  </td><td>0.034246895939493004</td><td>0.07140083393928279 </td><td>0.03404287575351295  </td><td>0.08622528147638188 </td><td>0.0453075216785798   </td><td>0.09757634463875203  </td><td>0.11119558020909127  </td><td>0.02349389769034809  </td><td>0.017545463400165523 </td><td>0.030667149250538032</td><td>0.04134782192914864  </td><td>-0.007320642750563892</td><td>0.055654498325264354</td><td>0.03437252456219587 </td><td>0.006111119118714153</td><td>0.05014102720423841  </td><td>0.04182976003095821 </td><td>0.03320143218154006 </td><td>0.06356623000740083  </td><td>0.11165031219502317 </td><td>0.026008196350149736 </td><td>0.07345339062793277   </td><td>0.0576581762869609   </td><td>-0.0015633217726663763</td><td>0.02514902645822695  </td><td>0.07918612129174592 </td><td>0.001623585258577431</td><td>0.032718186968896515 </td><td>0.01655692442353256  </td><td>0.05342431384323387  </td><td>0.016554904544447326</td><td>0.00771759627158753  </td><td>0.081873917262457    </td><td>0.035848491086835806 </td></tr>\n",
              "<tr><td>maxs   </td><td>1460.0           </td><td>755000.0          </td><td>168.07598936675322   </td><td>278.63784922556954    </td><td>65270.39271998201 </td><td>11.813290748396142    </td><td>13.34934948777751     </td><td>2026.7095661918922  </td><td>2054.504643729036      </td><td>883.1255727620503    </td><td>4450.251163449977    </td><td>728.5993643502441    </td><td>1885.089432722917   </td><td>4711.4275544103775    </td><td>4502.258514018072  </td><td>1733.4703520487888 </td><td>376.27325634192704     </td><td>5116.049495164942   </td><td>3.660935970947232      </td><td>0.9160719995830123     </td><td>3.1910860214392036 </td><td>1.77170969218491     </td><td>6.8449850482593995     </td><td>2.237447056470142      </td><td>13.914643694609758     </td><td>4.123917017876245    </td><td>2021.7403092543764    </td><td>4.396145744073728    </td><td>1494.7639161284833   </td><td>523.4599119999526    </td><td>295.19508593038245    </td><td>473.949052532289        </td><td>67.9296963716934    </td><td>257.82045970492726    </td><td>318.94397979305813 </td><td>12240.395227760977 </td><td>12.130744316073265  </td><td>2010.2065749475332</td><td>1.0574782201628574   </td><td>1.0273754669626325    </td><td>1.3784108320035457  </td><td>0.8419908765150368   </td><td>0.9200596298039772  </td><td>0.8816295820343909   </td><td>1.0746591858844967   </td><td>1.053957250319841     </td><td>0.6355620954384263  </td><td>0.695629844809201   </td><td>1.0127733997035684   </td><td>2.059837234642276   </td><td>0.9068575020217315  </td><td>0.7620759682697912  </td><td>1.1762124645118837   </td><td>0.7054089067364968    </td><td>0.9511802490399989  </td><td>1.0773370969265401  </td><td>0.9940201949564117   </td><td>1.7920986002737609  </td><td>0.9669372477026443   </td><td>1.9508724397261492   </td><td>2.234572222180827    </td><td>1.144289772746118    </td><td>1.105772675429108    </td><td>1.2913874843638367  </td><td>1.19702897011066     </td><td>0.631319387388585    </td><td>1.1065149476231044  </td><td>1.262996979438525   </td><td>0.6415493189350265  </td><td>1.192631726501435    </td><td>0.8468612812376548  </td><td>1.2811765842530498  </td><td>1.2446909947022495   </td><td>1.5982302941058815  </td><td>0.7699580976944759   </td><td>1.9423759808662293    </td><td>1.5597787807379015   </td><td>0.60223385508821      </td><td>0.9299389719366831   </td><td>1.4570178313464306  </td><td>0.9820018283730095  </td><td>1.0531587809142422   </td><td>1.2423203442472752   </td><td>1.059947987475654    </td><td>0.7603508931624834  </td><td>0.6432093735351495   </td><td>1.5062071585981216   </td><td>1.1280482566160175   </td></tr>\n",
              "<tr><td>sigma  </td><td>421.4954943866087</td><td>80367.94618029826 </td><td>30.933209811427652   </td><td>34.97723017580194     </td><td>6430.107653279441 </td><td>1.1642298926565586    </td><td>0.8111861963030955    </td><td>26.97286664734555   </td><td>16.6936920821102       </td><td>124.73915427505524   </td><td>431.94296015036093   </td><td>95.57228045557069    </td><td>407.6243304372853   </td><td>406.5823285869894     </td><td>365.35494827662046 </td><td>408.14032708999025 </td><td>32.75559516445592      </td><td>497.0139896537751   </td><td>0.44463177175110946    </td><td>0.1554158144417456     </td><td>0.45182708844824576</td><td>0.4112048807371439   </td><td>0.634883264893419      </td><td>0.19049227519779255    </td><td>1.4411478852123365     </td><td>0.4580354138086299   </td><td>22.819838071102524    </td><td>0.5917173915418893   </td><td>167.6163272826196    </td><td>72.48351519366409    </td><td>39.15587397778228     </td><td>43.49058545714244       </td><td>11.870482890726702  </td><td>38.63093505726232     </td><td>26.745702434407093 </td><td>458.91664621894415 </td><td>2.0440249357471627  </td><td>0.9938646306001625</td><td>0.19692145925042734  </td><td>0.21052778950598652   </td><td>0.217189730609217   </td><td>0.19882324877443375  </td><td>0.1721443009424324  </td><td>0.21770519050641388  </td><td>0.2098280786028324   </td><td>0.21643982484890048   </td><td>0.17363856793231802 </td><td>0.19767157095808705 </td><td>0.20699607546838605  </td><td>0.19364968594689863 </td><td>0.20190496139395592 </td><td>0.1933710450706531  </td><td>0.21130089592510018  </td><td>0.20934621009822488   </td><td>0.20921068948854557 </td><td>0.2184674005258668  </td><td>0.22114455821919357  </td><td>0.20987054619411238 </td><td>0.20286315424551013  </td><td>0.21106593152676945  </td><td>0.22098682490898694  </td><td>0.2139741956463292   </td><td>0.19462926401528358  </td><td>0.21679161887397322 </td><td>0.21224034210517448  </td><td>0.18617123123422266  </td><td>0.20538793613667908 </td><td>0.21714568867106496 </td><td>0.17390548396176875 </td><td>0.2012142308739942   </td><td>0.2048158471945893  </td><td>0.19516302063659008 </td><td>0.21557129815213383  </td><td>0.18631453258476244 </td><td>0.19735092930433673  </td><td>0.18923361367776753   </td><td>0.1882549642257886   </td><td>0.1989676484537571    </td><td>0.19360990934043004  </td><td>0.23172839509865847 </td><td>0.20812584250216934 </td><td>0.1971880288460926   </td><td>0.20439169411221     </td><td>0.21975339320072346  </td><td>0.19211804173704836 </td><td>0.17190594431520995  </td><td>0.225539078860223    </td><td>0.21062447717257285  </td></tr>\n",
              "<tr><td>zeros  </td><td>0                </td><td>0                 </td><td>0                    </td><td>0                     </td><td>0                 </td><td>0                     </td><td>0                     </td><td>0                   </td><td>0                      </td><td>0                    </td><td>0                    </td><td>0                    </td><td>0                   </td><td>0                     </td><td>0                  </td><td>0                  </td><td>0                      </td><td>0                   </td><td>0                      </td><td>0                      </td><td>0                  </td><td>0                    </td><td>0                      </td><td>0                      </td><td>0                      </td><td>0                    </td><td>0                     </td><td>0                    </td><td>0                    </td><td>0                    </td><td>0                     </td><td>0                       </td><td>0                   </td><td>0                     </td><td>0                  </td><td>0                  </td><td>0                   </td><td>0                 </td><td>0                    </td><td>0                     </td><td>0                   </td><td>0                    </td><td>0                   </td><td>0                    </td><td>0                    </td><td>0                     </td><td>0                   </td><td>0                   </td><td>0                    </td><td>0                   </td><td>0                   </td><td>0                   </td><td>0                    </td><td>0                     </td><td>0                   </td><td>0                   </td><td>0                    </td><td>0                   </td><td>0                    </td><td>0                    </td><td>0                    </td><td>0                    </td><td>0                    </td><td>0                   </td><td>0                    </td><td>0                    </td><td>0                   </td><td>0                   </td><td>0                   </td><td>0                    </td><td>0                   </td><td>0                   </td><td>0                    </td><td>0                   </td><td>0                    </td><td>0                     </td><td>0                    </td><td>0                     </td><td>0                    </td><td>0                   </td><td>0                   </td><td>0                    </td><td>0                    </td><td>0                    </td><td>0                   </td><td>0                    </td><td>0                    </td><td>0                    </td></tr>\n",
              "<tr><td>missing</td><td>0                </td><td>0                 </td><td>0                    </td><td>0                     </td><td>0                 </td><td>0                     </td><td>0                     </td><td>0                   </td><td>0                      </td><td>0                    </td><td>0                    </td><td>0                    </td><td>0                   </td><td>0                     </td><td>0                  </td><td>0                  </td><td>0                      </td><td>0                   </td><td>0                      </td><td>0                      </td><td>0                  </td><td>0                    </td><td>0                      </td><td>0                      </td><td>0                      </td><td>0                    </td><td>0                     </td><td>0                    </td><td>0                    </td><td>0                    </td><td>0                     </td><td>0                       </td><td>0                   </td><td>0                     </td><td>0                  </td><td>0                  </td><td>0                   </td><td>0                 </td><td>0                    </td><td>0                     </td><td>0                   </td><td>0                    </td><td>0                   </td><td>0                    </td><td>0                    </td><td>0                     </td><td>0                   </td><td>0                   </td><td>0                    </td><td>0                   </td><td>0                   </td><td>0                   </td><td>0                    </td><td>0                     </td><td>0                   </td><td>0                   </td><td>0                    </td><td>0                   </td><td>0                    </td><td>0                    </td><td>0                    </td><td>0                    </td><td>0                    </td><td>0                   </td><td>0                    </td><td>0                    </td><td>0                   </td><td>0                   </td><td>0                   </td><td>0                    </td><td>0                   </td><td>0                   </td><td>0                    </td><td>0                   </td><td>0                    </td><td>0                     </td><td>0                    </td><td>0                     </td><td>0                    </td><td>0                   </td><td>0                   </td><td>0                    </td><td>0                    </td><td>0                    </td><td>0                   </td><td>0                    </td><td>0                    </td><td>0                    </td></tr>\n",
              "<tr><td>0      </td><td>1.0              </td><td>208500.0          </td><td>100.20040259941582   </td><td>61.762472554236936    </td><td>7147.294861710639 </td><td>6.904937331158486     </td><td>5.215132982528886     </td><td>1997.9898361382448  </td><td>1999.9379152062133     </td><td>160.36611569966578   </td><td>592.201301235448     </td><td>50.70914875946802    </td><td>250.87253639208615  </td><td>893.782986387004      </td><td>956.0120629198947  </td><td>786.2952039195816  </td><td>8.759291179536792      </td><td>1751.066558019013   </td><td>0.7463112076570066     </td><td>-0.06809213972490377   </td><td>1.879895968897412  </td><td>0.9104552374146209   </td><td>2.954987209703612      </td><td>1.039068136886618      </td><td>7.079575736548509      </td><td>0.5715025693091548   </td><td>2002.4736825421442    </td><td>2.171642575581336    </td><td>568.2004920209075    </td><td>142.2362109932049    </td><td>55.76542937299602     </td><td>4.602400157306086       </td><td>-8.503825269291642  </td><td>-1.5177807260977527   </td><td>2.7874277079453065 </td><td>-91.77096978922253 </td><td>4.17286566820829    </td><td>2008.8506830105432</td><td>0.026072738115220727 </td><td>-0.0016216227161179276</td><td>0.23251514925693392 </td><td>-0.06399506002561817 </td><td>-0.1961779217693199 </td><td>0.09864963522740995  </td><td>0.07197354098199349  </td><td>0.18007584066069096   </td><td>-0.23644044048895368</td><td>0.4259519297052191  </td><td>-0.10029963140276063 </td><td>-0.01912453119610206</td><td>-0.1902261863136065 </td><td>0.06983948044794402 </td><td>-0.05038747952227341 </td><td>0.05903232478274584   </td><td>0.315386535370379   </td><td>0.17752445166360736 </td><td>0.22564462989774134  </td><td>0.3064234653380459  </td><td>-0.08140268540173799 </td><td>-0.032017019295589255</td><td>0.07314912186047023  </td><td>0.0100831489590119   </td><td>-0.08064572407200563 </td><td>-0.102372595369862  </td><td>-0.007613451981985237</td><td>-0.029414264676274962</td><td>0.08400794498848019 </td><td>-0.08196617908553164</td><td>0.4940552018413534  </td><td>-0.013911261017293905</td><td>0.05114543251339792 </td><td>-0.03453038357775589</td><td>0.1398722962072974   </td><td>0.10589996360648515 </td><td>-0.14188666207366976 </td><td>-0.0052295436755564135</td><td>0.06394476699228614  </td><td>0.30346255435026454   </td><td>-0.17311162022631701 </td><td>0.14367520572543183 </td><td>0.032229381717704675</td><td>0.18750201278367332  </td><td>0.03628209956245629  </td><td>0.04565232703884507  </td><td>-0.16233978628777934</td><td>-0.13564956757101757 </td><td>0.0036430395077102474</td><td>0.3476182712694638   </td></tr>\n",
              "<tr><td>1      </td><td>2.0              </td><td>181500.0          </td><td>30.33948045150598    </td><td>84.20238339144153     </td><td>20840.547542479537</td><td>6.205504816228804     </td><td>7.505612782035902     </td><td>1962.7022927786122  </td><td>1995.0517759355785     </td><td>159.56365472404653   </td><td>787.1003997667434    </td><td>-96.65775017685388   </td><td>460.5151308151275   </td><td>1150.9577804050189    </td><td>1280.0103094495169 </td><td>166.11162221089992 </td><td>-5.1207130916838715    </td><td>1441.0012185687328  </td><td>0.3047827639421567     </td><td>0.5719711630038194     </td><td>1.3922256856804975 </td><td>0.06519804820347846  </td><td>2.7035168274282317     </td><td>0.8466348204846421     </td><td>5.837686831657275      </td><td>0.7625714350769819   </td><td>1970.2091850970298    </td><td>1.6426435187566304   </td><td>456.6156661395145    </td><td>239.68820622011202   </td><td>-2.117342558920278    </td><td>23.755416270127494      </td><td>32.460790810183376  </td><td>-39.30481114111115    </td><td>10.935137989189526 </td><td>240.7162814483402  </td><td>6.562407433082033   </td><td>2007.2802185752553</td><td>-0.20300576938217557 </td><td>0.2623614051218958    </td><td>-0.27072210014517456</td><td>-0.22925599906199093 </td><td>-0.11817422631714447</td><td>0.21413444948957366  </td><td>-0.3365710455570482  </td><td>-0.0034352010714078346</td><td>0.1114992379740766  </td><td>-0.07362390724379907</td><td>-0.14061992126357464 </td><td>0.35081877849074433 </td><td>-0.12130481043934084</td><td>-0.02255639978212164</td><td>0.03829093832625629  </td><td>0.056831192715433396  </td><td>0.1266246129920758  </td><td>0.25952085079417325 </td><td>-0.1952572281071878  </td><td>0.16853697062597617 </td><td>-0.14562473577670254 </td><td>0.4320308671710702   </td><td>-0.11234994518550545 </td><td>0.2403539339361749   </td><td>-0.2359820019831724  </td><td>-0.18784598566936456</td><td>0.20698629822151868  </td><td>0.020776918592929617 </td><td>0.13563784246597915 </td><td>-0.08095783152508479</td><td>-0.30842691628380414</td><td>0.3958835627584071   </td><td>0.5111806366898286  </td><td>-0.0388589696507064 </td><td>0.2897334996777116   </td><td>0.21060413599556405 </td><td>0.2339538876448881   </td><td>-0.06147685579129544  </td><td>-0.19300640312823128 </td><td>0.055528362126576775  </td><td>0.016364188676277206 </td><td>-0.17199512815749368</td><td>0.026314681917617117</td><td>-0.2645475946080885  </td><td>0.0016463314856739188</td><td>0.2068156793939762   </td><td>0.05156137403547569 </td><td>0.17717626591609864  </td><td>0.12004917470753039  </td><td>0.35325238813932425  </td></tr>\n",
              "<tr><td>2      </td><td>3.0              </td><td>223500.0          </td><td>86.52856654451442    </td><td>66.82846664034398     </td><td>8155.24574519797  </td><td>6.947725120335029     </td><td>5.128272600314831     </td><td>1998.1860669724538  </td><td>1996.7324487954775     </td><td>167.28794173344406   </td><td>556.5821029122028    </td><td>35.67413274766156    </td><td>357.3408063245621   </td><td>949.5970419844283     </td><td>1026.9213134043168 </td><td>707.6319576889912  </td><td>-14.558709829402675    </td><td>1719.9945612639053  </td><td>0.5985346320923144     </td><td>0.014307924902808085   </td><td>1.8220213133186045 </td><td>0.902207427620282    </td><td>2.864851192556384      </td><td>1.0081457879028406     </td><td>6.852628341576694      </td><td>0.7657056857026355   </td><td>1999.203871158838     </td><td>2.2374886655251918   </td><td>580.3252561250413    </td><td>107.04677251287039   </td><td>79.2116715857663      </td><td>-6.602656362911286      </td><td>1.5164597901213726  </td><td>27.141600095306377    </td><td>-1.5780986688277716</td><td>-144.76510806533065</td><td>7.466994286443436   </td><td>2007.5794750429086</td><td>0.05308284885343328  </td><td>-0.010503472222016152 </td><td>0.12653350618321227 </td><td>-0.1890459764321615  </td><td>-0.09492506576900345</td><td>-0.015725672117230007</td><td>-0.058696952416247276</td><td>0.28206414391407164   </td><td>-0.18629979012988532</td><td>0.398957609748554   </td><td>-0.008143086025840645</td><td>0.2358230553177706  </td><td>-0.14169314910075678</td><td>0.17677013726420024 </td><td>-0.010700462044961811</td><td>-0.0009367574212128339</td><td>0.2679447134126209  </td><td>0.19314935950610385 </td><td>-0.054761861247807124</td><td>0.0806350738510683  </td><td>0.1659072628132001   </td><td>0.041923366080938156 </td><td>0.13617395216371658  </td><td>-0.13639879010475803 </td><td>-0.10136885980025746 </td><td>0.034302926486007704</td><td>-0.11250030204282242 </td><td>-0.1807142950009451  </td><td>0.058852954126141846</td><td>-0.2587814086474051 </td><td>0.4594588507176866  </td><td>-0.16752726107467975 </td><td>0.20743799448108888 </td><td>-0.1461616006629981 </td><td>0.028483589915209936 </td><td>0.09074565453709767 </td><td>-0.13525234224093538 </td><td>0.07181917725371009   </td><td>0.07577047796190996  </td><td>0.3106844297889278    </td><td>-0.017276647271238673</td><td>-0.16574760640558475</td><td>0.12016661401103043 </td><td>0.06471428368037749  </td><td>0.15369240214402527  </td><td>0.16108091813677058  </td><td>0.025088553753081846</td><td>-0.20205820148284837 </td><td>0.0015625393128228108</td><td>0.32843171041223407  </td></tr>\n",
              "<tr><td>3      </td><td>5.0              </td><td>250000.0          </td><td>87.04592997513217    </td><td>87.84145158388513     </td><td>14237.350958429131</td><td>7.794476040489579     </td><td>5.175526668739235     </td><td>2004.278541795995   </td><td>2003.5468534441686     </td><td>277.65066756793055   </td><td>755.6753142354144    </td><td>8.44946457737909     </td><td>458.1888096591071   </td><td>1222.3135884719024    </td><td>1335.3776991977827 </td><td>1009.8795231420731 </td><td>-21.307054885068467    </td><td>2323.9501674547873  </td><td>0.6311209918810099     </td><td>0.07900707608710326    </td><td>2.273243171441064  </td><td>1.070726387561413    </td><td>3.5105761159358604     </td><td>1.0955199367792436     </td><td>8.576165294397162      </td><td>1.1568284886429043   </td><td>2004.519231533668     </td><td>2.664021287693928    </td><td>699.2355233559435    </td><td>154.53336935188884   </td><td>103.79038320816349    </td><td>-18.436617388236012     </td><td>8.8693939745106     </td><td>32.87112770637103     </td><td>9.86674447176578   </td><td>-147.7392447232488 </td><td>8.613288345271787   </td><td>2007.2452784145328</td><td>0.08171108750347984  </td><td>-0.07357655504190755  </td><td>0.09752608262115833 </td><td>-0.09909538373550686 </td><td>-0.08523028032352653</td><td>-0.019976145383979037</td><td>-0.042818416605967136</td><td>0.1582289354559832    </td><td>-0.1834751288817767 </td><td>0.13035953403692233 </td><td>0.10985862036871424  </td><td>0.005965374008101299</td><td>-0.08470722127823399</td><td>0.17739096224734693 </td><td>-0.05347792557426006 </td><td>0.18110572616647552   </td><td>0.2251321170142828  </td><td>0.6392032697973934  </td><td>0.030008512823766386 </td><td>0.010138276141408257</td><td>0.1251180488607179   </td><td>0.11245865350857466  </td><td>0.09380282195060118  </td><td>-0.09025252445040312 </td><td>-0.04462286354519977 </td><td>-0.0859283192489398 </td><td>-0.05690846930226174 </td><td>-0.039780309791512744</td><td>0.06845136090306801 </td><td>-0.15558474104698222</td><td>0.10665263540646501 </td><td>-0.05458156829001587 </td><td>0.1693615662065423  </td><td>-0.10213396065659916</td><td>0.07679996953803304  </td><td>0.10067507970903214 </td><td>-0.06375347210999979 </td><td>-0.09208486664442947  </td><td>-0.07269757426619286 </td><td>-0.017280066852845794 </td><td>-0.15152686853153158 </td><td>-0.07123401664663087</td><td>0.2654297796574794  </td><td>0.10522893151478627  </td><td>-0.07803995131986391 </td><td>0.06706249192600611  </td><td>0.010379927280855667</td><td>-0.09962825672402173 </td><td>-0.04038160988620282 </td><td>0.505654672702817    </td></tr>\n",
              "<tr><td>4      </td><td>6.0              </td><td>143000.0          </td><td>62.440180298333935   </td><td>69.13721607417361     </td><td>15465.777806318934</td><td>5.572205566072926     </td><td>6.7540805406692375    </td><td>1993.5888089284197  </td><td>2003.5300263601132     </td><td>45.30304598455974    </td><td>838.8217824438136    </td><td>-34.08546314522283   </td><td>-26.489921002120354 </td><td>778.246398296472      </td><td>983.4437114734702  </td><td>69.22071556681954  </td><td>-64.5228888389494      </td><td>988.1415382013404   </td><td>0.789657472243412      </td><td>0.31283958815637913    </td><td>1.4841810482934614 </td><td>0.19502471404531999  </td><td>2.4011396715205096     </td><td>1.0457780445041525     </td><td>4.955711936019263      </td><td>0.28268977893913255  </td><td>1992.2203205695075    </td><td>1.661453978539732    </td><td>424.7114618173093    </td><td>194.69327462820524   </td><td>43.19514559054836     </td><td>-97.02327829858991      </td><td>44.68042569862052   </td><td>-5.844788133659629    </td><td>-29.71446513891066 </td><td>62.291342874361426 </td><td>11.20540387415583   </td><td>2006.8792181272513</td><td>0.25211669071109255  </td><td>-0.49013988901298405  </td><td>-0.1925538533330639 </td><td>-0.2631988030890382  </td><td>0.11529520218629066 </td><td>0.3348835585839269   </td><td>-0.10738305865365863 </td><td>0.09018867559863898   </td><td>-0.19206263895176717</td><td>-0.04566868627822531</td><td>0.24391735420633728  </td><td>0.12838167512496362 </td><td>0.13068131152960574 </td><td>0.11176462375177068 </td><td>-0.10285846917988951 </td><td>-0.04264449692341392  </td><td>0.126155517042789   </td><td>-0.05847678929675276</td><td>-0.3253087582666437  </td><td>0.09261988934613345 </td><td>0.018540425756074917 </td><td>-0.023570476998323157</td><td>0.10912227146804825  </td><td>0.017728848856411246 </td><td>-0.01987435261828881 </td><td>0.14360437850158034 </td><td>0.22657754886500572  </td><td>0.24062728169627945  </td><td>0.3335400758667561  </td><td>-0.05594077664180473</td><td>0.28395462189653636 </td><td>0.031907828044438986 </td><td>0.03282510707463642 </td><td>0.2617429372717836  </td><td>0.4065744940123834   </td><td>0.28567267047625294 </td><td>0.2381842890382796   </td><td>0.18387214797407564   </td><td>0.19761333446247317  </td><td>-0.01699061805091291  </td><td>0.05338599474844126  </td><td>0.21013554972426401 </td><td>-0.13759929764454296</td><td>-0.01792674661259266 </td><td>-0.24072328056685463 </td><td>-0.021095992036952168</td><td>-0.14029380307596703</td><td>-0.36833363146298365 </td><td>0.16595165614752683  </td><td>-0.02621136610700887 </td></tr>\n",
              "<tr><td>5      </td><td>7.0              </td><td>307000.0          </td><td>51.275464620156804   </td><td>80.56738447518322     </td><td>15601.948194885412</td><td>7.305797702552212     </td><td>5.24004017674869      </td><td>2004.9698072366666  </td><td>2002.8447222585037     </td><td>219.0880124401025    </td><td>1154.3288675155031   </td><td>50.339213362901816   </td><td>469.7330986337638   </td><td>1674.4011795121705    </td><td>1695.6463880766128 </td><td>44.13542946096942  </td><td>0.6216004629768443     </td><td>1740.4034180005592  </td><td>1.0554101296090992     </td><td>0.10692243108828156    </td><td>1.924639995136813  </td><td>0.09984952219645832  </td><td>2.5034059409867004     </td><td>1.050608802113323      </td><td>6.586905669301141      </td><td>0.8392418136088274   </td><td>2004.751074387447     </td><td>2.428895929053219    </td><td>690.6059196896879    </td><td>176.5810425703791    </td><td>70.17649492478037     </td><td>-8.051022592832055      </td><td>14.988796959083231  </td><td>4.941397313359879     </td><td>21.66818748073087  </td><td>175.1595205998924  </td><td>7.425611723435123   </td><td>2007.3498609249202</td><td>0.025457383441431343 </td><td>0.2014490159547295    </td><td>0.3077332383276656  </td><td>-0.09010391644209699 </td><td>0.05396626580067275 </td><td>0.021493107403478144 </td><td>-0.15424377241211307 </td><td>0.23751710978546342   </td><td>0.12547646247336186 </td><td>0.06217021425835737 </td><td>0.10617308462697628  </td><td>-0.04782504240425635</td><td>-0.1346113832909095 </td><td>-0.06813803493989275</td><td>0.04868739569687984  </td><td>-0.06494642009476008  </td><td>0.4971941044327257  </td><td>0.3799477337596643  </td><td>0.0374690607735351   </td><td>0.029997243118241052</td><td>-0.012301590287678925</td><td>0.37653711038122795  </td><td>0.12045189462159922  </td><td>-0.030176221648984494</td><td>-0.07565139456034574 </td><td>-0.16265399002832312</td><td>-0.21460900738075012 </td><td>0.026537163507344804 </td><td>0.5113401795520031  </td><td>-0.05367127034009016</td><td>0.049037920181348296</td><td>-0.028144720587443713</td><td>-0.2856494398029427 </td><td>-0.06836726876502926</td><td>-0.01388976185654075 </td><td>0.04989473586895112 </td><td>-0.005238085317781517</td><td>0.056193835062072914  </td><td>-0.061575261801627104</td><td>0.10592765721817292   </td><td>-0.14290274414005982 </td><td>0.2787320114306246  </td><td>0.2059211970491614  </td><td>0.023727058567508518 </td><td>-0.11183516720985416 </td><td>0.10930340060599941  </td><td>-0.09754534993345182</td><td>-0.0370595045139094  </td><td>0.08613466736397718  </td><td>0.005752171770706431 </td></tr>\n",
              "<tr><td>6      </td><td>9.0              </td><td>129900.0          </td><td>86.34925874798796    </td><td>59.02962540035315     </td><td>5983.697525449767 </td><td>5.61897402812392      </td><td>4.542784746326393     </td><td>1926.3152997480652  </td><td>1949.2546293532337     </td><td>253.1308510208698    </td><td>269.6101654179641    </td><td>-120.58957727612452  </td><td>962.91839457484     </td><td>1111.9389827166813    </td><td>1365.9699715711938 </td><td>519.6918951426712  </td><td>27.647067608909147     </td><td>1913.3089343227743  </td><td>-0.002928330682436031  </td><td>0.00977723308842706    </td><td>1.6012775896474427 </td><td>0.19496255160153814  </td><td>3.4922792947861443     </td><td>1.473320912850638      </td><td>8.170046776098111      </td><td>0.7250160303733908   </td><td>1943.044894702786     </td><td>1.6555698807487846   </td><td>434.7288053303536    </td><td>-55.41755958496911   </td><td>-22.01232417276659    </td><td>131.77163791246412      </td><td>-15.381704963858862 </td><td>16.184450620532523    </td><td>2.8902877840454346 </td><td>70.31447493326749  </td><td>4.651554322337795   </td><td>2008.1089841166047</td><td>0.020458471292070374 </td><td>0.45200799426840194   </td><td>0.14257410245240681 </td><td>0.20447505738818456  </td><td>0.26272497243334986 </td><td>-0.22305919512039624 </td><td>0.059926465919155576 </td><td>-0.08456183952663211  </td><td>-0.1731473958808608 </td><td>0.21321385681884522 </td><td>-0.17093561179590117 </td><td>-0.04622195948927992</td><td>0.09083782706855759 </td><td>0.15890575747987074 </td><td>-0.10834887365319064 </td><td>-0.0784907225033679   </td><td>-0.3291103344961058 </td><td>-0.13752085460711216</td><td>-0.3063890271656425  </td><td>0.15575532163704972 </td><td>0.18646829561634434  </td><td>-0.01618844717942741 </td><td>0.03418787538794686  </td><td>0.11354417622027371  </td><td>0.2923929332099122   </td><td>0.14227291775931836 </td><td>0.025362014685379394 </td><td>0.08559316135447877  </td><td>-0.0292262340925421 </td><td>0.6198446156383892  </td><td>-0.3578481860367158 </td><td>0.04175505402796281  </td><td>0.34429152100868526 </td><td>0.11788608556279348 </td><td>-0.0590051614281558  </td><td>-0.04187830001593036</td><td>0.7441525206327123   </td><td>0.23316236152202427   </td><td>0.11901828445943456  </td><td>-0.3091740307771861   </td><td>-0.3657994955034298  </td><td>0.006167528069211678</td><td>-0.12560677115414168</td><td>0.09438167370500343  </td><td>-0.36144596825209657 </td><td>-0.1566142977582666  </td><td>0.276539051518849   </td><td>-0.06812678686596169 </td><td>0.10627886127154278  </td><td>-0.16340714845406606 </td></tr>\n",
              "<tr><td>7      </td><td>11.0             </td><td>129500.0          </td><td>53.26721520006018    </td><td>72.00881672211355     </td><td>10252.746010908428</td><td>4.926930425538384     </td><td>5.657590805576387     </td><td>1956.613247154205   </td><td>1971.5649570844125     </td><td>31.038911336513635   </td><td>695.8023620972526    </td><td>94.25752136537729    </td><td>188.23000188014504  </td><td>978.2898853427766     </td><td>1102.933332644266  </td><td>-118.99403541489738</td><td>12.14268744134959      </td><td>996.0819846707185   </td><td>0.8664336036910496     </td><td>-0.021085779497138253  </td><td>1.0746222056977723 </td><td>-0.021711712897672486</td><td>2.3100119698152874     </td><td>1.0939499408912752     </td><td>5.080079496399229      </td><td>0.32293958090333613  </td><td>1964.7705295090009    </td><td>1.2996016411497322   </td><td>369.10016507457      </td><td>75.38559017662175    </td><td>1.5218654177424114    </td><td>35.47367994819511       </td><td>-2.8873569211482546 </td><td>4.4191792895931385    </td><td>-2.0349613775872513</td><td>-37.75362324577787 </td><td>4.283835310942065   </td><td>2008.8769633749482</td><td>-0.019308836120517228</td><td>0.12314879131104424   </td><td>0.01931343933346898 </td><td>-0.1307309820804579  </td><td>-0.05336944830062264</td><td>-0.1916834919924361  </td><td>0.09595886687169573  </td><td>-0.10476732708353538  </td><td>-0.1740724056187933 </td><td>-0.16036097007846487</td><td>-0.012326438852402255</td><td>0.10232535150427342 </td><td>0.555940027588376   </td><td>-0.24258142062250104</td><td>0.1720717479921388   </td><td>0.18207507719017577   </td><td>0.022208934815509306</td><td>-0.0630804438005047 </td><td>0.11002965356882541  </td><td>0.22669098088130857 </td><td>-0.008433601022779113</td><td>0.15144537243128017  </td><td>-0.014560647466431154</td><td>0.007197213258290314 </td><td>-0.059983816886236996</td><td>-0.02029370372220987</td><td>-0.15241523538939397 </td><td>0.1838861489916801   </td><td>0.04311132421579707 </td><td>0.0863081410348891  </td><td>-0.11729376274580078</td><td>0.16811326725271492  </td><td>-0.22772859904983206</td><td>0.07648311223036665 </td><td>0.03542695714848957  </td><td>0.13821120378494364 </td><td>0.21713122709068908  </td><td>0.2284601260468584    </td><td>0.22287933170689567  </td><td>-0.14026882976163946  </td><td>0.09784205990566082  </td><td>0.21444191023885498 </td><td>-0.2136223038641222 </td><td>0.15802674242280587  </td><td>0.2319915764536685   </td><td>-0.05740586562941877 </td><td>0.4135670009203197  </td><td>-0.11147218001531053 </td><td>0.15577924512710595  </td><td>-0.001789254687823703</td></tr>\n",
              "<tr><td>8      </td><td>12.0             </td><td>345000.0          </td><td>95.46371811499209    </td><td>86.2890956487754      </td><td>15845.213641367533</td><td>8.122513676511774     </td><td>5.12334561064146      </td><td>2003.669219012904   </td><td>2005.6808853751468     </td><td>333.6278379133127    </td><td>968.1352654267898    </td><td>-22.04430010751141   </td><td>490.86183760448245  </td><td>1436.9528029237626    </td><td>1541.9006784307783 </td><td>1016.4875394176722 </td><td>2.5975812919521606     </td><td>2560.985799140403   </td><td>0.7466700131411268     </td><td>0.12200671486900452    </td><td>2.475472616333918  </td><td>0.8946845754168617   </td><td>3.6536314051608927     </td><td>1.1736051354579262     </td><td>9.176167406575487      </td><td>1.1627397664677523   </td><td>2006.4096336362436    </td><td>2.767906184502951    </td><td>745.2473298593209    </td><td>190.07280558007744   </td><td>92.77096414829165     </td><td>3.847711359476442       </td><td>8.506221662687292   </td><td>6.663970347612759     </td><td>28.93842369029356  </td><td>17.380470703946454 </td><td>7.59356783410481    </td><td>2007.2479883525775</td><td>0.21545965048460738  </td><td>0.06859103743413837   </td><td>-0.16302483593546435</td><td>-0.0516082471563158  </td><td>0.15755330092943698 </td><td>-0.22895527342622451 </td><td>-0.034290337444313375</td><td>0.4162353081902374    </td><td>-0.13171649944425892</td><td>-0.30216053386761743</td><td>-0.19476123361474948 </td><td>0.06325355879634453 </td><td>0.10582524453204259 </td><td>-0.0450020755740335 </td><td>-0.015545578330628064</td><td>0.01771526114651611   </td><td>-0.18826143117647406</td><td>0.20724341834886767 </td><td>0.6250646313998375   </td><td>-0.2261071496260108 </td><td>0.02851274090075406  </td><td>0.03273795391575116  </td><td>-0.03461428154789703 </td><td>-0.05390957128941091 </td><td>0.018728071849194696 </td><td>0.25334548539797    </td><td>-0.22101230726161059 </td><td>-0.3370558437878531  </td><td>0.3603891423232936  </td><td>0.03819482976739345 </td><td>0.05804299617043051 </td><td>0.1547773555209574   </td><td>0.07744318445813758 </td><td>0.14020815564758102 </td><td>-0.012945088490169157</td><td>-0.1410302430697668 </td><td>-0.027955163033564722</td><td>0.11798674137034923   </td><td>0.030156803807690546 </td><td>-0.41645234097413786  </td><td>0.03841573642839182  </td><td>0.9232910027958101  </td><td>0.2412488899708664  </td><td>-0.013178517449426103</td><td>-0.19734746261650135 </td><td>0.12792642187121647  </td><td>0.08422565502762762 </td><td>-0.013915619484560585</td><td>-0.18704322530179446 </td><td>0.02941957193335871  </td></tr>\n",
              "<tr><td>9      </td><td>13.0             </td><td>144000.0          </td><td>35.1202073006711     </td><td>59.01604252484168     </td><td>10256.21381803694 </td><td>4.775449451344279     </td><td>6.018559268202638     </td><td>1954.6235451073867  </td><td>1967.9319026598478     </td><td>4.795218689771687    </td><td>724.641130311632     </td><td>129.30443030371578   </td><td>67.14390020405261   </td><td>921.0894608194021     </td><td>1052.672384220637  </td><td>-177.20233621361837</td><td>-32.921512403882005    </td><td>842.5485356031367   </td><td>0.8795289114822307     </td><td>0.010291447119884181   </td><td>0.7988737729060702 </td><td>0.16628923815412888  </td><td>2.0957518020370682     </td><td>0.9949613215342947     </td><td>4.486237692736523      </td><td>0.6598650065865461   </td><td>1957.0500459161103    </td><td>1.217440790565771    </td><td>334.53499484467693   </td><td>20.376031296039116   </td><td>40.188175312083814    </td><td>-4.172304542362372      </td><td>6.970860737139484   </td><td>77.41882844258446     </td><td>-14.51854376447873 </td><td>193.4413614086777  </td><td>8.28389900149449    </td><td>2007.80928285166  </td><td>-0.10006565172446992 </td><td>0.11667520416217271   </td><td>-0.10343462709511143</td><td>-0.05471729785866512 </td><td>-0.05307731508558091</td><td>-0.13784605341616787 </td><td>0.05666724069172123  </td><td>-0.19084601605864523  </td><td>-0.0832941540294841 </td><td>-0.143928456487567  </td><td>0.036810283475143646 </td><td>0.04593156246896358 </td><td>0.7362289766750288  </td><td>-0.1615145783464696 </td><td>0.22466401038076667  </td><td>-0.04150842427127392  </td><td>-0.1425259657065987 </td><td>-0.14379537356079658</td><td>0.1430065168165985   </td><td>0.08136941110406162 </td><td>0.1977133263443639   </td><td>0.007332051170021598 </td><td>0.20042757737500724  </td><td>0.11207345451136998  </td><td>-0.03777846724506898 </td><td>0.10509677685334173 </td><td>0.1648603532542879   </td><td>0.16531825123854005  </td><td>0.17049981844088144 </td><td>-0.08085371339833952</td><td>-0.09548141090149762</td><td>0.1508485230449153   </td><td>0.2225627528804766  </td><td>0.03505453657417473 </td><td>-0.08470380132223626 </td><td>0.3865042213710503  </td><td>-0.07356840705224606 </td><td>0.10403513373081089   </td><td>0.1366286611375226   </td><td>-0.04541846979992356  </td><td>0.12509994520639917  </td><td>0.18124291865410502 </td><td>-0.16285879848340298</td><td>0.024873279904906856 </td><td>0.11389758412535061  </td><td>-0.051390210787667125</td><td>0.057184469557629736</td><td>0.13873395834936783  </td><td>-0.12436538176839819 </td><td>0.014419743770040157 </td></tr>\n",
              "</tbody>\n",
              "</table>"
            ]
          },
          "metadata": {}
        },
        {
          "output_type": "stream",
          "name": "stdout",
          "text": [
            "--------------------------------------------------------------------------------\n",
            "Imputed and encoded numeric validation data:\n",
            "Rows:459\n",
            "Cols:88\n",
            "\n",
            "\n"
          ]
        },
        {
          "output_type": "display_data",
          "data": {
            "text/html": [
              "<table>\n",
              "<thead>\n",
              "<tr><th>       </th><th>Id                </th><th>SalePrice        </th><th>reconstr_MSSubClass  </th><th>reconstr_LotFrontage  </th><th>reconstr_LotArea  </th><th>reconstr_OverallQual  </th><th>reconstr_OverallCond  </th><th>reconstr_YearBuilt  </th><th>reconstr_YearRemodAdd  </th><th>reconstr_MasVnrArea  </th><th>reconstr_BsmtFinSF1  </th><th>reconstr_BsmtFinSF2  </th><th>reconstr_BsmtUnfSF  </th><th>reconstr_TotalBsmtSF  </th><th>reconstr_1stFlrSF  </th><th>reconstr_2ndFlrSF  </th><th>reconstr_LowQualFinSF  </th><th>reconstr_GrLivArea  </th><th>reconstr_BsmtFullBath  </th><th>reconstr_BsmtHalfBath  </th><th>reconstr_FullBath  </th><th>reconstr_HalfBath   </th><th>reconstr_BedroomAbvGr  </th><th>reconstr_KitchenAbvGr  </th><th>reconstr_TotRmsAbvGrd  </th><th>reconstr_Fireplaces  </th><th>reconstr_GarageYrBlt  </th><th>reconstr_GarageCars  </th><th>reconstr_GarageArea  </th><th>reconstr_WoodDeckSF  </th><th>reconstr_OpenPorchSF  </th><th>reconstr_EnclosedPorch  </th><th>reconstr_3SsnPorch  </th><th>reconstr_ScreenPorch  </th><th>reconstr_PoolArea  </th><th>reconstr_MiscVal   </th><th>reconstr_MoSold   </th><th>reconstr_YrSold   </th><th>Arch1               </th><th>Arch2                </th><th>Arch3               </th><th>Arch4                </th><th>Arch5               </th><th>Arch6                </th><th>Arch7                </th><th>Arch8               </th><th>Arch9                </th><th>Arch10               </th><th>Arch11               </th><th>Arch12              </th><th>Arch13               </th><th>Arch14              </th><th>Arch15              </th><th>Arch16              </th><th>Arch17              </th><th>Arch18              </th><th>Arch19              </th><th>Arch20             </th><th>Arch21              </th><th>Arch22              </th><th>Arch23              </th><th>Arch24              </th><th>Arch25               </th><th>Arch26               </th><th>Arch27               </th><th>Arch28                </th><th>Arch29               </th><th>Arch30              </th><th>Arch31              </th><th>Arch32               </th><th>Arch33              </th><th>Arch34               </th><th>Arch35               </th><th>Arch36               </th><th>Arch37              </th><th>Arch38              </th><th>Arch39               </th><th>Arch40              </th><th>Arch41               </th><th>Arch42               </th><th>Arch43              </th><th>Arch44               </th><th>Arch45               </th><th>Arch46               </th><th>Arch47               </th><th>Arch48               </th><th>Arch49              </th><th>Arch50              </th></tr>\n",
              "</thead>\n",
              "<tbody>\n",
              "<tr><td>type   </td><td>int               </td><td>int              </td><td>real                 </td><td>real                  </td><td>real              </td><td>real                  </td><td>real                  </td><td>real                </td><td>real                   </td><td>real                 </td><td>real                 </td><td>real                 </td><td>real                </td><td>real                  </td><td>real               </td><td>real               </td><td>real                   </td><td>real                </td><td>real                   </td><td>real                   </td><td>real               </td><td>real                </td><td>real                   </td><td>real                   </td><td>real                   </td><td>real                 </td><td>real                  </td><td>real                 </td><td>real                 </td><td>real                 </td><td>real                  </td><td>real                    </td><td>real                </td><td>real                  </td><td>real               </td><td>real               </td><td>real              </td><td>real              </td><td>real                </td><td>real                 </td><td>real                </td><td>real                 </td><td>real                </td><td>real                 </td><td>real                 </td><td>real                </td><td>real                 </td><td>real                 </td><td>real                 </td><td>real                </td><td>real                 </td><td>real                </td><td>real                </td><td>real                </td><td>real                </td><td>real                </td><td>real                </td><td>real               </td><td>real                </td><td>real                </td><td>real                </td><td>real                </td><td>real                 </td><td>real                 </td><td>real                 </td><td>real                  </td><td>real                 </td><td>real                </td><td>real                </td><td>real                 </td><td>real                </td><td>real                 </td><td>real                 </td><td>real                 </td><td>real                </td><td>real                </td><td>real                 </td><td>real                </td><td>real                 </td><td>real                 </td><td>real                </td><td>real                 </td><td>real                 </td><td>real                 </td><td>real                 </td><td>real                 </td><td>real                </td><td>real                </td></tr>\n",
              "<tr><td>mins   </td><td>4.0               </td><td>39300.0          </td><td>-146.4126086094994   </td><td>12.75590108358518     </td><td>-16329.45988010183</td><td>2.39909127044619      </td><td>3.0869162922305082    </td><td>1870.202439612318   </td><td>1933.6398198273416     </td><td>-252.92561761618032  </td><td>-225.0369879649831   </td><td>-334.0628700692149   </td><td>-509.4732460906382  </td><td>147.39850768347912    </td><td>238.18528125287116 </td><td>-215.94582273080232</td><td>-97.6818629103397      </td><td>144.6174627269861   </td><td>-0.3717971680680095    </td><td>-0.3685300688587818    </td><td>0.35345725006974327</td><td>-0.5453846011004312 </td><td>1.2339845127215814     </td><td>0.53392482176825       </td><td>2.765506325864569      </td><td>-0.453714591824698   </td><td>1913.155291458687     </td><td>0.23320080447085534  </td><td>38.068279893266094   </td><td>-183.02264876366053  </td><td>-102.94024557555119   </td><td>-80.11959793391821      </td><td>-47.128302430602716 </td><td>-83.24380170236734    </td><td>-73.34045053094384 </td><td>-774.3553906138504 </td><td>-7.504822582020896</td><td>2001.433282848001 </td><td>-0.6506485453987567 </td><td>-0.6061057562636846  </td><td>-0.5815622618035393 </td><td>-0.6023785058497614  </td><td>-0.6539898486702183 </td><td>-0.5999377104391505  </td><td>-0.5151325535914056  </td><td>-0.7257374323882999 </td><td>-0.5141140429716399  </td><td>-0.6145536740530493  </td><td>-0.7881305330516933  </td><td>-0.7210440776558896 </td><td>-0.7206742367072174  </td><td>-0.5277196840221059 </td><td>-0.6220909901602785 </td><td>-0.4870859954311125 </td><td>-0.7179408506802388 </td><td>-0.7152381107661951 </td><td>-0.5311459057463382 </td><td>-0.834227227566518 </td><td>-1.0162438341428692 </td><td>-0.6840230060253651 </td><td>-0.6167113409937295 </td><td>-0.5074138666106373 </td><td>-0.6392697873824315  </td><td>-0.5063911295374155  </td><td>-0.5686133913864221  </td><td>-0.5072750087917285   </td><td>-0.71015979223885    </td><td>-0.5009874440312071 </td><td>-0.7611777675845871 </td><td>-0.4402041132162393  </td><td>-0.6038232426254755 </td><td>-0.6162370303714243  </td><td>-0.5350706511281039  </td><td>-0.8171921910492699  </td><td>-0.5817409071562403 </td><td>-0.5610852350722652 </td><td>-0.4588162868314611  </td><td>-0.8691569479022204 </td><td>-0.5306098310247287  </td><td>-0.5612238932918143  </td><td>-0.8747481645927792 </td><td>-0.4955523951933127  </td><td>-0.7787342184501129  </td><td>-0.5074350048868786  </td><td>-0.7760467284957058  </td><td>-0.8447882758979695  </td><td>-0.6585185644793395 </td><td>-0.6098791374699049 </td></tr>\n",
              "<tr><td>mean   </td><td>742.8671023965148 </td><td>178193.4967320261</td><td>56.27878209949565    </td><td>69.03155913816785     </td><td>10341.532198511826</td><td>5.988099429561298     </td><td>5.565043824754022     </td><td>1968.4194261568364  </td><td>1983.9516005825976     </td><td>96.27185513140678    </td><td>440.62851868756525   </td><td>57.66586396452886    </td><td>546.7075519187956   </td><td>1045.0019345708915    </td><td>1143.7633467690844 </td><td>357.9273202399038  </td><td>5.957785583499017      </td><td>1507.648452592488   </td><td>0.4233291917166289     </td><td>0.05270896605880812    </td><td>1.5410523062314785 </td><td>0.38169763345840046 </td><td>2.863401215118674      </td><td>1.0471089736975006     </td><td>6.537861713008048      </td><td>0.5996738194035054   </td><td>1977.4917198255723    </td><td>1.7031383662343689   </td><td>461.7267585236092    </td><td>100.56334099448436   </td><td>50.313459022742855    </td><td>24.055953538128815      </td><td>3.4040922851454485  </td><td>16.083333548896373    </td><td>1.3885623651165182 </td><td>52.99502046067309  </td><td>6.228055897553039 </td><td>2007.7895118457589</td><td>0.017270520706818036</td><td>0.0012560341803850203</td><td>0.06230133456008589 </td><td>0.04147933237930485  </td><td>0.02025316044887829 </td><td>0.05511740154622976  </td><td>0.0558483160016409   </td><td>0.06511915365667768 </td><td>0.023499895988764927 </td><td>0.04786585929503333  </td><td>0.08243945674611414  </td><td>0.0389794824459259  </td><td>0.03259168529013635  </td><td>0.014613965300869114</td><td>0.025960289113608637</td><td>0.041718982143605324</td><td>0.06287707538690465 </td><td>0.023063274087992133</td><td>0.04603147709607308 </td><td>0.04869588879558251</td><td>0.05691667033970229 </td><td>0.06682930651669267 </td><td>0.05550393454208675 </td><td>0.036155463740391094</td><td>0.08615286088027525  </td><td>0.05663669454062407  </td><td>0.06652810521963232  </td><td>0.017217465570485715  </td><td>0.0746849618571332   </td><td>0.05049010036726786 </td><td>0.020197420487131915</td><td>0.019914292633024678 </td><td>0.046781100987064436</td><td>0.035381476774050104 </td><td>0.038165795984605656 </td><td>0.060199080128001105 </td><td>0.020283486537655545</td><td>0.02418921364604244 </td><td>0.05645241759693119  </td><td>0.044598966684771806</td><td>0.08098808122397236  </td><td>0.08304660377902646  </td><td>0.053256708475705974</td><td>0.03337184403135586  </td><td>0.06087329847879008  </td><td>0.024401848885256025 </td><td>0.06717454596874126  </td><td>0.059866967583003104 </td><td>0.04557543256415372 </td><td>0.04430624419515666 </td></tr>\n",
              "<tr><td>maxs   </td><td>1459.0            </td><td>538000.0         </td><td>193.01168799667323   </td><td>184.49253085124178    </td><td>95629.25484925677 </td><td>10.677822073445123    </td><td>10.428515906933061    </td><td>2017.2695788879669  </td><td>2031.9943692026616     </td><td>610.7116167202112    </td><td>1826.8467893609045   </td><td>1030.813920996982    </td><td>2042.7705719025043  </td><td>2786.6404909312555    </td><td>2898.5383943361358 </td><td>2001.129635543453  </td><td>254.87767828568644     </td><td>3797.2622039302532  </td><td>2.540003433388804      </td><td>0.894697802685023      </td><td>3.083122762928912  </td><td>1.4245572416549663  </td><td>5.836534807464786      </td><td>2.468229395476901      </td><td>13.254384334060793     </td><td>2.995495533515936    </td><td>2020.462426370661     </td><td>3.4289964507662773   </td><td>971.0151374510672    </td><td>548.381363559904     </td><td>345.36570046131357    </td><td>171.91030474099495      </td><td>165.2906721599929   </td><td>270.88993823200127    </td><td>542.2275635918556  </td><td>2324.7597796363107 </td><td>10.980242119428677</td><td>2011.6676235971242</td><td>0.9019151107121441  </td><td>1.1813358418780415   </td><td>0.9408072199241683  </td><td>1.2596218475584857   </td><td>2.327244196511077   </td><td>1.692340444773736    </td><td>1.0284729802211534   </td><td>1.7226644974118421  </td><td>0.9192338924301576   </td><td>2.3185844494035686   </td><td>1.7927223046564302   </td><td>0.9703248501748368  </td><td>1.1595094214322912   </td><td>1.2126527039260726  </td><td>1.2556243984512914  </td><td>1.0794441043253329  </td><td>2.1109170645461726  </td><td>1.54797176464972    </td><td>1.2978713285736567  </td><td>1.7516510015622988 </td><td>2.3987318121745105  </td><td>1.3357842032163774  </td><td>1.0644470498135203  </td><td>1.4760769153816544  </td><td>1.7222906500836381   </td><td>1.2716157135587582   </td><td>1.479474093135337    </td><td>0.727996463916301     </td><td>1.7241633070769504   </td><td>1.0316514971027417  </td><td>1.6619688522263445  </td><td>0.9989485063573325   </td><td>2.1346194881815426  </td><td>1.205519255812883    </td><td>1.3969978638613212   </td><td>2.3750459941434108   </td><td>1.0504733522826886  </td><td>0.8992551902617522  </td><td>1.0583571213352778   </td><td>1.721010671724069   </td><td>1.3464523773638746   </td><td>1.8683184583286159   </td><td>1.1886241229559567  </td><td>1.106004738073757    </td><td>2.096290331227923    </td><td>0.8139389036276677   </td><td>2.1153041670378885   </td><td>1.2469269568344514   </td><td>0.8951074547637501  </td><td>1.3945349146574006  </td></tr>\n",
              "<tr><td>sigma  </td><td>422.05491502326714</td><td>77402.1917138425 </td><td>35.09281828907707    </td><td>17.355501081009397    </td><td>7845.774739200192 </td><td>1.2524862810746613    </td><td>0.9892576622397071    </td><td>28.36404883019546   </td><td>17.848584849210347     </td><td>115.55125696275354   </td><td>395.7610648746886    </td><td>142.60716099702256   </td><td>403.7036474886998   </td><td>380.0899973336356     </td><td>350.4092735262273  </td><td>425.33017663120916 </td><td>27.850858297183724     </td><td>515.6233617633457   </td><td>0.4478890086633499     </td><td>0.17894290626003953    </td><td>0.44970467024074073</td><td>0.4157889328881798  </td><td>0.67913805825157       </td><td>0.17549935604934744    </td><td>1.5852197629659688     </td><td>0.44265948329888577  </td><td>23.069239816478298    </td><td>0.6452445442258848   </td><td>178.2176507482502    </td><td>79.21616901625282    </td><td>42.91215417506495     </td><td>40.15546619052391       </td><td>18.74995875978712   </td><td>34.160679171448045    </td><td>27.806443797200917 </td><td>241.4460842545597  </td><td>1.7748621279963508</td><td>0.8931112196325314</td><td>0.2466599596318002  </td><td>0.23834373487136432  </td><td>0.2336507364552264  </td><td>0.23565901581780452  </td><td>0.2601640527940231  </td><td>0.2795132300505954   </td><td>0.23982280983132043  </td><td>0.2572589640209975  </td><td>0.2340220102086397   </td><td>0.2392987164558122   </td><td>0.24397878212337398  </td><td>0.22433857786256478 </td><td>0.24686435589433095  </td><td>0.24541758252116103 </td><td>0.2409435315919207  </td><td>0.251592406778107   </td><td>0.246405544483932   </td><td>0.24072512946213662 </td><td>0.2558160975401243  </td><td>0.25799001609947453</td><td>0.2582691925869148  </td><td>0.2556358733619257  </td><td>0.2610588856686578  </td><td>0.2455808541920928  </td><td>0.2658746747804109   </td><td>0.24370090082154378  </td><td>0.2373659121599671   </td><td>0.20487817061641042   </td><td>0.2416387915680235   </td><td>0.23966549093467038 </td><td>0.25636464665608083 </td><td>0.23702138804053313  </td><td>0.2410759163977271  </td><td>0.2672760319378168   </td><td>0.24655772992176897  </td><td>0.23468350140251687  </td><td>0.22220200022625505 </td><td>0.2215579604266178  </td><td>0.2220849553404502   </td><td>0.2485929123034946  </td><td>0.2865544635353722   </td><td>0.23576918299180827  </td><td>0.2499726462208671  </td><td>0.23672764040108282  </td><td>0.23518248156818458  </td><td>0.21957404262012953  </td><td>0.2549987555018075   </td><td>0.2631735808793754   </td><td>0.24924837712509082 </td><td>0.23598885416581492 </td></tr>\n",
              "<tr><td>zeros  </td><td>0                 </td><td>0                </td><td>0                    </td><td>0                     </td><td>0                 </td><td>0                     </td><td>0                     </td><td>0                   </td><td>0                      </td><td>0                    </td><td>0                    </td><td>0                    </td><td>0                   </td><td>0                     </td><td>0                  </td><td>0                  </td><td>0                      </td><td>0                   </td><td>0                      </td><td>0                      </td><td>0                  </td><td>0                   </td><td>0                      </td><td>0                      </td><td>0                      </td><td>0                    </td><td>0                     </td><td>0                    </td><td>0                    </td><td>0                    </td><td>0                     </td><td>0                       </td><td>0                   </td><td>0                     </td><td>0                  </td><td>0                  </td><td>0                 </td><td>0                 </td><td>0                   </td><td>0                    </td><td>0                   </td><td>0                    </td><td>0                   </td><td>0                    </td><td>0                    </td><td>0                   </td><td>0                    </td><td>0                    </td><td>0                    </td><td>0                   </td><td>0                    </td><td>0                   </td><td>0                   </td><td>0                   </td><td>0                   </td><td>0                   </td><td>0                   </td><td>0                  </td><td>0                   </td><td>0                   </td><td>0                   </td><td>0                   </td><td>0                    </td><td>0                    </td><td>0                    </td><td>0                     </td><td>0                    </td><td>0                   </td><td>0                   </td><td>0                    </td><td>0                   </td><td>0                    </td><td>0                    </td><td>0                    </td><td>0                   </td><td>0                   </td><td>0                    </td><td>0                   </td><td>0                    </td><td>0                    </td><td>0                   </td><td>0                    </td><td>0                    </td><td>0                    </td><td>0                    </td><td>0                    </td><td>0                   </td><td>0                   </td></tr>\n",
              "<tr><td>missing</td><td>0                 </td><td>0                </td><td>0                    </td><td>0                     </td><td>0                 </td><td>0                     </td><td>0                     </td><td>0                   </td><td>0                      </td><td>0                    </td><td>0                    </td><td>0                    </td><td>0                   </td><td>0                     </td><td>0                  </td><td>0                  </td><td>0                      </td><td>0                   </td><td>0                      </td><td>0                      </td><td>0                  </td><td>0                   </td><td>0                      </td><td>0                      </td><td>0                      </td><td>0                    </td><td>0                     </td><td>0                    </td><td>0                    </td><td>0                    </td><td>0                     </td><td>0                       </td><td>0                   </td><td>0                     </td><td>0                  </td><td>0                  </td><td>0                 </td><td>0                 </td><td>0                   </td><td>0                    </td><td>0                   </td><td>0                    </td><td>0                   </td><td>0                    </td><td>0                    </td><td>0                   </td><td>0                    </td><td>0                    </td><td>0                    </td><td>0                   </td><td>0                    </td><td>0                   </td><td>0                   </td><td>0                   </td><td>0                   </td><td>0                   </td><td>0                   </td><td>0                  </td><td>0                   </td><td>0                   </td><td>0                   </td><td>0                   </td><td>0                    </td><td>0                    </td><td>0                    </td><td>0                     </td><td>0                    </td><td>0                   </td><td>0                   </td><td>0                    </td><td>0                   </td><td>0                    </td><td>0                    </td><td>0                    </td><td>0                   </td><td>0                   </td><td>0                    </td><td>0                   </td><td>0                    </td><td>0                    </td><td>0                   </td><td>0                    </td><td>0                    </td><td>0                    </td><td>0                    </td><td>0                    </td><td>0                   </td><td>0                   </td></tr>\n",
              "<tr><td>0      </td><td>4.0               </td><td>140000.0         </td><td>60.42752138031201    </td><td>71.73443010015687     </td><td>8269.241326352592 </td><td>5.964885483832237     </td><td>5.608744436163908     </td><td>1947.382144514252   </td><td>1977.9774233899645     </td><td>83.16727274693855    </td><td>491.4236208940616    </td><td>-105.34879202732307  </td><td>590.5664054004278   </td><td>976.6412342671669     </td><td>1142.3169426380393 </td><td>547.6760134757087  </td><td>29.08007128490133      </td><td>1719.0730273986496  </td><td>0.6056410861992354     </td><td>-0.28329498333299447   </td><td>1.4944078277910562 </td><td>0.4321942441110311  </td><td>3.124489656594143      </td><td>1.0742523718940116     </td><td>7.181050324432206      </td><td>0.7031280298282268   </td><td>1964.080404519361     </td><td>1.4459639045216093   </td><td>403.10559392174207   </td><td>68.38510090683626    </td><td>67.0022871270192      </td><td>84.38482482635058       </td><td>2.436449685120957   </td><td>-3.4961433209064925   </td><td>22.091184041044905 </td><td>3.6546700642424454 </td><td>3.774304769842916 </td><td>2007.5940498222662</td><td>-0.6506485453987567 </td><td>0.24869129191519135  </td><td>0.09041991864683348 </td><td>0.030900888698167754 </td><td>0.2560627570758812  </td><td>-0.25561377536505386 </td><td>0.5056795996485799   </td><td>0.08797867794248616 </td><td>-0.16556508491482883 </td><td>0.16731671269487494  </td><td>-0.019191293486651162</td><td>-0.17707042946861032</td><td>0.050013264079336095 </td><td>0.38142430742270916 </td><td>0.4753191954256204  </td><td>-0.07575930529728933</td><td>0.36744546034055836 </td><td>-0.1890811559200323 </td><td>0.2609346787003962  </td><td>0.5185976394285223 </td><td>-0.09059913660391733</td><td>-0.1546143172405656 </td><td>0.043337963746292826</td><td>0.20500147775706004 </td><td>0.4231037109726319   </td><td>-0.22078772256775853 </td><td>0.27490038877281686  </td><td>0.10172648863951642   </td><td>0.26177922375532087  </td><td>0.2263031499297364  </td><td>0.09150622568599849 </td><td>-0.28397077267299    </td><td>0.0329927814736887  </td><td>0.1073628990539622   </td><td>-0.15122614112406962 </td><td>-0.3604485613886156  </td><td>-0.18217897667956073</td><td>-0.5610852350722652 </td><td>-0.19504409191751762 </td><td>-0.32118508479622454</td><td>0.0650572066661142   </td><td>-0.041757378381906414</td><td>0.3682780838847417  </td><td>0.2672327002269999   </td><td>0.6071335235967623   </td><td>0.24456977434787766  </td><td>-0.231477553414698   </td><td>-0.3069376777237981  </td><td>-0.09841967548720428</td><td>0.11841428016923482 </td></tr>\n",
              "<tr><td>1      </td><td>8.0               </td><td>200000.0         </td><td>83.03710012992265    </td><td>75.32332752381369     </td><td>16925.774128268335</td><td>7.083029787359366     </td><td>6.208170363939027     </td><td>1958.61231051102    </td><td>1993.9459142794792     </td><td>80.13135716829294    </td><td>828.6818762956863    </td><td>62.67571276054061    </td><td>238.34101118625506  </td><td>1129.6986002424824    </td><td>1302.8793655886611 </td><td>890.1406744743393  </td><td>46.32694498471325      </td><td>2239.346985047714   </td><td>0.9738628731207801     </td><td>-0.12219486821559172   </td><td>1.8852695401830062 </td><td>0.7260809328982651  </td><td>3.3720430630729448     </td><td>1.078089945245612      </td><td>8.44851974673739       </td><td>1.1681565189890315   </td><td>1973.4906929487586    </td><td>1.8185437395383417   </td><td>499.1566418633636    </td><td>170.76142626700062   </td><td>109.10857994878253    </td><td>63.02237149254724       </td><td>-11.592779217103207 </td><td>24.015051274409885    </td><td>-12.40602417191766 </td><td>153.31848196541722 </td><td>5.991121823872341 </td><td>2008.4476447642542</td><td>-0.261209187548229  </td><td>-0.11086471757989287 </td><td>0.7060637749031559  </td><td>0.14421259266233652  </td><td>0.2901428344448324  </td><td>-0.10820694164659658 </td><td>-0.39746090598823214 </td><td>-0.19155203661948803</td><td>-0.3990539621845616  </td><td>-0.18276250672360236 </td><td>0.2477589948762553   </td><td>-0.05889003073563707</td><td>-0.004657238227525326</td><td>0.12735909126891118 </td><td>-0.24913611692311138</td><td>-0.3478275312953404 </td><td>0.27525968251410715 </td><td>-0.18272585474042716</td><td>0.17896444449306498 </td><td>-0.2124543587513953</td><td>0.1518509547920235  </td><td>0.17124172979848    </td><td>-0.04269434175133758</td><td>0.03472653845901349 </td><td>-0.17488509846475753 </td><td>0.19354125317471893  </td><td>0.6853440645393947   </td><td>-0.3755517247265332   </td><td>0.007219494007018057 </td><td>0.800273333051853   </td><td>0.09537958498945386 </td><td>-0.37212655343642476 </td><td>0.23694612634077228 </td><td>-0.36596442998655054 </td><td>-0.04833076873660252 </td><td>0.10562156515277281  </td><td>-0.20028616910797764</td><td>0.10536939232803631 </td><td>0.7650338766997391   </td><td>0.18291987584098998 </td><td>-0.3250994848669801  </td><td>-0.23823148668388072 </td><td>0.37897896016805216 </td><td>-0.08030598934774966 </td><td>0.1486980885487347   </td><td>0.31288796848641387  </td><td>-0.06532840449079653 </td><td>0.1305198378112991   </td><td>-0.2909039561141031 </td><td>0.2572317008626636  </td></tr>\n",
              "<tr><td>2      </td><td>10.0              </td><td>118000.0         </td><td>156.90719382796678   </td><td>38.193434730418446    </td><td>-2170.804328284714</td><td>4.403196740529886     </td><td>5.2709277474614025    </td><td>1933.0168577701747  </td><td>1954.1553190664451     </td><td>143.64471224836745   </td><td>1231.6230794025264   </td><td>-89.3088003303294    </td><td>-125.27591435670115 </td><td>1017.0383647154964    </td><td>1187.4093299256158 </td><td>49.38917133547727  </td><td>-7.4527799347033294    </td><td>1229.34572132639    </td><td>1.1357088543383815     </td><td>0.08279592248000106    </td><td>1.1905124035061367 </td><td>-0.09589225455534195</td><td>2.5885479450234734     </td><td>1.6200945730230876     </td><td>6.077988226584097      </td><td>0.5556219073688715   </td><td>1935.8263607181075    </td><td>0.9000310649900678   </td><td>248.60370809461276   </td><td>29.107417249339377   </td><td>1.97388582747287      </td><td>72.33448431371619       </td><td>-3.4492877734566507 </td><td>10.208983174177451    </td><td>5.642940611685725  </td><td>532.2094121526936  </td><td>4.225532131807759 </td><td>2007.8647945344135</td><td>-0.13866792841575862</td><td>-0.5309986742941305  </td><td>0.49968811486686704 </td><td>-0.09360527325597337 </td><td>-0.4556614583374103 </td><td>0.3062096200619236   </td><td>0.18988136574062026  </td><td>0.13366853252253016 </td><td>0.19677420225989856  </td><td>-0.3669776347277868  </td><td>0.29939697709285096  </td><td>0.100689843587387   </td><td>-0.23852449049553825 </td><td>0.46123669156261504 </td><td>0.07820603255958353 </td><td>-0.3582748646821412 </td><td>-0.3452534901854849 </td><td>-0.22096814744908191</td><td>-0.2205890672265506 </td><td>0.5366673586038067 </td><td>-0.04093870946150187</td><td>-0.2722088162984105 </td><td>-0.25648484013978273</td><td>-0.31764545777290215</td><td>0.01863634582242991  </td><td>0.4031546573989777   </td><td>0.367916833565652    </td><td>-0.2720811860724968   </td><td>0.4995853055289415   </td><td>0.41642358195504403 </td><td>-0.07905640287395084</td><td>-0.0850389574232255  </td><td>0.02667522216980434 </td><td>-0.25813631036882434 </td><td>0.477655555088329    </td><td>0.09351150209029965  </td><td>0.5028393453565937  </td><td>0.23659528502981572 </td><td>-0.004758490541229466</td><td>0.40897888757723944 </td><td>0.08519116066044834  </td><td>0.06900452048773816  </td><td>0.14907785281204097 </td><td>-0.12728346875166438 </td><td>-0.018591294364275573</td><td>-0.024213032955294478</td><td>0.20900650088400824  </td><td>-0.025418003047938873</td><td>-0.1851723404457175 </td><td>-0.14248367890494218</td></tr>\n",
              "<tr><td>3      </td><td>16.0              </td><td>132000.0         </td><td>44.608569672574006   </td><td>54.20192586649157     </td><td>-1405.865799416113</td><td>6.3003286372200025    </td><td>7.266657802890813     </td><td>1962.1751883843115  </td><td>2004.1068586484687     </td><td>18.63333855419266    </td><td>74.88040252248226    </td><td>-4.088940504337913   </td><td>833.5655621761637   </td><td>904.3570241943088     </td><td>964.4341599840931  </td><td>52.32404241999086  </td><td>17.50558165231348      </td><td>1034.2637840563975  </td><td>-0.048490627323465596  </td><td>0.09424364874402397    </td><td>1.359361586289669  </td><td>-0.03858282318206513</td><td>2.0515823677313136     </td><td>0.8576640543624625     </td><td>4.841363063813922      </td><td>0.18561236448132873  </td><td>1981.3546715719426    </td><td>1.5250866682872193   </td><td>413.6150434073945    </td><td>32.51778089844413    </td><td>85.95306876791912     </td><td>28.878693353757185      </td><td>2.5212376771477185  </td><td>29.69911108781882     </td><td>4.63046712074054   </td><td>-144.21237305205923</td><td>6.3541980969722385</td><td>2008.164857269385 </td><td>-0.11109901855052244</td><td>-0.09189845249564678 </td><td>-0.15510389698763244</td><td>-0.1561504955836246  </td><td>0.15551213661767968 </td><td>0.009306428659490268 </td><td>0.4345318282449142   </td><td>0.25538777623744774 </td><td>0.008051985914252421 </td><td>0.0998321363248982   </td><td>0.08277257831889274  </td><td>-0.07457574606442181</td><td>0.008747685126947392 </td><td>1.2126527039260726  </td><td>0.08217323384503833 </td><td>0.15826729896389705 </td><td>-0.0390116261018788 </td><td>0.1952518128598234  </td><td>0.09390721043630983 </td><td>0.2730048931114489 </td><td>0.09101956128405429 </td><td>-0.11322046963450969</td><td>-0.3388975692630426 </td><td>-0.2528273510791941 </td><td>-0.027948234883328867</td><td>-0.1906534596864025  </td><td>-0.15695769696191653 </td><td>-0.0952906072956781   </td><td>-0.00581785761205871 </td><td>0.035306486268787726</td><td>0.5762488601820657  </td><td>0.4079126893291847   </td><td>0.19957372203138565 </td><td>-0.04926126571994231 </td><td>0.08161205550707208  </td><td>0.15995299745290162  </td><td>0.19592489927256881 </td><td>-0.07480835330406437</td><td>-0.10915065262994374 </td><td>0.020080909662546068</td><td>0.0028626747142954313</td><td>-0.03730833998171319 </td><td>0.272343821049185   </td><td>-0.07095612141780487 </td><td>-0.11893016752229096 </td><td>0.06419403743063874  </td><td>-0.043132991860274944</td><td>0.13934686413979286  </td><td>-0.2989698261103681 </td><td>-0.26964267868389147</td></tr>\n",
              "<tr><td>4      </td><td>17.0              </td><td>149000.0         </td><td>32.39977855607478    </td><td>78.61458271059539     </td><td>10798.641126297345</td><td>5.3682047713581085    </td><td>6.432464671650421     </td><td>1960.998294438974   </td><td>1986.0372170626815     </td><td>95.98120616855478    </td><td>803.4025253858839    </td><td>31.72182255610891    </td><td>261.9943027716338   </td><td>1097.118650713627     </td><td>1143.2273021213064 </td><td>-34.80674290948252 </td><td>-14.998850263717578    </td><td>1093.4217089481062  </td><td>0.801519611576214      </td><td>0.036253539960012196   </td><td>1.1471446995858958 </td><td>0.0652718567118813  </td><td>2.194472810484927      </td><td>1.02304704342719       </td><td>5.138311817104172      </td><td>0.3422719759573512   </td><td>1971.2966796430346    </td><td>1.615724956896817    </td><td>470.9254340622457    </td><td>65.59743812151949    </td><td>42.356305484998174    </td><td>38.774731137780606      </td><td>27.211694177113607  </td><td>5.023618171776562     </td><td>-5.405897716603046 </td><td>140.73931647854138 </td><td>3.404891750355784 </td><td>2009.24341960773  </td><td>-0.10930290487949208</td><td>-0.2603528980747947  </td><td>0.6227290323683199  </td><td>-0.2532456834690901  </td><td>-0.10601564416397133</td><td>-0.12819774999046835 </td><td>0.0014880477826505717</td><td>0.06059479612219623 </td><td>-0.14800067812066064 </td><td>-0.015013106819190103</td><td>0.258732727595687    </td><td>0.4155169511143232  </td><td>0.467208049616412    </td><td>0.18133229537402384 </td><td>-0.31314030567596957</td><td>0.4343847775681157  </td><td>0.12302532947694313 </td><td>-0.19640935360041722</td><td>-0.08252697527658953</td><td>0.07495234916665944</td><td>0.30271610912650787 </td><td>0.045111238221495056</td><td>-0.09506154879553437</td><td>0.11063177584403569 </td><td>0.09756143885633518  </td><td>-0.12298906446590926 </td><td>0.30838415363288907  </td><td>-0.0026898982835613975</td><td>-0.055464611003958914</td><td>-0.22784527113823624</td><td>0.48194059632758673 </td><td>-0.28870733863147136 </td><td>0.56255467690727    </td><td>-0.4124620710712955  </td><td>0.1066199203634637   </td><td>0.3848433033888692   </td><td>-0.15555689810707732</td><td>-0.16967982800795955</td><td>-0.12118740852975031 </td><td>0.18851594959406293 </td><td>-0.20185076103640387 </td><td>-0.10577059222339177 </td><td>0.23221388703958334 </td><td>-0.06021742808365101 </td><td>0.01960556113028464  </td><td>0.14368849351880947  </td><td>0.1586535837371044   </td><td>0.12330208389675465  </td><td>-0.03161966891374437</td><td>0.3109827050202692  </td></tr>\n",
              "<tr><td>5      </td><td>19.0              </td><td>159000.0         </td><td>39.073396825433704   </td><td>71.54113861967471     </td><td>12890.948603013136</td><td>6.023361422475367     </td><td>5.028611605966211     </td><td>1994.30234690468    </td><td>1993.0229502371153     </td><td>104.4865354661974    </td><td>583.8173581080806    </td><td>50.1412417882288     </td><td>409.12410456850273  </td><td>1043.0827044648127    </td><td>1046.364631311284  </td><td>221.20259570665124 </td><td>-16.76699516238823     </td><td>1250.800231855547   </td><td>0.7010400540105164     </td><td>-0.052709992331182155  </td><td>1.4409912740255846 </td><td>0.5218462753683495  </td><td>2.282621924469578      </td><td>0.9055652656255357     </td><td>5.492893365210535      </td><td>0.4278087323274684   </td><td>1998.3148735835966    </td><td>1.9526928576753362   </td><td>523.6323344996047    </td><td>127.78642620504792   </td><td>41.74582619464441     </td><td>0.32304345971790127     </td><td>7.879472207335734   </td><td>-15.120581241279416   </td><td>-3.708296443561001 </td><td>-60.49497796055629 </td><td>5.188898385634717 </td><td>2008.2314295054548</td><td>0.17641349974756523 </td><td>0.049667984054699146 </td><td>-0.06080348680775473</td><td>0.31572137271997713  </td><td>0.26033421863197637 </td><td>0.014569406391410274 </td><td>0.09738170829405814  </td><td>-0.22768679703450073</td><td>0.12309258076477289  </td><td>0.23448012501411075  </td><td>0.4056988610949765   </td><td>0.14519212651228816 </td><td>-0.1277589351158539  </td><td>0.017099249687009543</td><td>0.09959418654999072 </td><td>-0.21784800531309798</td><td>0.023529136334603754</td><td>0.10196642247079546 </td><td>0.0823927293841085  </td><td>0.19196946720874172</td><td>-0.22466040287691463</td><td>0.08926530577367417 </td><td>-0.11241012789700819</td><td>-0.07754032079950936</td><td>0.19067244719635734  </td><td>0.2769790039776582   </td><td>-0.18597185506774655 </td><td>0.3048579433859439    </td><td>0.24638162500864877  </td><td>-0.11230545913129408</td><td>-0.16382616734896013</td><td>-0.05241701921225532 </td><td>0.09029174092263642 </td><td>-0.08841330855068506 </td><td>0.04794890829509567  </td><td>-0.051761318522677686</td><td>0.0944900847950373  </td><td>-0.17232545939723184</td><td>-0.185624849270118   </td><td>0.16075211909547185 </td><td>0.23130800517861805  </td><td>-0.02339645974081095 </td><td>-0.16556183793415477</td><td>-0.012460901448532282</td><td>0.24978464050565632  </td><td>0.24783263918912332  </td><td>0.2353300846313744   </td><td>0.048820589477090726 </td><td>0.2047691367377408  </td><td>0.00863556178592184 </td></tr>\n",
              "<tr><td>6      </td><td>22.0              </td><td>139400.0         </td><td>42.22732676370874    </td><td>64.77828231504978     </td><td>6256.459175051381 </td><td>4.898104929326328     </td><td>6.460150046273389     </td><td>1913.7918902721826  </td><td>1964.9514856498497     </td><td>-39.325962890688416  </td><td>102.82555251800409   </td><td>-5.769987445270807   </td><td>770.7745662732868   </td><td>867.8301313460206     </td><td>1088.3008240973961 </td><td>167.82665387172116 </td><td>36.41772504507289      </td><td>1292.5452030141903  </td><td>0.11527502503681525    </td><td>-0.07046682082885178   </td><td>1.126765441808471  </td><td>-0.1780961375169704 </td><td>2.9945198735910306     </td><td>1.078941899191404      </td><td>6.152736557059352      </td><td>0.41464651492568927  </td><td>1936.7842436921626    </td><td>0.7331308488352882   </td><td>219.14810289664862   </td><td>1.6030171824982347   </td><td>45.28143837407749     </td><td>98.21237533216296       </td><td>-3.636013862928955  </td><td>23.79158144914434     </td><td>12.833924336445087 </td><td>-16.600145447463568</td><td>5.73979028307614  </td><td>2007.569477212989 </td><td>0.19771005352636176 </td><td>-0.08983614941533294 </td><td>-0.17029543520744905</td><td>-0.32591806671282164 </td><td>-0.14715593628775434</td><td>-0.40049688052371135 </td><td>0.7310138238121814   </td><td>0.3485894516520821  </td><td>0.27833837714276777  </td><td>0.17884181779729214  </td><td>-0.20381123809331722 </td><td>-0.12353943125055492</td><td>-0.2528312001374692  </td><td>0.37213412808186414 </td><td>0.6932338078179994  </td><td>0.22050068204450343 </td><td>0.2080943443221315  </td><td>0.5008516752671611  </td><td>-0.08549453396708719</td><td>0.44906257030567254</td><td>-0.19874765853225096</td><td>-0.02682906038453441</td><td>0.1736953885354075  </td><td>-0.20813867198557598</td><td>-0.04612375786043614 </td><td>0.19995149593510655  </td><td>-0.4240790537638527  </td><td>-0.26223996918653875  </td><td>-0.06698771739258871 </td><td>-0.21127718040373217</td><td>0.2228764584416022  </td><td>-0.04221148820829425 </td><td>-0.03793252835079834</td><td>0.23023650854597652  </td><td>-0.05897924642665331 </td><td>0.07731120233986351  </td><td>-0.17470698250076733</td><td>0.2978810907236446  </td><td>0.04077347380333942  </td><td>0.10739754531072535 </td><td>-0.3171944127587742  </td><td>-0.32289957693751997 </td><td>-0.08870679277962999</td><td>-0.047847854921129564</td><td>0.18102130491489543  </td><td>0.15528545842329633  </td><td>0.13343844919208367  </td><td>0.2969778594616945   </td><td>-0.06408266652535562</td><td>0.06634832777238162 </td></tr>\n",
              "<tr><td>7      </td><td>30.0              </td><td>68500.0          </td><td>34.216865639135946   </td><td>56.992961774084186    </td><td>4672.706720305743 </td><td>3.7060011634804684    </td><td>5.979002746505667     </td><td>1927.0589925194786  </td><td>1961.09435326189       </td><td>-61.132273831204046  </td><td>79.04119796340655    </td><td>3.8937559003473226   </td><td>449.97018887257826  </td><td>532.9051427363324     </td><td>672.5507093418651  </td><td>-71.68649959038663 </td><td>2.7151704487352935     </td><td>603.5793802002141   </td><td>0.12956793045080234    </td><td>-0.007601771385190824  </td><td>0.7016837219743296 </td><td>-0.1378320445667729 </td><td>2.1997258938631257     </td><td>0.9884407837048201     </td><td>4.057816809005601      </td><td>-0.12000424218694317 </td><td>1944.9602530490304    </td><td>0.522061157047284    </td><td>149.93890737500618   </td><td>-35.00755526027808   </td><td>0.59497534993735      </td><td>61.8479787222471        </td><td>7.791176678107204   </td><td>-0.17549073339381316  </td><td>0.20716275453951583</td><td>-80.51299069120549 </td><td>5.007527523536425 </td><td>2008.0239558347266</td><td>-0.16080708774050478</td><td>0.3644477485163448   </td><td>0.03571324214478859 </td><td>0.21001991527671252  </td><td>-0.14211331431739002</td><td>-0.3197054473018662  </td><td>0.2834198509958405   </td><td>-0.16102615617054694</td><td>-0.22466979325848888 </td><td>-0.03534904115275849 </td><td>-0.3284944111668196  </td><td>0.026632073022501663</td><td>-0.05483911235778589 </td><td>0.7000970388974432  </td><td>0.3657481893531779  </td><td>-0.4340448044696399 </td><td>-0.08316386694129345</td><td>0.11138607515086332 </td><td>0.22771346731426192 </td><td>0.16728695125130405</td><td>-0.11739557251878284</td><td>0.13355166921936448 </td><td>0.18213125639858702 </td><td>-0.21372187883458174</td><td>0.044405293291264206 </td><td>-0.026830862995075873</td><td>0.3738694409829919   </td><td>-0.14603815301185716  </td><td>0.274828762297208    </td><td>0.08863467404523202 </td><td>-0.3311228060355405 </td><td>0.31158104346353144  </td><td>0.29732664414666693 </td><td>-0.2139656526377526  </td><td>0.532842687199573    </td><td>0.20605014031198085  </td><td>0.2436252567071678  </td><td>-0.39230412036017426</td><td>-0.3865122743022347  </td><td>0.24987193765378346 </td><td>-0.10394405138934587 </td><td>0.45796676251798624  </td><td>-0.2243639863239229 </td><td>0.23709565119269974  </td><td>-0.01624977917174069 </td><td>-0.14266234449725707 </td><td>0.09785508112816764  </td><td>-0.14609857975791365 </td><td>0.3918291419341801  </td><td>-0.18587780452975142</td></tr>\n",
              "<tr><td>8      </td><td>32.0              </td><td>149350.0         </td><td>22.86267092633546    </td><td>70.91988296538698     </td><td>8659.026358635649 </td><td>5.662193372106359     </td><td>5.878975954909636     </td><td>1963.3590959280991  </td><td>1987.7348752145676     </td><td>1.7023202084133828   </td><td>-80.00141956472982   </td><td>47.591003256872796   </td><td>987.2311736780581   </td><td>954.8207573702018     </td><td>1046.3974229257203 </td><td>190.64904562067574 </td><td>-1.3252292081554664    </td><td>1235.7212393382408  </td><td>-0.046753084582689175  </td><td>-0.0091537930209237    </td><td>1.4506517971289576 </td><td>0.14952597028090106 </td><td>2.7372953793245984     </td><td>0.9569753715909036     </td><td>5.881160260524251      </td><td>0.173423261270291    </td><td>1977.0607370698674    </td><td>1.4727901998231598   </td><td>399.9560479303627    </td><td>61.24067512342949    </td><td>42.29199853411464     </td><td>45.16178656349799       </td><td>5.181543991472342   </td><td>-4.447209551439842    </td><td>4.593107644333868  </td><td>-13.510206716013776</td><td>6.1214426315758335</td><td>2008.061099613081 </td><td>-0.09558637250645695</td><td>0.1469789498453511   </td><td>0.1343244874182516  </td><td>0.0030264446071061645</td><td>-0.18372130302659004</td><td>-0.08006422945244308 </td><td>0.045736669291394985 </td><td>-0.08128570472434243</td><td>-0.040370471892513776</td><td>0.31082793411948917  </td><td>-0.019922189716569172</td><td>-0.2606802476092399 </td><td>0.2836486685824375   </td><td>-0.0996222668205148 </td><td>-0.08351329790248047</td><td>-0.10921947142242594</td><td>0.17131911124551377 </td><td>0.3608379943178293  </td><td>0.18565665547948595 </td><td>0.14620445345004038</td><td>-0.1022554731471725 </td><td>0.010431035579769737</td><td>0.7663342885700334  </td><td>0.2298103282674605  </td><td>0.1356581659317452   </td><td>-0.07566307660986794 </td><td>-0.029887187824745684</td><td>-0.16925357276962827  </td><td>0.3384526931929037   </td><td>0.2413423541996882  </td><td>0.10071170951405396 </td><td>0.046869458443143094 </td><td>0.3517248514517285  </td><td>-0.023490257487443177</td><td>-0.00403757512936181 </td><td>-0.02603325526438143 </td><td>0.23108990447405173 </td><td>-0.11441011321610332</td><td>-0.10791667868786119 </td><td>-0.16115224979640838</td><td>-0.2557327099813882  </td><td>-0.1247400087682557  </td><td>-0.06156255861000227</td><td>0.07795290522239842  </td><td>0.13187176062128542  </td><td>0.17395739615722167  </td><td>-0.20314387761358768 </td><td>0.4678289220519111   </td><td>0.0736902809471162  </td><td>-0.06889700986326305</td></tr>\n",
              "<tr><td>9      </td><td>37.0              </td><td>145000.0         </td><td>-0.006747143056756499</td><td>86.63732846256619     </td><td>17106.224692147796</td><td>5.932004782229843     </td><td>5.1120278760592015    </td><td>1993.8811276813067  </td><td>1994.9867654917186     </td><td>46.30189800629517    </td><td>21.803674272699936   </td><td>141.71587927797194   </td><td>913.5223731106724   </td><td>1077.0419266613449    </td><td>1101.5853160680713 </td><td>274.15254382503736 </td><td>-29.68581375794101     </td><td>1346.0520461351675  </td><td>0.15680622898531194    </td><td>0.0011971141711151559  </td><td>1.6072748846809677 </td><td>0.5138080834454588  </td><td>2.8157419828833343     </td><td>0.8974702333456864     </td><td>6.168627368900085      </td><td>0.20011107799733097  </td><td>1999.0652362246424    </td><td>1.9963451881352925   </td><td>538.493074277016     </td><td>136.87590171593763   </td><td>25.596961805661465    </td><td>13.666424677732778      </td><td>15.699481221745426  </td><td>-27.57886579408771    </td><td>4.290009163748021  </td><td>40.903627171988155 </td><td>5.620576574759674 </td><td>2008.4592636436946</td><td>0.3377968250964023  </td><td>0.01460210863265727  </td><td>-0.196166241242231  </td><td>0.32637611763689905  </td><td>-0.1551429795347088 </td><td>-0.004272162933873275</td><td>-0.2350526068607132  </td><td>-0.06563125870565881</td><td>0.20847712466762436  </td><td>0.22930143112075582  </td><td>0.30754505128564247  </td><td>-0.10309997095098283</td><td>0.08770368215891398  </td><td>0.31862209443745876 </td><td>-0.25610818718164446</td><td>0.008359474810109105</td><td>-0.08587360345801397</td><td>0.3711086121194722  </td><td>-0.16712233574222207</td><td>0.17010784633152212</td><td>0.549239277403846   </td><td>0.2508686694174465  </td><td>-0.15172904624576125</td><td>-0.12861361154465845</td><td>0.3376400158107358   </td><td>0.04475071258404347  </td><td>0.034914512467276344 </td><td>0.007979128729322271  </td><td>0.18419148925960688  </td><td>0.013183464556866574</td><td>-0.173720914918748  </td><td>-0.010724260927095759</td><td>0.20270588389935598 </td><td>0.09937347367347374  </td><td>-0.027543467743270343</td><td>0.08699565130504629  </td><td>0.04564326919346834 </td><td>0.2604815781006952  </td><td>0.07970735863639071  </td><td>0.017299863487446752</td><td>0.07352171619138687  </td><td>0.182365434626472    </td><td>0.40065790267987583 </td><td>0.11977623498741231  </td><td>0.13468679905708011  </td><td>0.5930267025599725   </td><td>-0.189781228541153   </td><td>-0.11111917250222512 </td><td>0.017032495415529408</td><td>0.06489366159499228 </td></tr>\n",
              "</tbody>\n",
              "</table>"
            ]
          },
          "metadata": {}
        }
      ],
      "source": [
        "imputed_embedded_nums, cats = get_type_lists(imputed_embedded_train)\n",
        "\n",
        "print('Imputed and encoded numeric training data:')\n",
        "imputed_embedded_train.describe() \n",
        "print('--------------------------------------------------------------------------------')\n",
        "print('Imputed and encoded numeric validation data:')\n",
        "imputed_embedded_valid.describe() \n"
      ]
    },
    {
      "cell_type": "markdown",
      "metadata": {
        "id": "5s4us7uc0H1X"
      },
      "source": [
        "20. Log transform for supervised target"
      ]
    },
    {
      "cell_type": "code",
      "execution_count": null,
      "metadata": {
        "id": "g8fH26MV0H1Y",
        "colab": {
          "base_uri": "https://localhost:8080/",
          "height": 386
        },
        "outputId": "ca201644-b89d-420d-d3af-90c6dd62543d"
      },
      "outputs": [
        {
          "output_type": "display_data",
          "data": {
            "text/html": [
              "<table>\n",
              "<thead>\n",
              "<tr><th style=\"text-align: right;\">  SalePrice</th></tr>\n",
              "</thead>\n",
              "<tbody>\n",
              "<tr><td style=\"text-align: right;\">    12.2477</td></tr>\n",
              "<tr><td style=\"text-align: right;\">    12.109 </td></tr>\n",
              "<tr><td style=\"text-align: right;\">    12.3172</td></tr>\n",
              "</tbody>\n",
              "</table>"
            ]
          },
          "metadata": {}
        },
        {
          "output_type": "stream",
          "name": "stdout",
          "text": [
            "\n"
          ]
        },
        {
          "output_type": "display_data",
          "data": {
            "text/plain": [
              "<Figure size 432x288 with 1 Axes>"
            ],
            "image/png": "[encoded data removed]"
          },
          "metadata": {
            "needs_background": "light"
          }
        }
      ],
      "source": [
        "# Check log transform - looks good\n",
        "%matplotlib inline\n",
        "imputed_embedded_train['SalePrice'].log().as_data_frame().hist()\n",
        "\n",
        "# Execute log transform\n",
        "imputed_embedded_train['SalePrice'] = imputed_embedded_train['SalePrice'].log()\n",
        "imputed_embedded_valid['SalePrice'] = imputed_embedded_valid['SalePrice'].log()\n",
        "print(imputed_embedded_train[0:3, 'SalePrice'])"
      ]
    },
    {
      "cell_type": "markdown",
      "metadata": {
        "id": "qA8GhJgs0H1Y"
      },
      "source": [
        "21. Train GLM on imputed, embedded inputs"
      ]
    },
    {
      "cell_type": "code",
      "execution_count": null,
      "metadata": {
        "id": "H18rCRH30H1Y",
        "colab": {
          "base_uri": "https://localhost:8080/",
          "height": 1000
        },
        "outputId": "6c68a5bc-e0b9-4789-eeba-c549be3137b2"
      },
      "outputs": [
        {
          "output_type": "stream",
          "name": "stdout",
          "text": [
            "glm Grid Build progress: |███████████████████████████████████████████████████████| (done) 100%\n"
          ]
        },
        {
          "output_type": "stream",
          "name": "stderr",
          "text": [
            "/usr/local/lib/python3.7/dist-packages/h2o/grid/grid_search.py:427: UserWarning: Adding alpha array to hyperparameter runs slower with gridsearch. This is due to the fact that the algo has to run initialization for every alpha value. Setting the alpha array as a model parameter will skip the initialization and run faster overall.\n",
            "  warnings.warn(w_message)\n"
          ]
        },
        {
          "output_type": "stream",
          "name": "stdout",
          "text": [
            "     alpha                                                    model_ids  \\\n",
            "0     0.99  Grid_GLM_py_8_sid_aca5_model_python_1649949961614_9_model_4   \n",
            "1     0.50  Grid_GLM_py_8_sid_aca5_model_python_1649949961614_9_model_3   \n",
            "2     0.25  Grid_GLM_py_8_sid_aca5_model_python_1649949961614_9_model_2   \n",
            "3     0.01  Grid_GLM_py_8_sid_aca5_model_python_1649949961614_9_model_1   \n",
            "\n",
            "   residual_deviance  \n",
            "0          11.051575  \n",
            "1          11.214821  \n",
            "2          11.358301  \n",
            "3          16.568308  \n",
            "None\n",
            "Model Details\n",
            "=============\n",
            "H2OGeneralizedLinearEstimator :  Generalized Linear Modeling\n",
            "Model Key:  Grid_GLM_py_8_sid_aca5_model_python_1649949961614_9_model_4\n",
            "\n",
            "\n",
            "GLM Model: summary\n"
          ]
        },
        {
          "output_type": "display_data",
          "data": {
            "text/plain": [
              "       family      link                                 regularization  \\\n",
              "0    gaussian  identity  Elastic Net (alpha = 0.99, lambda = 0.02629 )   \n",
              "\n",
              "                                                           lambda_search  \\\n",
              "0  nlambda = 100, lambda.max = 0.3395, lambda.min = 0.02629, lambda.1...   \n",
              "\n",
              "   number_of_predictors_total number_of_active_predictors  \\\n",
              "0                          86                          14   \n",
              "\n",
              "   number_of_iterations training_frame  \n",
              "0                    56  py_8_sid_aca5  "
            ],
            "text/html": [
              "\n",
              "  <div id=\"df-b7d2eab7-cea8-4a4a-87e8-409534fb67dd\">\n",
              "    <div class=\"colab-df-container\">\n",
              "      <div>\n",
              "<style scoped>\n",
              "    .dataframe tbody tr th:only-of-type {\n",
              "        vertical-align: middle;\n",
              "    }\n",
              "\n",
              "    .dataframe tbody tr th {\n",
              "        vertical-align: top;\n",
              "    }\n",
              "\n",
              "    .dataframe thead th {\n",
              "        text-align: right;\n",
              "    }\n",
              "</style>\n",
              "<table border=\"1\" class=\"dataframe\">\n",
              "  <thead>\n",
              "    <tr style=\"text-align: right;\">\n",
              "      <th></th>\n",
              "      <th></th>\n",
              "      <th>family</th>\n",
              "      <th>link</th>\n",
              "      <th>regularization</th>\n",
              "      <th>lambda_search</th>\n",
              "      <th>number_of_predictors_total</th>\n",
              "      <th>number_of_active_predictors</th>\n",
              "      <th>number_of_iterations</th>\n",
              "      <th>training_frame</th>\n",
              "    </tr>\n",
              "  </thead>\n",
              "  <tbody>\n",
              "    <tr>\n",
              "      <th>0</th>\n",
              "      <td></td>\n",
              "      <td>gaussian</td>\n",
              "      <td>identity</td>\n",
              "      <td>Elastic Net (alpha = 0.99, lambda = 0.02629 )</td>\n",
              "      <td>nlambda = 100, lambda.max = 0.3395, lambda.min = 0.02629, lambda.1...</td>\n",
              "      <td>86</td>\n",
              "      <td>14</td>\n",
              "      <td>56</td>\n",
              "      <td>py_8_sid_aca5</td>\n",
              "    </tr>\n",
              "  </tbody>\n",
              "</table>\n",
              "</div>\n",
              "      <button class=\"colab-df-convert\" onclick=\"convertToInteractive('df-b7d2eab7-cea8-4a4a-87e8-409534fb67dd')\"\n",
              "              title=\"Convert this dataframe to an interactive table.\"\n",
              "              style=\"display:none;\">\n",
              "        \n",
              "  <svg xmlns=\"http://www.w3.org/2000/svg\" height=\"24px\"viewBox=\"0 0 24 24\"\n",
              "       width=\"24px\">\n",
              "    <path d=\"M0 0h24v24H0V0z\" fill=\"none\"/>\n",
              "    <path d=\"M18.56 5.44l.94 2.06.94-2.06 2.06-.94-2.06-.94-.94-2.06-.94 2.06-2.06.94zm-11 1L8.5 8.5l.94-2.06 2.06-.94-2.06-.94L8.5 2.5l-.94 2.06-2.06.94zm10 10l.94 2.06.94-2.06 2.06-.94-2.06-.94-.94-2.06-.94 2.06-2.06.94z\"/><path d=\"M17.41 7.96l-1.37-1.37c-.4-.4-.92-.59-1.43-.59-.52 0-1.04.2-1.43.59L10.3 9.45l-7.72 7.72c-.78.78-.78 2.05 0 2.83L4 21.41c.39.39.9.59 1.41.59.51 0 1.02-.2 1.41-.59l7.78-7.78 2.81-2.81c.8-.78.8-2.07 0-2.86zM5.41 20L4 18.59l7.72-7.72 1.47 1.35L5.41 20z\"/>\n",
              "  </svg>\n",
              "      </button>\n",
              "      \n",
              "  <style>\n",
              "    .colab-df-container {\n",
              "      display:flex;\n",
              "      flex-wrap:wrap;\n",
              "      gap: 12px;\n",
              "    }\n",
              "\n",
              "    .colab-df-convert {\n",
              "      background-color: #E8F0FE;\n",
              "      border: none;\n",
              "      border-radius: 50%;\n",
              "      cursor: pointer;\n",
              "      display: none;\n",
              "      fill: #1967D2;\n",
              "      height: 32px;\n",
              "      padding: 0 0 0 0;\n",
              "      width: 32px;\n",
              "    }\n",
              "\n",
              "    .colab-df-convert:hover {\n",
              "      background-color: #E2EBFA;\n",
              "      box-shadow: 0px 1px 2px rgba(60, 64, 67, 0.3), 0px 1px 3px 1px rgba(60, 64, 67, 0.15);\n",
              "      fill: #174EA6;\n",
              "    }\n",
              "\n",
              "    [theme=dark] .colab-df-convert {\n",
              "      background-color: #3B4455;\n",
              "      fill: #D2E3FC;\n",
              "    }\n",
              "\n",
              "    [theme=dark] .colab-df-convert:hover {\n",
              "      background-color: #434B5C;\n",
              "      box-shadow: 0px 1px 3px 1px rgba(0, 0, 0, 0.15);\n",
              "      filter: drop-shadow(0px 1px 2px rgba(0, 0, 0, 0.3));\n",
              "      fill: #FFFFFF;\n",
              "    }\n",
              "  </style>\n",
              "\n",
              "      <script>\n",
              "        const buttonEl =\n",
              "          document.querySelector('#df-b7d2eab7-cea8-4a4a-87e8-409534fb67dd button.colab-df-convert');\n",
              "        buttonEl.style.display =\n",
              "          google.colab.kernel.accessAllowed ? 'block' : 'none';\n",
              "\n",
              "        async function convertToInteractive(key) {\n",
              "          const element = document.querySelector('#df-b7d2eab7-cea8-4a4a-87e8-409534fb67dd');\n",
              "          const dataTable =\n",
              "            await google.colab.kernel.invokeFunction('convertToInteractive',\n",
              "                                                     [key], {});\n",
              "          if (!dataTable) return;\n",
              "\n",
              "          const docLinkHtml = 'Like what you see? Visit the ' +\n",
              "            '<a target=\"_blank\" href=https://colab.research.google.com/notebooks/data_table.ipynb>data table notebook</a>'\n",
              "            + ' to learn more about interactive tables.';\n",
              "          element.innerHTML = '';\n",
              "          dataTable['output_type'] = 'display_data';\n",
              "          await google.colab.output.renderOutput(dataTable, element);\n",
              "          const docLink = document.createElement('div');\n",
              "          docLink.innerHTML = docLinkHtml;\n",
              "          element.appendChild(docLink);\n",
              "        }\n",
              "      </script>\n",
              "    </div>\n",
              "  </div>\n",
              "  "
            ]
          },
          "metadata": {}
        },
        {
          "output_type": "stream",
          "name": "stdout",
          "text": [
            "\n",
            "\n",
            "ModelMetricsRegressionGLM: glm\n",
            "** Reported on train data. **\n",
            "\n",
            "MSE: 0.03164939358731362\n",
            "RMSE: 0.17790276441728953\n",
            "MAE: 0.1147758868513937\n",
            "RMSLE: 0.013663838668586574\n",
            "R^2: 0.7959023238826659\n",
            "Mean Residual Deviance: 0.03164939358731362\n",
            "Null degrees of freedom: 1000\n",
            "Residual degrees of freedom: 986\n",
            "Null deviance: 155.2249079146511\n",
            "Residual deviance: 31.681042980900934\n",
            "AIC: -583.7743833487808\n",
            "\n",
            "ModelMetricsRegressionGLM: glm\n",
            "** Reported on validation data. **\n",
            "\n",
            "MSE: 0.024077505156272567\n",
            "RMSE: 0.1551692790350995\n",
            "MAE: 0.11456296925171534\n",
            "RMSLE: 0.011993149321324018\n",
            "R^2: 0.8571197027616315\n",
            "Mean Residual Deviance: 0.024077505156272567\n",
            "Null degrees of freedom: 458\n",
            "Residual degrees of freedom: 444\n",
            "Null deviance: 77.67997881888854\n",
            "Residual deviance: 11.051574866729108\n",
            "AIC: -375.8674936207512\n",
            "\n",
            "Scoring History: \n"
          ]
        },
        {
          "output_type": "display_data",
          "data": {
            "text/plain": [
              "                timestamp    duration  iteration lambda  predictors  \\\n",
              "0     2022-04-14 15:55:46   0.000 sec          1  .34E0           1   \n",
              "1     2022-04-14 15:55:46   0.004 sec          2  .32E0           2   \n",
              "2     2022-04-14 15:55:46   0.008 sec          3  .31E0           2   \n",
              "3     2022-04-14 15:55:46   0.011 sec          4   .3E0           2   \n",
              "4     2022-04-14 15:55:46   0.014 sec          5  .28E0           2   \n",
              "5     2022-04-14 15:55:46   0.018 sec          6  .27E0           2   \n",
              "6     2022-04-14 15:55:46   0.026 sec          7  .26E0           2   \n",
              "7     2022-04-14 15:55:46   0.030 sec          8  .25E0           2   \n",
              "8     2022-04-14 15:55:46   0.036 sec          9  .23E0           2   \n",
              "9     2022-04-14 15:55:46   0.040 sec         10  .22E0           2   \n",
              "10    2022-04-14 15:55:47   0.044 sec         11  .21E0           2   \n",
              "11    2022-04-14 15:55:47   0.047 sec         12   .2E0           2   \n",
              "12    2022-04-14 15:55:47   0.051 sec         13  .19E0           2   \n",
              "13    2022-04-14 15:55:47   0.079 sec         14  .19E0           2   \n",
              "14    2022-04-14 15:55:47   0.083 sec         15  .18E0           3   \n",
              "15    2022-04-14 15:55:47   0.086 sec         16  .17E0           3   \n",
              "16    2022-04-14 15:55:47   0.089 sec         17  .16E0           3   \n",
              "17    2022-04-14 15:55:47   0.093 sec         18  .15E0           3   \n",
              "18    2022-04-14 15:55:47   0.096 sec         19  .15E0           3   \n",
              "19    2022-04-14 15:55:47   0.100 sec         20  .14E0           3   \n",
              "\n",
              "    deviance_train  deviance_test  alpha  iterations training_rmse  \\\n",
              "0         0.155070       0.169237   0.99         NaN                 \n",
              "1         0.145056       0.157301   0.99         NaN                 \n",
              "2         0.135928       0.146412   0.99         NaN                 \n",
              "3         0.127608       0.136478   0.99         NaN                 \n",
              "4         0.120023       0.127415   0.99         NaN                 \n",
              "5         0.113109       0.119146   0.99         NaN                 \n",
              "6         0.106808       0.111602   0.99         NaN                 \n",
              "7         0.101064       0.104718   0.99         NaN                 \n",
              "8         0.095828       0.098438   0.99         NaN                 \n",
              "9         0.091056       0.092707   0.99         NaN                 \n",
              "10        0.086707       0.087478   0.99         NaN                 \n",
              "11        0.082743       0.082707   0.99         NaN                 \n",
              "12        0.079130       0.078353   0.99         NaN                 \n",
              "13        0.075837       0.074379   0.99         NaN                 \n",
              "14        0.072743       0.070607   0.99         NaN                 \n",
              "15        0.069918       0.067134   0.99         NaN                 \n",
              "16        0.067345       0.063957   0.99         NaN                 \n",
              "17        0.064999       0.061046   0.99         NaN                 \n",
              "18        0.062862       0.058382   0.99         NaN                 \n",
              "19        0.060915       0.055942   0.99         NaN                 \n",
              "\n",
              "   training_deviance training_mae training_r2 validation_rmse  \\\n",
              "0                                                               \n",
              "1                                                               \n",
              "2                                                               \n",
              "3                                                               \n",
              "4                                                               \n",
              "5                                                               \n",
              "6                                                               \n",
              "7                                                               \n",
              "8                                                               \n",
              "9                                                               \n",
              "10                                                              \n",
              "11                                                              \n",
              "12                                                              \n",
              "13                                                              \n",
              "14                                                              \n",
              "15                                                              \n",
              "16                                                              \n",
              "17                                                              \n",
              "18                                                              \n",
              "19                                                              \n",
              "\n",
              "   validation_deviance validation_mae validation_r2  \n",
              "0                                                    \n",
              "1                                                    \n",
              "2                                                    \n",
              "3                                                    \n",
              "4                                                    \n",
              "5                                                    \n",
              "6                                                    \n",
              "7                                                    \n",
              "8                                                    \n",
              "9                                                    \n",
              "10                                                   \n",
              "11                                                   \n",
              "12                                                   \n",
              "13                                                   \n",
              "14                                                   \n",
              "15                                                   \n",
              "16                                                   \n",
              "17                                                   \n",
              "18                                                   \n",
              "19                                                   "
            ],
            "text/html": [
              "\n",
              "  <div id=\"df-d3384d2f-5dbd-4a03-b07e-87ddef9dae40\">\n",
              "    <div class=\"colab-df-container\">\n",
              "      <div>\n",
              "<style scoped>\n",
              "    .dataframe tbody tr th:only-of-type {\n",
              "        vertical-align: middle;\n",
              "    }\n",
              "\n",
              "    .dataframe tbody tr th {\n",
              "        vertical-align: top;\n",
              "    }\n",
              "\n",
              "    .dataframe thead th {\n",
              "        text-align: right;\n",
              "    }\n",
              "</style>\n",
              "<table border=\"1\" class=\"dataframe\">\n",
              "  <thead>\n",
              "    <tr style=\"text-align: right;\">\n",
              "      <th></th>\n",
              "      <th></th>\n",
              "      <th>timestamp</th>\n",
              "      <th>duration</th>\n",
              "      <th>iteration</th>\n",
              "      <th>lambda</th>\n",
              "      <th>predictors</th>\n",
              "      <th>deviance_train</th>\n",
              "      <th>deviance_test</th>\n",
              "      <th>alpha</th>\n",
              "      <th>iterations</th>\n",
              "      <th>training_rmse</th>\n",
              "      <th>training_deviance</th>\n",
              "      <th>training_mae</th>\n",
              "      <th>training_r2</th>\n",
              "      <th>validation_rmse</th>\n",
              "      <th>validation_deviance</th>\n",
              "      <th>validation_mae</th>\n",
              "      <th>validation_r2</th>\n",
              "    </tr>\n",
              "  </thead>\n",
              "  <tbody>\n",
              "    <tr>\n",
              "      <th>0</th>\n",
              "      <td></td>\n",
              "      <td>2022-04-14 15:55:46</td>\n",
              "      <td>0.000 sec</td>\n",
              "      <td>1</td>\n",
              "      <td>.34E0</td>\n",
              "      <td>1</td>\n",
              "      <td>0.155070</td>\n",
              "      <td>0.169237</td>\n",
              "      <td>0.99</td>\n",
              "      <td>NaN</td>\n",
              "      <td></td>\n",
              "      <td></td>\n",
              "      <td></td>\n",
              "      <td></td>\n",
              "      <td></td>\n",
              "      <td></td>\n",
              "      <td></td>\n",
              "      <td></td>\n",
              "    </tr>\n",
              "    <tr>\n",
              "      <th>1</th>\n",
              "      <td></td>\n",
              "      <td>2022-04-14 15:55:46</td>\n",
              "      <td>0.004 sec</td>\n",
              "      <td>2</td>\n",
              "      <td>.32E0</td>\n",
              "      <td>2</td>\n",
              "      <td>0.145056</td>\n",
              "      <td>0.157301</td>\n",
              "      <td>0.99</td>\n",
              "      <td>NaN</td>\n",
              "      <td></td>\n",
              "      <td></td>\n",
              "      <td></td>\n",
              "      <td></td>\n",
              "      <td></td>\n",
              "      <td></td>\n",
              "      <td></td>\n",
              "      <td></td>\n",
              "    </tr>\n",
              "    <tr>\n",
              "      <th>2</th>\n",
              "      <td></td>\n",
              "      <td>2022-04-14 15:55:46</td>\n",
              "      <td>0.008 sec</td>\n",
              "      <td>3</td>\n",
              "      <td>.31E0</td>\n",
              "      <td>2</td>\n",
              "      <td>0.135928</td>\n",
              "      <td>0.146412</td>\n",
              "      <td>0.99</td>\n",
              "      <td>NaN</td>\n",
              "      <td></td>\n",
              "      <td></td>\n",
              "      <td></td>\n",
              "      <td></td>\n",
              "      <td></td>\n",
              "      <td></td>\n",
              "      <td></td>\n",
              "      <td></td>\n",
              "    </tr>\n",
              "    <tr>\n",
              "      <th>3</th>\n",
              "      <td></td>\n",
              "      <td>2022-04-14 15:55:46</td>\n",
              "      <td>0.011 sec</td>\n",
              "      <td>4</td>\n",
              "      <td>.3E0</td>\n",
              "      <td>2</td>\n",
              "      <td>0.127608</td>\n",
              "      <td>0.136478</td>\n",
              "      <td>0.99</td>\n",
              "      <td>NaN</td>\n",
              "      <td></td>\n",
              "      <td></td>\n",
              "      <td></td>\n",
              "      <td></td>\n",
              "      <td></td>\n",
              "      <td></td>\n",
              "      <td></td>\n",
              "      <td></td>\n",
              "    </tr>\n",
              "    <tr>\n",
              "      <th>4</th>\n",
              "      <td></td>\n",
              "      <td>2022-04-14 15:55:46</td>\n",
              "      <td>0.014 sec</td>\n",
              "      <td>5</td>\n",
              "      <td>.28E0</td>\n",
              "      <td>2</td>\n",
              "      <td>0.120023</td>\n",
              "      <td>0.127415</td>\n",
              "      <td>0.99</td>\n",
              "      <td>NaN</td>\n",
              "      <td></td>\n",
              "      <td></td>\n",
              "      <td></td>\n",
              "      <td></td>\n",
              "      <td></td>\n",
              "      <td></td>\n",
              "      <td></td>\n",
              "      <td></td>\n",
              "    </tr>\n",
              "    <tr>\n",
              "      <th>5</th>\n",
              "      <td></td>\n",
              "      <td>2022-04-14 15:55:46</td>\n",
              "      <td>0.018 sec</td>\n",
              "      <td>6</td>\n",
              "      <td>.27E0</td>\n",
              "      <td>2</td>\n",
              "      <td>0.113109</td>\n",
              "      <td>0.119146</td>\n",
              "      <td>0.99</td>\n",
              "      <td>NaN</td>\n",
              "      <td></td>\n",
              "      <td></td>\n",
              "      <td></td>\n",
              "      <td></td>\n",
              "      <td></td>\n",
              "      <td></td>\n",
              "      <td></td>\n",
              "      <td></td>\n",
              "    </tr>\n",
              "    <tr>\n",
              "      <th>6</th>\n",
              "      <td></td>\n",
              "      <td>2022-04-14 15:55:46</td>\n",
              "      <td>0.026 sec</td>\n",
              "      <td>7</td>\n",
              "      <td>.26E0</td>\n",
              "      <td>2</td>\n",
              "      <td>0.106808</td>\n",
              "      <td>0.111602</td>\n",
              "      <td>0.99</td>\n",
              "      <td>NaN</td>\n",
              "      <td></td>\n",
              "      <td></td>\n",
              "      <td></td>\n",
              "      <td></td>\n",
              "      <td></td>\n",
              "      <td></td>\n",
              "      <td></td>\n",
              "      <td></td>\n",
              "    </tr>\n",
              "    <tr>\n",
              "      <th>7</th>\n",
              "      <td></td>\n",
              "      <td>2022-04-14 15:55:46</td>\n",
              "      <td>0.030 sec</td>\n",
              "      <td>8</td>\n",
              "      <td>.25E0</td>\n",
              "      <td>2</td>\n",
              "      <td>0.101064</td>\n",
              "      <td>0.104718</td>\n",
              "      <td>0.99</td>\n",
              "      <td>NaN</td>\n",
              "      <td></td>\n",
              "      <td></td>\n",
              "      <td></td>\n",
              "      <td></td>\n",
              "      <td></td>\n",
              "      <td></td>\n",
              "      <td></td>\n",
              "      <td></td>\n",
              "    </tr>\n",
              "    <tr>\n",
              "      <th>8</th>\n",
              "      <td></td>\n",
              "      <td>2022-04-14 15:55:46</td>\n",
              "      <td>0.036 sec</td>\n",
              "      <td>9</td>\n",
              "      <td>.23E0</td>\n",
              "      <td>2</td>\n",
              "      <td>0.095828</td>\n",
              "      <td>0.098438</td>\n",
              "      <td>0.99</td>\n",
              "      <td>NaN</td>\n",
              "      <td></td>\n",
              "      <td></td>\n",
              "      <td></td>\n",
              "      <td></td>\n",
              "      <td></td>\n",
              "      <td></td>\n",
              "      <td></td>\n",
              "      <td></td>\n",
              "    </tr>\n",
              "    <tr>\n",
              "      <th>9</th>\n",
              "      <td></td>\n",
              "      <td>2022-04-14 15:55:46</td>\n",
              "      <td>0.040 sec</td>\n",
              "      <td>10</td>\n",
              "      <td>.22E0</td>\n",
              "      <td>2</td>\n",
              "      <td>0.091056</td>\n",
              "      <td>0.092707</td>\n",
              "      <td>0.99</td>\n",
              "      <td>NaN</td>\n",
              "      <td></td>\n",
              "      <td></td>\n",
              "      <td></td>\n",
              "      <td></td>\n",
              "      <td></td>\n",
              "      <td></td>\n",
              "      <td></td>\n",
              "      <td></td>\n",
              "    </tr>\n",
              "    <tr>\n",
              "      <th>10</th>\n",
              "      <td></td>\n",
              "      <td>2022-04-14 15:55:47</td>\n",
              "      <td>0.044 sec</td>\n",
              "      <td>11</td>\n",
              "      <td>.21E0</td>\n",
              "      <td>2</td>\n",
              "      <td>0.086707</td>\n",
              "      <td>0.087478</td>\n",
              "      <td>0.99</td>\n",
              "      <td>NaN</td>\n",
              "      <td></td>\n",
              "      <td></td>\n",
              "      <td></td>\n",
              "      <td></td>\n",
              "      <td></td>\n",
              "      <td></td>\n",
              "      <td></td>\n",
              "      <td></td>\n",
              "    </tr>\n",
              "    <tr>\n",
              "      <th>11</th>\n",
              "      <td></td>\n",
              "      <td>2022-04-14 15:55:47</td>\n",
              "      <td>0.047 sec</td>\n",
              "      <td>12</td>\n",
              "      <td>.2E0</td>\n",
              "      <td>2</td>\n",
              "      <td>0.082743</td>\n",
              "      <td>0.082707</td>\n",
              "      <td>0.99</td>\n",
              "      <td>NaN</td>\n",
              "      <td></td>\n",
              "      <td></td>\n",
              "      <td></td>\n",
              "      <td></td>\n",
              "      <td></td>\n",
              "      <td></td>\n",
              "      <td></td>\n",
              "      <td></td>\n",
              "    </tr>\n",
              "    <tr>\n",
              "      <th>12</th>\n",
              "      <td></td>\n",
              "      <td>2022-04-14 15:55:47</td>\n",
              "      <td>0.051 sec</td>\n",
              "      <td>13</td>\n",
              "      <td>.19E0</td>\n",
              "      <td>2</td>\n",
              "      <td>0.079130</td>\n",
              "      <td>0.078353</td>\n",
              "      <td>0.99</td>\n",
              "      <td>NaN</td>\n",
              "      <td></td>\n",
              "      <td></td>\n",
              "      <td></td>\n",
              "      <td></td>\n",
              "      <td></td>\n",
              "      <td></td>\n",
              "      <td></td>\n",
              "      <td></td>\n",
              "    </tr>\n",
              "    <tr>\n",
              "      <th>13</th>\n",
              "      <td></td>\n",
              "      <td>2022-04-14 15:55:47</td>\n",
              "      <td>0.079 sec</td>\n",
              "      <td>14</td>\n",
              "      <td>.19E0</td>\n",
              "      <td>2</td>\n",
              "      <td>0.075837</td>\n",
              "      <td>0.074379</td>\n",
              "      <td>0.99</td>\n",
              "      <td>NaN</td>\n",
              "      <td></td>\n",
              "      <td></td>\n",
              "      <td></td>\n",
              "      <td></td>\n",
              "      <td></td>\n",
              "      <td></td>\n",
              "      <td></td>\n",
              "      <td></td>\n",
              "    </tr>\n",
              "    <tr>\n",
              "      <th>14</th>\n",
              "      <td></td>\n",
              "      <td>2022-04-14 15:55:47</td>\n",
              "      <td>0.083 sec</td>\n",
              "      <td>15</td>\n",
              "      <td>.18E0</td>\n",
              "      <td>3</td>\n",
              "      <td>0.072743</td>\n",
              "      <td>0.070607</td>\n",
              "      <td>0.99</td>\n",
              "      <td>NaN</td>\n",
              "      <td></td>\n",
              "      <td></td>\n",
              "      <td></td>\n",
              "      <td></td>\n",
              "      <td></td>\n",
              "      <td></td>\n",
              "      <td></td>\n",
              "      <td></td>\n",
              "    </tr>\n",
              "    <tr>\n",
              "      <th>15</th>\n",
              "      <td></td>\n",
              "      <td>2022-04-14 15:55:47</td>\n",
              "      <td>0.086 sec</td>\n",
              "      <td>16</td>\n",
              "      <td>.17E0</td>\n",
              "      <td>3</td>\n",
              "      <td>0.069918</td>\n",
              "      <td>0.067134</td>\n",
              "      <td>0.99</td>\n",
              "      <td>NaN</td>\n",
              "      <td></td>\n",
              "      <td></td>\n",
              "      <td></td>\n",
              "      <td></td>\n",
              "      <td></td>\n",
              "      <td></td>\n",
              "      <td></td>\n",
              "      <td></td>\n",
              "    </tr>\n",
              "    <tr>\n",
              "      <th>16</th>\n",
              "      <td></td>\n",
              "      <td>2022-04-14 15:55:47</td>\n",
              "      <td>0.089 sec</td>\n",
              "      <td>17</td>\n",
              "      <td>.16E0</td>\n",
              "      <td>3</td>\n",
              "      <td>0.067345</td>\n",
              "      <td>0.063957</td>\n",
              "      <td>0.99</td>\n",
              "      <td>NaN</td>\n",
              "      <td></td>\n",
              "      <td></td>\n",
              "      <td></td>\n",
              "      <td></td>\n",
              "      <td></td>\n",
              "      <td></td>\n",
              "      <td></td>\n",
              "      <td></td>\n",
              "    </tr>\n",
              "    <tr>\n",
              "      <th>17</th>\n",
              "      <td></td>\n",
              "      <td>2022-04-14 15:55:47</td>\n",
              "      <td>0.093 sec</td>\n",
              "      <td>18</td>\n",
              "      <td>.15E0</td>\n",
              "      <td>3</td>\n",
              "      <td>0.064999</td>\n",
              "      <td>0.061046</td>\n",
              "      <td>0.99</td>\n",
              "      <td>NaN</td>\n",
              "      <td></td>\n",
              "      <td></td>\n",
              "      <td></td>\n",
              "      <td></td>\n",
              "      <td></td>\n",
              "      <td></td>\n",
              "      <td></td>\n",
              "      <td></td>\n",
              "    </tr>\n",
              "    <tr>\n",
              "      <th>18</th>\n",
              "      <td></td>\n",
              "      <td>2022-04-14 15:55:47</td>\n",
              "      <td>0.096 sec</td>\n",
              "      <td>19</td>\n",
              "      <td>.15E0</td>\n",
              "      <td>3</td>\n",
              "      <td>0.062862</td>\n",
              "      <td>0.058382</td>\n",
              "      <td>0.99</td>\n",
              "      <td>NaN</td>\n",
              "      <td></td>\n",
              "      <td></td>\n",
              "      <td></td>\n",
              "      <td></td>\n",
              "      <td></td>\n",
              "      <td></td>\n",
              "      <td></td>\n",
              "      <td></td>\n",
              "    </tr>\n",
              "    <tr>\n",
              "      <th>19</th>\n",
              "      <td></td>\n",
              "      <td>2022-04-14 15:55:47</td>\n",
              "      <td>0.100 sec</td>\n",
              "      <td>20</td>\n",
              "      <td>.14E0</td>\n",
              "      <td>3</td>\n",
              "      <td>0.060915</td>\n",
              "      <td>0.055942</td>\n",
              "      <td>0.99</td>\n",
              "      <td>NaN</td>\n",
              "      <td></td>\n",
              "      <td></td>\n",
              "      <td></td>\n",
              "      <td></td>\n",
              "      <td></td>\n",
              "      <td></td>\n",
              "      <td></td>\n",
              "      <td></td>\n",
              "    </tr>\n",
              "  </tbody>\n",
              "</table>\n",
              "</div>\n",
              "      <button class=\"colab-df-convert\" onclick=\"convertToInteractive('df-d3384d2f-5dbd-4a03-b07e-87ddef9dae40')\"\n",
              "              title=\"Convert this dataframe to an interactive table.\"\n",
              "              style=\"display:none;\">\n",
              "        \n",
              "  <svg xmlns=\"http://www.w3.org/2000/svg\" height=\"24px\"viewBox=\"0 0 24 24\"\n",
              "       width=\"24px\">\n",
              "    <path d=\"M0 0h24v24H0V0z\" fill=\"none\"/>\n",
              "    <path d=\"M18.56 5.44l.94 2.06.94-2.06 2.06-.94-2.06-.94-.94-2.06-.94 2.06-2.06.94zm-11 1L8.5 8.5l.94-2.06 2.06-.94-2.06-.94L8.5 2.5l-.94 2.06-2.06.94zm10 10l.94 2.06.94-2.06 2.06-.94-2.06-.94-.94-2.06-.94 2.06-2.06.94z\"/><path d=\"M17.41 7.96l-1.37-1.37c-.4-.4-.92-.59-1.43-.59-.52 0-1.04.2-1.43.59L10.3 9.45l-7.72 7.72c-.78.78-.78 2.05 0 2.83L4 21.41c.39.39.9.59 1.41.59.51 0 1.02-.2 1.41-.59l7.78-7.78 2.81-2.81c.8-.78.8-2.07 0-2.86zM5.41 20L4 18.59l7.72-7.72 1.47 1.35L5.41 20z\"/>\n",
              "  </svg>\n",
              "      </button>\n",
              "      \n",
              "  <style>\n",
              "    .colab-df-container {\n",
              "      display:flex;\n",
              "      flex-wrap:wrap;\n",
              "      gap: 12px;\n",
              "    }\n",
              "\n",
              "    .colab-df-convert {\n",
              "      background-color: #E8F0FE;\n",
              "      border: none;\n",
              "      border-radius: 50%;\n",
              "      cursor: pointer;\n",
              "      display: none;\n",
              "      fill: #1967D2;\n",
              "      height: 32px;\n",
              "      padding: 0 0 0 0;\n",
              "      width: 32px;\n",
              "    }\n",
              "\n",
              "    .colab-df-convert:hover {\n",
              "      background-color: #E2EBFA;\n",
              "      box-shadow: 0px 1px 2px rgba(60, 64, 67, 0.3), 0px 1px 3px 1px rgba(60, 64, 67, 0.15);\n",
              "      fill: #174EA6;\n",
              "    }\n",
              "\n",
              "    [theme=dark] .colab-df-convert {\n",
              "      background-color: #3B4455;\n",
              "      fill: #D2E3FC;\n",
              "    }\n",
              "\n",
              "    [theme=dark] .colab-df-convert:hover {\n",
              "      background-color: #434B5C;\n",
              "      box-shadow: 0px 1px 3px 1px rgba(0, 0, 0, 0.15);\n",
              "      filter: drop-shadow(0px 1px 2px rgba(0, 0, 0, 0.3));\n",
              "      fill: #FFFFFF;\n",
              "    }\n",
              "  </style>\n",
              "\n",
              "      <script>\n",
              "        const buttonEl =\n",
              "          document.querySelector('#df-d3384d2f-5dbd-4a03-b07e-87ddef9dae40 button.colab-df-convert');\n",
              "        buttonEl.style.display =\n",
              "          google.colab.kernel.accessAllowed ? 'block' : 'none';\n",
              "\n",
              "        async function convertToInteractive(key) {\n",
              "          const element = document.querySelector('#df-d3384d2f-5dbd-4a03-b07e-87ddef9dae40');\n",
              "          const dataTable =\n",
              "            await google.colab.kernel.invokeFunction('convertToInteractive',\n",
              "                                                     [key], {});\n",
              "          if (!dataTable) return;\n",
              "\n",
              "          const docLinkHtml = 'Like what you see? Visit the ' +\n",
              "            '<a target=\"_blank\" href=https://colab.research.google.com/notebooks/data_table.ipynb>data table notebook</a>'\n",
              "            + ' to learn more about interactive tables.';\n",
              "          element.innerHTML = '';\n",
              "          dataTable['output_type'] = 'display_data';\n",
              "          await google.colab.output.renderOutput(dataTable, element);\n",
              "          const docLink = document.createElement('div');\n",
              "          docLink.innerHTML = docLinkHtml;\n",
              "          element.appendChild(docLink);\n",
              "        }\n",
              "      </script>\n",
              "    </div>\n",
              "  </div>\n",
              "  "
            ]
          },
          "metadata": {}
        },
        {
          "output_type": "stream",
          "name": "stdout",
          "text": [
            "\n",
            "See the whole table with table.as_data_frame()\n",
            "\n",
            "Variable Importances: \n"
          ]
        },
        {
          "output_type": "display_data",
          "data": {
            "text/plain": [
              "                  variable  relative_importance  scaled_importance  percentage\n",
              "0     reconstr_OverallQual             0.178225           1.000000    0.441101\n",
              "1       reconstr_GrLivArea             0.047249           0.265111    0.116941\n",
              "2      reconstr_WoodDeckSF             0.038054           0.213516    0.094182\n",
              "3      reconstr_GarageArea             0.036175           0.202973    0.089531\n",
              "4      reconstr_Fireplaces             0.035071           0.196780    0.086800\n",
              "5   reconstr_EnclosedPorch             0.019284           0.108198    0.047726\n",
              "6                   Arch46             0.016638           0.093353    0.041178\n",
              "7                   Arch29             0.015691           0.088038    0.038834\n",
              "8        reconstr_1stFlrSF             0.008943           0.050180    0.022135\n",
              "9     reconstr_OpenPorchSF             0.004045           0.022698    0.010012\n",
              "10        reconstr_LotArea             0.003198           0.017946    0.007916\n",
              "11                  Arch50             0.000827           0.004641    0.002047\n",
              "12                   Arch7             0.000519           0.002913    0.001285\n",
              "13                  Arch24             0.000126           0.000705    0.000311\n",
              "14     reconstr_MSSubClass             0.000000           0.000000    0.000000\n",
              "15    reconstr_LotFrontage             0.000000           0.000000    0.000000\n",
              "16    reconstr_OverallCond             0.000000           0.000000    0.000000\n",
              "17      reconstr_YearBuilt             0.000000           0.000000    0.000000\n",
              "18   reconstr_YearRemodAdd             0.000000           0.000000    0.000000\n",
              "19     reconstr_MasVnrArea             0.000000           0.000000    0.000000"
            ],
            "text/html": [
              "\n",
              "  <div id=\"df-65a868a5-6c9f-4d3e-a2f3-d13fe669f38c\">\n",
              "    <div class=\"colab-df-container\">\n",
              "      <div>\n",
              "<style scoped>\n",
              "    .dataframe tbody tr th:only-of-type {\n",
              "        vertical-align: middle;\n",
              "    }\n",
              "\n",
              "    .dataframe tbody tr th {\n",
              "        vertical-align: top;\n",
              "    }\n",
              "\n",
              "    .dataframe thead th {\n",
              "        text-align: right;\n",
              "    }\n",
              "</style>\n",
              "<table border=\"1\" class=\"dataframe\">\n",
              "  <thead>\n",
              "    <tr style=\"text-align: right;\">\n",
              "      <th></th>\n",
              "      <th>variable</th>\n",
              "      <th>relative_importance</th>\n",
              "      <th>scaled_importance</th>\n",
              "      <th>percentage</th>\n",
              "    </tr>\n",
              "  </thead>\n",
              "  <tbody>\n",
              "    <tr>\n",
              "      <th>0</th>\n",
              "      <td>reconstr_OverallQual</td>\n",
              "      <td>0.178225</td>\n",
              "      <td>1.000000</td>\n",
              "      <td>0.441101</td>\n",
              "    </tr>\n",
              "    <tr>\n",
              "      <th>1</th>\n",
              "      <td>reconstr_GrLivArea</td>\n",
              "      <td>0.047249</td>\n",
              "      <td>0.265111</td>\n",
              "      <td>0.116941</td>\n",
              "    </tr>\n",
              "    <tr>\n",
              "      <th>2</th>\n",
              "      <td>reconstr_WoodDeckSF</td>\n",
              "      <td>0.038054</td>\n",
              "      <td>0.213516</td>\n",
              "      <td>0.094182</td>\n",
              "    </tr>\n",
              "    <tr>\n",
              "      <th>3</th>\n",
              "      <td>reconstr_GarageArea</td>\n",
              "      <td>0.036175</td>\n",
              "      <td>0.202973</td>\n",
              "      <td>0.089531</td>\n",
              "    </tr>\n",
              "    <tr>\n",
              "      <th>4</th>\n",
              "      <td>reconstr_Fireplaces</td>\n",
              "      <td>0.035071</td>\n",
              "      <td>0.196780</td>\n",
              "      <td>0.086800</td>\n",
              "    </tr>\n",
              "    <tr>\n",
              "      <th>5</th>\n",
              "      <td>reconstr_EnclosedPorch</td>\n",
              "      <td>0.019284</td>\n",
              "      <td>0.108198</td>\n",
              "      <td>0.047726</td>\n",
              "    </tr>\n",
              "    <tr>\n",
              "      <th>6</th>\n",
              "      <td>Arch46</td>\n",
              "      <td>0.016638</td>\n",
              "      <td>0.093353</td>\n",
              "      <td>0.041178</td>\n",
              "    </tr>\n",
              "    <tr>\n",
              "      <th>7</th>\n",
              "      <td>Arch29</td>\n",
              "      <td>0.015691</td>\n",
              "      <td>0.088038</td>\n",
              "      <td>0.038834</td>\n",
              "    </tr>\n",
              "    <tr>\n",
              "      <th>8</th>\n",
              "      <td>reconstr_1stFlrSF</td>\n",
              "      <td>0.008943</td>\n",
              "      <td>0.050180</td>\n",
              "      <td>0.022135</td>\n",
              "    </tr>\n",
              "    <tr>\n",
              "      <th>9</th>\n",
              "      <td>reconstr_OpenPorchSF</td>\n",
              "      <td>0.004045</td>\n",
              "      <td>0.022698</td>\n",
              "      <td>0.010012</td>\n",
              "    </tr>\n",
              "    <tr>\n",
              "      <th>10</th>\n",
              "      <td>reconstr_LotArea</td>\n",
              "      <td>0.003198</td>\n",
              "      <td>0.017946</td>\n",
              "      <td>0.007916</td>\n",
              "    </tr>\n",
              "    <tr>\n",
              "      <th>11</th>\n",
              "      <td>Arch50</td>\n",
              "      <td>0.000827</td>\n",
              "      <td>0.004641</td>\n",
              "      <td>0.002047</td>\n",
              "    </tr>\n",
              "    <tr>\n",
              "      <th>12</th>\n",
              "      <td>Arch7</td>\n",
              "      <td>0.000519</td>\n",
              "      <td>0.002913</td>\n",
              "      <td>0.001285</td>\n",
              "    </tr>\n",
              "    <tr>\n",
              "      <th>13</th>\n",
              "      <td>Arch24</td>\n",
              "      <td>0.000126</td>\n",
              "      <td>0.000705</td>\n",
              "      <td>0.000311</td>\n",
              "    </tr>\n",
              "    <tr>\n",
              "      <th>14</th>\n",
              "      <td>reconstr_MSSubClass</td>\n",
              "      <td>0.000000</td>\n",
              "      <td>0.000000</td>\n",
              "      <td>0.000000</td>\n",
              "    </tr>\n",
              "    <tr>\n",
              "      <th>15</th>\n",
              "      <td>reconstr_LotFrontage</td>\n",
              "      <td>0.000000</td>\n",
              "      <td>0.000000</td>\n",
              "      <td>0.000000</td>\n",
              "    </tr>\n",
              "    <tr>\n",
              "      <th>16</th>\n",
              "      <td>reconstr_OverallCond</td>\n",
              "      <td>0.000000</td>\n",
              "      <td>0.000000</td>\n",
              "      <td>0.000000</td>\n",
              "    </tr>\n",
              "    <tr>\n",
              "      <th>17</th>\n",
              "      <td>reconstr_YearBuilt</td>\n",
              "      <td>0.000000</td>\n",
              "      <td>0.000000</td>\n",
              "      <td>0.000000</td>\n",
              "    </tr>\n",
              "    <tr>\n",
              "      <th>18</th>\n",
              "      <td>reconstr_YearRemodAdd</td>\n",
              "      <td>0.000000</td>\n",
              "      <td>0.000000</td>\n",
              "      <td>0.000000</td>\n",
              "    </tr>\n",
              "    <tr>\n",
              "      <th>19</th>\n",
              "      <td>reconstr_MasVnrArea</td>\n",
              "      <td>0.000000</td>\n",
              "      <td>0.000000</td>\n",
              "      <td>0.000000</td>\n",
              "    </tr>\n",
              "  </tbody>\n",
              "</table>\n",
              "</div>\n",
              "      <button class=\"colab-df-convert\" onclick=\"convertToInteractive('df-65a868a5-6c9f-4d3e-a2f3-d13fe669f38c')\"\n",
              "              title=\"Convert this dataframe to an interactive table.\"\n",
              "              style=\"display:none;\">\n",
              "        \n",
              "  <svg xmlns=\"http://www.w3.org/2000/svg\" height=\"24px\"viewBox=\"0 0 24 24\"\n",
              "       width=\"24px\">\n",
              "    <path d=\"M0 0h24v24H0V0z\" fill=\"none\"/>\n",
              "    <path d=\"M18.56 5.44l.94 2.06.94-2.06 2.06-.94-2.06-.94-.94-2.06-.94 2.06-2.06.94zm-11 1L8.5 8.5l.94-2.06 2.06-.94-2.06-.94L8.5 2.5l-.94 2.06-2.06.94zm10 10l.94 2.06.94-2.06 2.06-.94-2.06-.94-.94-2.06-.94 2.06-2.06.94z\"/><path d=\"M17.41 7.96l-1.37-1.37c-.4-.4-.92-.59-1.43-.59-.52 0-1.04.2-1.43.59L10.3 9.45l-7.72 7.72c-.78.78-.78 2.05 0 2.83L4 21.41c.39.39.9.59 1.41.59.51 0 1.02-.2 1.41-.59l7.78-7.78 2.81-2.81c.8-.78.8-2.07 0-2.86zM5.41 20L4 18.59l7.72-7.72 1.47 1.35L5.41 20z\"/>\n",
              "  </svg>\n",
              "      </button>\n",
              "      \n",
              "  <style>\n",
              "    .colab-df-container {\n",
              "      display:flex;\n",
              "      flex-wrap:wrap;\n",
              "      gap: 12px;\n",
              "    }\n",
              "\n",
              "    .colab-df-convert {\n",
              "      background-color: #E8F0FE;\n",
              "      border: none;\n",
              "      border-radius: 50%;\n",
              "      cursor: pointer;\n",
              "      display: none;\n",
              "      fill: #1967D2;\n",
              "      height: 32px;\n",
              "      padding: 0 0 0 0;\n",
              "      width: 32px;\n",
              "    }\n",
              "\n",
              "    .colab-df-convert:hover {\n",
              "      background-color: #E2EBFA;\n",
              "      box-shadow: 0px 1px 2px rgba(60, 64, 67, 0.3), 0px 1px 3px 1px rgba(60, 64, 67, 0.15);\n",
              "      fill: #174EA6;\n",
              "    }\n",
              "\n",
              "    [theme=dark] .colab-df-convert {\n",
              "      background-color: #3B4455;\n",
              "      fill: #D2E3FC;\n",
              "    }\n",
              "\n",
              "    [theme=dark] .colab-df-convert:hover {\n",
              "      background-color: #434B5C;\n",
              "      box-shadow: 0px 1px 3px 1px rgba(0, 0, 0, 0.15);\n",
              "      filter: drop-shadow(0px 1px 2px rgba(0, 0, 0, 0.3));\n",
              "      fill: #FFFFFF;\n",
              "    }\n",
              "  </style>\n",
              "\n",
              "      <script>\n",
              "        const buttonEl =\n",
              "          document.querySelector('#df-65a868a5-6c9f-4d3e-a2f3-d13fe669f38c button.colab-df-convert');\n",
              "        buttonEl.style.display =\n",
              "          google.colab.kernel.accessAllowed ? 'block' : 'none';\n",
              "\n",
              "        async function convertToInteractive(key) {\n",
              "          const element = document.querySelector('#df-65a868a5-6c9f-4d3e-a2f3-d13fe669f38c');\n",
              "          const dataTable =\n",
              "            await google.colab.kernel.invokeFunction('convertToInteractive',\n",
              "                                                     [key], {});\n",
              "          if (!dataTable) return;\n",
              "\n",
              "          const docLinkHtml = 'Like what you see? Visit the ' +\n",
              "            '<a target=\"_blank\" href=https://colab.research.google.com/notebooks/data_table.ipynb>data table notebook</a>'\n",
              "            + ' to learn more about interactive tables.';\n",
              "          element.innerHTML = '';\n",
              "          dataTable['output_type'] = 'display_data';\n",
              "          await google.colab.output.renderOutput(dataTable, element);\n",
              "          const docLink = document.createElement('div');\n",
              "          docLink.innerHTML = docLinkHtml;\n",
              "          element.appendChild(docLink);\n",
              "        }\n",
              "      </script>\n",
              "    </div>\n",
              "  </div>\n",
              "  "
            ]
          },
          "metadata": {}
        },
        {
          "output_type": "stream",
          "name": "stdout",
          "text": [
            "\n",
            "See the whole table with table.as_data_frame()\n",
            "\n",
            "glm prediction progress: |███████████████████████████████████████████████████████| (done) 100%\n"
          ]
        },
        {
          "output_type": "display_data",
          "data": {
            "text/html": [
              "<table>\n",
              "<thead>\n",
              "<tr><th style=\"text-align: right;\">  SalePrice</th><th style=\"text-align: right;\">  predict</th></tr>\n",
              "</thead>\n",
              "<tbody>\n",
              "<tr><td style=\"text-align: right;\">    11.8494</td><td style=\"text-align: right;\">  12.0053</td></tr>\n",
              "<tr><td style=\"text-align: right;\">    12.2061</td><td style=\"text-align: right;\">  12.3467</td></tr>\n",
              "<tr><td style=\"text-align: right;\">    11.6784</td><td style=\"text-align: right;\">  11.6468</td></tr>\n",
              "<tr><td style=\"text-align: right;\">    11.7906</td><td style=\"text-align: right;\">  11.9176</td></tr>\n",
              "<tr><td style=\"text-align: right;\">    11.9117</td><td style=\"text-align: right;\">  11.8292</td></tr>\n",
              "<tr><td style=\"text-align: right;\">    11.9767</td><td style=\"text-align: right;\">  12.0403</td></tr>\n",
              "<tr><td style=\"text-align: right;\">    11.8451</td><td style=\"text-align: right;\">  11.6615</td></tr>\n",
              "<tr><td style=\"text-align: right;\">    11.1346</td><td style=\"text-align: right;\">  11.3426</td></tr>\n",
              "<tr><td style=\"text-align: right;\">    11.914 </td><td style=\"text-align: right;\">  11.8816</td></tr>\n",
              "<tr><td style=\"text-align: right;\">    11.8845</td><td style=\"text-align: right;\">  12.0442</td></tr>\n",
              "</tbody>\n",
              "</table>"
            ]
          },
          "metadata": {}
        },
        {
          "output_type": "stream",
          "name": "stdout",
          "text": [
            "\n"
          ]
        },
        {
          "output_type": "display_data",
          "data": {
            "text/plain": [
              "<Figure size 432x288 with 1 Axes>"
            ],
            "image/png": "[encoded data removed]"
          },
          "metadata": {
            "needs_background": "light"
          }
        }
      ],
      "source": [
        "alpha_opts = [0.01, 0.25, 0.5, 0.99] # always keep some L2\n",
        "hyper_parameters = {\"alpha\":alpha_opts}\n",
        "\n",
        "# initialize grid search\n",
        "grid = H2OGridSearch(\n",
        "    H2OGeneralizedLinearEstimator(\n",
        "        family=\"gaussian\",\n",
        "        lambda_search=True,\n",
        "        seed=SEED), # REQUIRES STUDENT INPUT\n",
        "        hyper_params=hyper_parameters)\n",
        "    \n",
        "# train grid\n",
        "grid.train(y='SalePrice',\n",
        "           x=imputed_embedded_nums, \n",
        "           training_frame=imputed_embedded_train,\n",
        "           validation_frame=imputed_embedded_valid,\n",
        "           seed=SEED) # REQUIRES STUDENT INPUT\n",
        "\n",
        "# show grid search results\n",
        "print(grid.show())\n",
        "\n",
        "best = grid.get_grid()[0]\n",
        "print(best)\n",
        "    \n",
        "# plot top frame values\n",
        "yhat_frame = imputed_embedded_valid.cbind(best.predict(imputed_embedded_valid))\n",
        "print(yhat_frame[0:10, ['SalePrice', 'predict']])\n",
        "\n",
        "# plot sorted predictions\n",
        "yhat_frame_df = yhat_frame[['SalePrice', 'predict']].as_data_frame()\n",
        "yhat_frame_df.sort_values(by='predict', inplace=True)\n",
        "yhat_frame_df.reset_index(inplace=True, drop=True)\n",
        "_ = yhat_frame_df.plot(title='Ranked Predictions Plot')"
      ]
    },
    {
      "cell_type": "code",
      "execution_count": null,
      "metadata": {
        "id": "v_FZu1pw0H1Y"
      },
      "outputs": [],
      "source": [
        "# 22\n",
        "# Shutdown H2O - this will erase all your unsaved frames and models in H2O\n",
        "h2o.cluster().shutdown(prompt=True)"
      ]
    }
  ],
  "metadata": {
    "anaconda-cloud": {},
    "kernelspec": {
      "display_name": "Python 3",
      "language": "python",
      "name": "python3"
    },
    "language_info": {
      "codemirror_mode": {
        "name": "ipython",
        "version": 3
      },
      "file_extension": ".py",
      "mimetype": "text/x-python",
      "name": "python",
      "nbconvert_exporter": "python",
      "pygments_lexer": "ipython3",
      "version": "3.6.4"
    },
    "colab": {
      "name": "Copy of Assignment 10.ipynb",
      "provenance": []
    }
  },
  "nbformat": 4,
  "nbformat_minor": 0
}
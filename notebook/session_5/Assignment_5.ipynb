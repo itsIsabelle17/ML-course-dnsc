{
  "cells": [
    {
      "cell_type": "markdown",
      "metadata": {
        "id": "2fXu6CibcTJA"
      },
      "source": [
        "# License \n",
        "***\n",
        "Copyright (C) 2017--2022 J. Patrick Hall, jphall@gwu.edu\n",
        "\n",
        "Permission is hereby granted, free of charge, to any person obtaining a copy of this software and associated documentation files (the \"Software\"), to deal in the Software without restriction, including without limitation the rights to use, copy, modify, merge, publish, distribute, sublicense, and/or sell copies of the Software, and to permit persons to whom the Software is furnished to do so, subject to the following conditions:\n",
        "\n",
        "The above copyright notice and this permission notice shall be included in all copies or substantial portions of the Software.\n",
        "\n",
        "THE SOFTWARE IS PROVIDED \"AS IS\", WITHOUT WARRANTY OF ANY KIND, EXPRESS OR IMPLIED, INCLUDING BUT NOT LIMITED TO THE WARRANTIES OF MERCHANTABILITY, FITNESS FOR A PARTICULAR PURPOSE AND NONINFRINGEMENT. IN NO EVENT SHALL THE AUTHORS OR COPYRIGHT HOLDERS BE LIABLE FOR ANY CLAIM, DAMAGES OR OTHER LIABILITY, WHETHER IN AN ACTION OF CONTRACT, TORT OR OTHERWISE, ARISING FROM, OUT OF OR IN CONNECTION WITH THE SOFTWARE OR THE USE OR OTHER DEALINGS IN THE SOFTWARE."
      ]
    },
    {
      "cell_type": "markdown",
      "source": [
        "## Installs and Imports"
      ],
      "metadata": {
        "id": "kMmtdi92deO5"
      }
    },
    {
      "cell_type": "markdown",
      "source": [
        "1. Standard Python imports and config"
      ],
      "metadata": {
        "id": "zwyCHwSWdiLK"
      }
    },
    {
      "cell_type": "code",
      "source": [
        "import pandas as pd # import pandas for easy data manipulation using data frames\n",
        "\n",
        "from matplotlib import pyplot as plt # plotting\n",
        "import numpy as np                   # basic array and matric handling\n",
        "\n",
        "# to upload local files\n",
        "import io\n",
        "from google.colab import files  \n",
        "\n",
        "SEED = 12345 # seed for better reproducibility\n",
        "\n",
        "# display matplotlib graphics in notebook\n",
        "%matplotlib inline"
      ],
      "metadata": {
        "id": "toufIIVBdowB"
      },
      "execution_count": null,
      "outputs": []
    },
    {
      "cell_type": "markdown",
      "source": [
        "2. Install Java"
      ],
      "metadata": {
        "id": "cEJTK8LudnWA"
      }
    },
    {
      "cell_type": "code",
      "source": [
        "# install Java for h2o backend\n",
        "!apt-get install default-jre\n",
        "!java -version"
      ],
      "metadata": {
        "id": "HTBBbrK5eZtL"
      },
      "execution_count": null,
      "outputs": []
    },
    {
      "cell_type": "markdown",
      "source": [
        "3. Install h2o"
      ],
      "metadata": {
        "id": "nr1DPyM0eM8-"
      }
    },
    {
      "cell_type": "code",
      "source": [
        "# install h2o\n",
        "!pip install h2o "
      ],
      "metadata": {
        "id": "SJR7AEyfebkh"
      },
      "execution_count": null,
      "outputs": []
    },
    {
      "cell_type": "markdown",
      "source": [
        "4. Import h2o package and required classes"
      ],
      "metadata": {
        "id": "pNkw3u-HeVQK"
      }
    },
    {
      "cell_type": "code",
      "source": [
        "# import h2o and required classes\n",
        "import h2o\n",
        "from h2o.estimators.deeplearning import H2ODeepLearningEstimator\n",
        "from h2o.grid.grid_search import H2OGridSearch"
      ],
      "metadata": {
        "id": "v8ysF9zXefHa"
      },
      "execution_count": null,
      "outputs": []
    },
    {
      "cell_type": "markdown",
      "source": [
        "5. Start h2o Server"
      ],
      "metadata": {
        "id": "Gxnt-f2aDo7n"
      }
    },
    {
      "cell_type": "code",
      "execution_count": null,
      "metadata": {
        "id": "8oV_Jl_hcTJO"
      },
      "outputs": [],
      "source": [
        "# start and connect to h2o server\n",
        "h2o.init()"
      ]
    },
    {
      "cell_type": "markdown",
      "source": [
        "## Load example data"
      ],
      "metadata": {
        "id": "eH8gJqyXEjGy"
      }
    },
    {
      "cell_type": "markdown",
      "source": [
        "6. Upload class example data"
      ],
      "metadata": {
        "id": "BOQsxQbbEmaH"
      }
    },
    {
      "cell_type": "code",
      "source": [
        "# special google collab command to upload a file from computer\n",
        "uploaded = files.upload() # REQUIRES STUDENT INPUT"
      ],
      "metadata": {
        "id": "N4qPpHvWEWw8"
      },
      "execution_count": null,
      "outputs": []
    },
    {
      "cell_type": "code",
      "source": [
        "# 7\n",
        "uploaded.keys() # what is stored in that Python object?"
      ],
      "metadata": {
        "id": "Y2qU1fObExwb"
      },
      "execution_count": null,
      "outputs": []
    },
    {
      "cell_type": "markdown",
      "source": [
        "8. Covert to Pandas DataFrame"
      ],
      "metadata": {
        "id": "0zeUcwSoEzkB"
      }
    },
    {
      "cell_type": "code",
      "source": [
        "# convert data to Pandas DataFrame\n",
        "raw = pd.read_csv(io.StringIO(uploaded['loan_clean.csv'].decode('utf-8'))) # name in quotes here must match name above"
      ],
      "metadata": {
        "id": "v8d7LSsJEy_z"
      },
      "execution_count": null,
      "outputs": []
    },
    {
      "cell_type": "markdown",
      "source": [
        "9. Assign basic metadata (measurement level) for h2o"
      ],
      "metadata": {
        "id": "qYzPD3xxDyoJ"
      }
    },
    {
      "cell_type": "code",
      "execution_count": null,
      "metadata": {
        "collapsed": true,
        "id": "MHuprD6gcTJR"
      },
      "outputs": [],
      "source": [
        "# define input feature measurement levels \n",
        "# strings automatically parsed as enums (nominal/categorical)\n",
        "# numbers automatically parsed as numeric\n",
        "col_types = {'bad_loan': 'enum'}"
      ]
    },
    {
      "cell_type": "markdown",
      "source": [
        "10. Covert to h2o frame"
      ],
      "metadata": {
        "id": "tQIWAFg2FJU9"
      }
    },
    {
      "cell_type": "code",
      "source": [
        "hraw = h2o.H2OFrame(raw, column_types=col_types)"
      ],
      "metadata": {
        "id": "CAgphYfpFMFo"
      },
      "execution_count": null,
      "outputs": []
    },
    {
      "cell_type": "markdown",
      "source": [
        "11. Split into train, validation, and test partitions"
      ],
      "metadata": {
        "id": "wsTbR4iRFQd9"
      }
    },
    {
      "cell_type": "code",
      "execution_count": null,
      "metadata": {
        "id": "mFJYZIdbcTJU"
      },
      "outputs": [],
      "source": [
        "# split into 40% training, 30% validation, and 30% test\n",
        "train, valid, test = hraw.split_frame([0.4, 0.3])"
      ]
    },
    {
      "cell_type": "markdown",
      "source": [
        "12. Assign basic metadata (modeling roles) for h2o"
      ],
      "metadata": {
        "id": "VA3fVcyQHHeh"
      }
    },
    {
      "cell_type": "code",
      "execution_count": null,
      "metadata": {
        "id": "Fe7-VCBMcTJV"
      },
      "outputs": [],
      "source": [
        "# assign target and inputs\n",
        "y = 'bad_loan'\n",
        "X = [name for name in train.columns if name not in ['id', '_WARN_', 'GRP_home_ownership', y]]\n",
        "print(y)\n",
        "print(X)"
      ]
    },
    {
      "cell_type": "markdown",
      "source": [
        "13. Double-check that h2o treats y as categorical"
      ],
      "metadata": {
        "id": "rrxJKblVHD-o"
      }
    },
    {
      "cell_type": "code",
      "execution_count": null,
      "metadata": {
        "collapsed": true,
        "id": "5pLSKKuOcTJV"
      },
      "outputs": [],
      "source": [
        "# set target to catgorical - for binary classification\n",
        "train[y] = train[y].asfactor()\n",
        "valid[y] = valid[y].asfactor()\n",
        "test[y] = test[y].asfactor()"
      ]
    },
    {
      "cell_type": "markdown",
      "source": [
        "## Train ANN using random grid search"
      ],
      "metadata": {
        "id": "Kn5KECd0H3ah"
      }
    },
    {
      "cell_type": "markdown",
      "source": [
        "14. Conduct random grid search"
      ],
      "metadata": {
        "id": "Puab8aWeHZu7"
      }
    },
    {
      "cell_type": "code",
      "execution_count": null,
      "metadata": {
        "id": "F2SJU7qRcTJY"
      },
      "outputs": [],
      "source": [
        "# train ANN with random hyperparameter search\n",
        "# train many different ANN models with random hyperparameters\n",
        "# and select best model based on validation error\n",
        "\n",
        "# define random grid search parameters\n",
        "hyper_parameters = {'hidden':[], # REQUIRES STUDENT INPUT\n",
        "                    'l1':[s/1e4 for s in range(0, 1000, 100)],\n",
        "                    'l2':[s/1e5 for s in range(0, 1000, 100)],\n",
        "                    'input_dropout_ratio':[s/1e2 for s in range(0, 20, 2)]}\n",
        "\n",
        "# define search strategy\n",
        "search_criteria = {'strategy':'', # REQUIRES STUDENT INPUT -- random search!\n",
        "                   'max_models': 20,\n",
        "                   'max_runtime_secs': 1200,\n",
        "                   'seed': } # REQUIRES STUDENT INPUT\n",
        "\n",
        "# initialize grid search\n",
        "gsearch = H2OGridSearch(H2ODeepLearningEstimator,\n",
        "                        hyper_params=hyper_parameters,\n",
        "                        search_criteria=search_criteria)\n",
        "\n",
        "# execute training w/ grid search\n",
        "gsearch.train(x=X,\n",
        "              y=y,\n",
        "              training_frame=train,\n",
        "              validation_frame=valid,\n",
        "              reproducible=True, # force SGD to reproducible, but slow\n",
        "              seed=) # REQUIRES STUDENT INPUT"
      ]
    },
    {
      "cell_type": "markdown",
      "source": [
        "15. Display grid search results"
      ],
      "metadata": {
        "id": "isk6cC6OHd0b"
      }
    },
    {
      "cell_type": "code",
      "execution_count": null,
      "metadata": {
        "id": "oRjk8NuNcTJZ"
      },
      "outputs": [],
      "source": [
        "# show grid search results\n",
        "gsearch.show()\n",
        "\n",
        "# select best model\n",
        "best_ann = gsearch.get_grid()[0]\n",
        "\n",
        "# print model information\n",
        "best_ann"
      ]
    },
    {
      "cell_type": "markdown",
      "source": [
        "16. Display AUC across partitions"
      ],
      "metadata": {
        "id": "UiQ199LAHh_6"
      }
    },
    {
      "cell_type": "code",
      "execution_count": null,
      "metadata": {
        "id": "GzbGdy4LcTJZ"
      },
      "outputs": [],
      "source": [
        "# measure ann AUC\n",
        "print('Training AUC:',best_ann.auc(train=True))\n",
        "print('Validation AUC:', best_ann.auc(valid=True))\n",
        "print('Test AUC:', best_ann.model_performance(test_data=test).auc())"
      ]
    },
    {
      "cell_type": "markdown",
      "source": [
        "17. Display iteration plot for best model"
      ],
      "metadata": {
        "id": "DWt_9wBwHoJB"
      }
    },
    {
      "cell_type": "code",
      "source": [
        "_ = best_ann.plot()"
      ],
      "metadata": {
        "id": "kFW01935Gy5Q"
      },
      "execution_count": null,
      "outputs": []
    },
    {
      "cell_type": "markdown",
      "source": [
        "18. Score new row of data"
      ],
      "metadata": {
        "id": "MXkVM0eNHxmz"
      }
    },
    {
      "cell_type": "code",
      "source": [
        "# predict on new data -- REQUIRES STUDENT INPUT\n",
        "new_row = pd.DataFrame.from_dict({\n",
        "  \"GRP_REP_home_ownership\": [],\n",
        "  \"GRP_addr_state\": [],\n",
        "  \"GRP_purpose\": [],\n",
        "  \"GRP_verification_status\": [],\n",
        "  \"STD_IMP_REP_annual_inc\": [],\n",
        "  \"STD_IMP_REP_delinq_2yrs\": [],\n",
        "  \"STD_IMP_REP_dti\": [],\n",
        "  \"STD_IMP_REP_emp_length\": [],\n",
        "  \"STD_IMP_REP_int_rate\": [],\n",
        "  \"STD_IMP_REP_loan_amnt\": [],\n",
        "  \"STD_IMP_REP_longest_credit_lengt\": [],\n",
        "  \"STD_IMP_REP_revol_util\": [],\n",
        "  \"STD_IMP_REP_term_length\":[],\n",
        "  \"STD_IMP_REP_total_acc\": []},\n",
        "  orient='columns')\n",
        "\n",
        "# generate prediction -- REQUIRES STUDENT INPUT\n",
        "best_ann.predict(h2o.H2OFrame())"
      ],
      "metadata": {
        "id": "pkWHXIN3ICsM"
      },
      "execution_count": null,
      "outputs": []
    },
    {
      "cell_type": "markdown",
      "source": [
        "19. Shutdown h2o"
      ],
      "metadata": {
        "id": "6Orkz3fYIAkt"
      }
    },
    {
      "cell_type": "code",
      "execution_count": null,
      "metadata": {
        "id": "kl1LXR3AcTJa"
      },
      "outputs": [],
      "source": [
        "# shutdown h2o\n",
        "h2o.cluster().shutdown(prompt=False)"
      ]
    }
  ],
  "metadata": {
    "anaconda-cloud": {},
    "kernelspec": {
      "display_name": "Python [conda root]",
      "language": "python",
      "name": "conda-root-py"
    },
    "language_info": {
      "codemirror_mode": {
        "name": "ipython",
        "version": 3
      },
      "file_extension": ".py",
      "mimetype": "text/x-python",
      "name": "python",
      "nbconvert_exporter": "python",
      "pygments_lexer": "ipython3",
      "version": "3.5.2"
    },
    "colab": {
      "name": "Assignment 5.ipynb",
      "provenance": [],
      "collapsed_sections": []
    }
  },
  "nbformat": 4,
  "nbformat_minor": 0
}
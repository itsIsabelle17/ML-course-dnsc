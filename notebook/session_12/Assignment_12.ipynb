{
  "cells": [
    {
      "cell_type": "markdown",
      "metadata": {
        "id": "view-in-github",
        "colab_type": "text"
      },
      "source": [
        "<a href=\"https://colab.research.google.com/github/jphall663/GWU_ML/blob/main/notebook/lecture_12/Assignment_12.ipynb\" target=\"_parent\"><img src=\"https://colab.research.google.com/assets/colab-badge.svg\" alt=\"Open In Colab\"/></a>"
      ]
    },
    {
      "cell_type": "markdown",
      "metadata": {
        "id": "IWnt46AmT8PH"
      },
      "source": [
        "# License \n",
        "***\n",
        "Copyright (C) 2017 -- 2022 J. Patrick Hall, jphall@gwu.edu\n",
        "\n",
        "Permission is hereby granted, free of charge, to any person obtaining a copy of this software and associated documentation files (the \"Software\"), to deal in the Software without restriction, including without limitation the rights to use, copy, modify, merge, publish, distribute, sublicense, and/or sell copies of the Software, and to permit persons to whom the Software is furnished to do so, subject to the following conditions:\n",
        "\n",
        "The above copyright notice and this permission notice shall be included in all copies or substantial portions of the Software.\n",
        "\n",
        "THE SOFTWARE IS PROVIDED \"AS IS\", WITHOUT WARRANTY OF ANY KIND, EXPRESS OR IMPLIED, INCLUDING BUT NOT LIMITED TO THE WARRANTIES OF MERCHANTABILITY, FITNESS FOR A PARTICULAR PURPOSE AND NONINFRINGEMENT. IN NO EVENT SHALL THE AUTHORS OR COPYRIGHT HOLDERS BE LIABLE FOR ANY CLAIM, DAMAGES OR OTHER LIABILITY, WHETHER IN AN ACTION OF CONTRACT, TORT OR OTHERWISE, ARISING FROM, OUT OF OR IN CONNECTION WITH THE SOFTWARE OR THE USE OR OTHER DEALINGS IN THE SOFTWARE."
      ]
    },
    {
      "cell_type": "markdown",
      "metadata": {
        "id": "KVn5YXd2V-kU"
      },
      "source": [
        "## Installs and Imports"
      ]
    },
    {
      "cell_type": "markdown",
      "metadata": {
        "id": "YOR1L6Y1qiys"
      },
      "source": [
        "1. Standard Python imports"
      ]
    },
    {
      "cell_type": "code",
      "execution_count": null,
      "metadata": {
        "id": "pvTkpRwET8PS"
      },
      "outputs": [],
      "source": [
        "import pandas as pd # import pandas for easy data manipulation using data frames\n",
        "import numpy as np  # basic array and matric handling\n",
        "\n",
        "# to upload local files\n",
        "import io\n",
        "from google.colab import files  \n",
        "\n",
        "SEED = 12345           # seed for better reproducibility"
      ]
    },
    {
      "cell_type": "markdown",
      "metadata": {
        "id": "Mm2GdpYBqm18"
      },
      "source": [
        "2. Install Java"
      ]
    },
    {
      "cell_type": "code",
      "execution_count": null,
      "metadata": {
        "id": "7-YbUyqtUMNL"
      },
      "outputs": [],
      "source": [
        "# install Java for h2o backend\n",
        "!apt-get install default-jre\n",
        "!java -version"
      ]
    },
    {
      "cell_type": "markdown",
      "metadata": {
        "id": "AnoXiQyeqrLW"
      },
      "source": [
        "3. Install H2O"
      ]
    },
    {
      "cell_type": "code",
      "execution_count": null,
      "metadata": {
        "id": "Md93AynhUo6K"
      },
      "outputs": [],
      "source": [
        "# install h2o\n",
        "!pip install h2o "
      ]
    },
    {
      "cell_type": "markdown",
      "metadata": {
        "id": "3bblRhKvqtlw"
      },
      "source": [
        "4. Import h2o package and required classes"
      ]
    },
    {
      "cell_type": "code",
      "execution_count": null,
      "metadata": {
        "id": "wECURngVVEEV"
      },
      "outputs": [],
      "source": [
        "# import h2o and required classes\n",
        "import h2o\n",
        "from h2o.estimators.glm import H2OGeneralizedLinearEstimator\n",
        "from h2o.grid.grid_search import H2OGridSearch"
      ]
    },
    {
      "cell_type": "markdown",
      "metadata": {
        "id": "aRjuduSaWD1K"
      },
      "source": [
        "## Load example data"
      ]
    },
    {
      "cell_type": "markdown",
      "metadata": {
        "id": "IFdzLsXSq1vw"
      },
      "source": [
        "5. Upload class example data"
      ]
    },
    {
      "cell_type": "code",
      "execution_count": null,
      "metadata": {
        "id": "AWUunZLpVTiR"
      },
      "outputs": [],
      "source": [
        "# special google collab command to upload a file from computer\n",
        "uploaded = files.upload() # REQUIRES STUDENT INPUT"
      ]
    },
    {
      "cell_type": "code",
      "execution_count": null,
      "metadata": {
        "id": "O3oh8A5gWIcu"
      },
      "outputs": [],
      "source": [
        "# 6\n",
        "uploaded.keys() # what is stored in that Python object?"
      ]
    },
    {
      "cell_type": "markdown",
      "metadata": {
        "id": "X8JqTohvq70h"
      },
      "source": [
        "7. Covert to Pandas DataFrame"
      ]
    },
    {
      "cell_type": "code",
      "execution_count": null,
      "metadata": {
        "id": "5MxbxgL2WYza"
      },
      "outputs": [],
      "source": [
        "# convert data to Pandas DataFrame\n",
        "raw = pd.read_csv(io.StringIO(uploaded['loan_clean.csv'].decode('utf-8'))) # name in quotes here must match name in quotes directly above "
      ]
    },
    {
      "cell_type": "markdown",
      "source": [
        "## Split training data into three partitions for improved model selection\""
      ],
      "metadata": {
        "id": "_VHhtn1cY3IL"
      }
    },
    {
      "cell_type": "markdown",
      "source": [
        "8. Add partition marker to raw data and split into train, valid, and test data"
      ],
      "metadata": {
        "id": "AfHyYryaap9N"
      }
    },
    {
      "cell_type": "code",
      "source": [
        "# ALWAYS set a random seed when working with randomness\n",
        "np.random.seed() # REQUIRES STUDENT INPUT\n",
        "raw['partition'] = np.random.choice(3, raw.shape[0])\n",
        "train = raw[raw['partition'] == 0].copy(deep=True)\n",
        "valid = raw[raw['partition'] == 1].copy(deep=True)\n",
        "test = raw[raw['partition'] == 2].copy(deep=True)\n",
        "\n",
        "print('Training data rows: %d,training data columns: %d' % (train.shape[0], train.shape[1]))\n",
        "print('Validation data rows: %d,training data columns: %d' % (valid.shape[0], valid.shape[1]))\n",
        "print('Test data rows: %d,training data columns: %d' % (test.shape[0], test.shape[1]))\n",
        "\n",
        "assert(raw.shape[0] == train.shape[0] + valid.shape[0] + test.shape[0]) # test that splits sum to original data size"
      ],
      "metadata": {
        "id": "gD60BqKOZCX0"
      },
      "execution_count": null,
      "outputs": []
    },
    {
      "cell_type": "markdown",
      "source": [
        "9. Add cross-validation market to test set"
      ],
      "metadata": {
        "id": "KdTOuakRdY4L"
      }
    },
    {
      "cell_type": "code",
      "source": [
        "valid.loc[:, 'fold'] = np.random.choice(5, valid.shape[0])\n",
        "valid.head()"
      ],
      "metadata": {
        "id": "8MNcG7ogdUxv"
      },
      "execution_count": null,
      "outputs": []
    },
    {
      "cell_type": "markdown",
      "metadata": {
        "id": "Bkgid47Aea1f"
      },
      "source": [
        "## Train penalized GLM model to predict loan default with validation data"
      ]
    },
    {
      "cell_type": "markdown",
      "metadata": {
        "id": "QmhXrsVcT8PT"
      },
      "source": [
        "10. Assign global constants"
      ]
    },
    {
      "cell_type": "code",
      "execution_count": null,
      "metadata": {
        "id": "oGaK5VDxT8PX"
      },
      "outputs": [],
      "source": [
        "x_names = [\"GRP_REP_home_ownership\", \"GRP_addr_state\", \"GRP_purpose\",\t\"GRP_verification_status\", \"STD_IMP_REP_annual_inc\", \"STD_IMP_REP_delinq_2yrs\",\t\"STD_IMP_REP_dti\",\t\"STD_IMP_REP_emp_length\",\t\"STD_IMP_REP_int_rate\",\t\"STD_IMP_REP_loan_amnt\",\t\"STD_IMP_REP_longest_credit_lengt\",\t\"STD_IMP_REP_revol_util\",\t\"STD_IMP_REP_term_length\",\t\"STD_IMP_REP_total_acc\"] # REQUIRES STUDENT INPUT\n",
        "y_name = 'bad_loan'# REQUIRES STUDENT INPUT"
      ]
    },
    {
      "cell_type": "markdown",
      "metadata": {
        "id": "9ds6cmuzrR8I"
      },
      "source": [
        "11. Start h2o server"
      ]
    },
    {
      "cell_type": "code",
      "execution_count": null,
      "metadata": {
        "id": "002yVhOjQJEj"
      },
      "outputs": [],
      "source": [
        "# start h2o\n",
        "h2o.init()"
      ]
    },
    {
      "cell_type": "markdown",
      "metadata": {
        "id": "5OECkjvsrU8O"
      },
      "source": [
        "12. Function for penalized GLM training that selects good alpha and lamda"
      ]
    },
    {
      "cell_type": "code",
      "execution_count": null,
      "metadata": {
        "id": "vh1_CH3KT8Pw"
      },
      "outputs": [],
      "source": [
        "def glm_grid(x_names, y_name, htrain, hvalid=None, seed_=SEED):\n",
        "\n",
        "    \"\"\" Wrapper function for penalized GLM with alpha and lambda search.\n",
        "    :param x_names: List of inputs.\n",
        "    :param y_name: Name of target variable.\n",
        "    :param htrain: Training H2OFrame.\n",
        "    :param hvalid: Validation H2OFrame, default None.\n",
        "    :param seed_: Random seed for better reproducibility, default 12345.\n",
        "    :return: Best H2OGeneralizedLinearEstimator.\n",
        "    \"\"\"\n",
        "\n",
        "    alpha_opts = [0.01, 0.25, 0.5, 0.99]  # REQUIRES STUDENT INPUT\n",
        "\n",
        "    # define search criteria\n",
        "    # i.e., over alpha\n",
        "    # lamda search handled by lambda_search param below\n",
        "    hyper_parameters = {'alpha': alpha_opts}\n",
        "\n",
        "    # initialize grid search\n",
        "    grid = H2OGridSearch(\n",
        "        H2OGeneralizedLinearEstimator(family=\"binomial\",\n",
        "                                      lambda_search=True,\n",
        "                                      seed=seed_),\n",
        "        hyper_params=hyper_parameters)\n",
        "\n",
        "    # execute training w/ grid search\n",
        "    grid.train(y=y_name,\n",
        "               x=x_names,\n",
        "               training_frame=htrain,\n",
        "               validation_frame=hvalid,\n",
        "               standardize=False,\n",
        "               seed=seed_)\n",
        "\n",
        "    # return entire grid of models\n",
        "    return grid\n"
      ]
    },
    {
      "cell_type": "markdown",
      "metadata": {
        "id": "oJCIY9YMresM"
      },
      "source": [
        "13. Convert from Pandas DataFrames to H2OFrames"
      ]
    },
    {
      "cell_type": "code",
      "execution_count": null,
      "metadata": {
        "id": "bOJULlWHQ_sH"
      },
      "outputs": [],
      "source": [
        "# training data\n",
        "htrain = h2o.H2OFrame(train) # load Pandas DataFrame in H2OFrame\n",
        "htrain[y_name] = htrain[y_name].asfactor() # ensures h2o treats y/target as categorical and not numeric\n",
        "\n",
        "# validation data\n",
        "hvalid = h2o.H2OFrame(valid) \n",
        "hvalid[y_name] = hvalid[y_name].asfactor() "
      ]
    },
    {
      "cell_type": "markdown",
      "metadata": {
        "id": "5zVAEjAzrnWT"
      },
      "source": [
        "14. Train model using `glm_grid` function with validation data"
      ]
    },
    {
      "cell_type": "code",
      "execution_count": null,
      "metadata": {
        "id": "GTUV8GggrjyS"
      },
      "outputs": [],
      "source": [
        "loan_grid = glm_grid(x_names, y_name, htrain, hvalid)\n"
      ]
    },
    {
      "cell_type": "markdown",
      "source": [
        "15. View validation AUC for models in grid search"
      ],
      "metadata": {
        "id": "zdkObSYxh20D"
      }
    },
    {
      "cell_type": "code",
      "source": [
        "# cycle through grid search results and print valid AUC\n",
        "for i in range(0, 4):\n",
        "  candidate_glm = loan_grid.get_grid()[i]\n",
        "  print('Model %d validation AUC: %.4f' % (i, candidate_glm.auc(valid=True)))\n",
        "  print(loan_grid.get_grid()[i].summary())"
      ],
      "metadata": {
        "id": "1cfPFmk7hvDJ"
      },
      "execution_count": null,
      "outputs": []
    },
    {
      "cell_type": "markdown",
      "source": [
        "16. Extract best model from grid search results"
      ],
      "metadata": {
        "id": "coYzXWXynJID"
      }
    },
    {
      "cell_type": "code",
      "source": [
        "best_glm = loan_grid.get_grid()[0]"
      ],
      "metadata": {
        "id": "FbkOUhU-3E9m"
      },
      "execution_count": null,
      "outputs": []
    },
    {
      "cell_type": "markdown",
      "source": [
        "17. Display coefficients"
      ],
      "metadata": {
        "id": "C0lmfIfc8DXs"
      }
    },
    {
      "cell_type": "code",
      "source": [
        "import operator\n",
        "print('GLM Coefficients:')\n",
        "for c_name, c_val in sorted(best_glm.coef().items(), key=operator.itemgetter(1)):\n",
        "      print('%s %s' % (str(c_name + ':').ljust(25), c_val))"
      ],
      "metadata": {
        "id": "_oQ1kkrg8Suw"
      },
      "execution_count": null,
      "outputs": []
    },
    {
      "cell_type": "markdown",
      "source": [
        "18. Generate Java POJO representation of the best model"
      ],
      "metadata": {
        "id": "SmdbQ_u7nOIA"
      }
    },
    {
      "cell_type": "code",
      "source": [
        "best_glm.download_pojo()"
      ],
      "metadata": {
        "id": "YP_oH5RH3Q0u"
      },
      "execution_count": null,
      "outputs": []
    },
    {
      "cell_type": "markdown",
      "metadata": {
        "id": "DwXbw3I_sfkW"
      },
      "source": [
        "19. Shutdown h2o"
      ]
    },
    {
      "cell_type": "code",
      "execution_count": null,
      "metadata": {
        "id": "HloLeeKTPkG_"
      },
      "outputs": [],
      "source": [
        "# shutdown h2o\n",
        "h2o.cluster().shutdown()"
      ]
    }
  ],
  "metadata": {
    "anaconda-cloud": {},
    "colab": {
      "collapsed_sections": [],
      "name": "Assignment 12.ipynb",
      "provenance": [],
      "include_colab_link": true
    },
    "kernelspec": {
      "display_name": "Python 3",
      "language": "python",
      "name": "python3"
    },
    "language_info": {
      "codemirror_mode": {
        "name": "ipython",
        "version": 3
      },
      "file_extension": ".py",
      "mimetype": "text/x-python",
      "name": "python",
      "nbconvert_exporter": "python",
      "pygments_lexer": "ipython3",
      "version": "3.6.4"
    }
  },
  "nbformat": 4,
  "nbformat_minor": 0
}

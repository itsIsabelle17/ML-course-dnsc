{
  "nbformat": 4,
  "nbformat_minor": 0,
  "metadata": {
    "colab": {
      "name": "Decision Tree.ipynb",
      "provenance": [],
      "collapsed_sections": []
    },
    "kernelspec": {
      "name": "python3",
      "display_name": "Python 3"
    },
    "language_info": {
      "name": "python"
    }
  },
  "cells": [
    {
      "cell_type": "markdown",
      "source": [
        "# Lecture 4: Banknote Case"
      ],
      "metadata": {
        "id": "_SrdeuF7uAYE"
      }
    },
    {
      "cell_type": "markdown",
      "source": [
        "# Banknote Case Study : Decision tree with _k_-fold cross-validation approach\n",
        "Source: _Machine Learning From Scratch_ (Machine Learning Mastery)"
      ],
      "metadata": {
        "id": "oOwjLF8syKGg"
      }
    },
    {
      "cell_type": "markdown",
      "source": [
        "### Imports to read file"
      ],
      "metadata": {
        "id": "UuOQcVg9bUZJ"
      }
    },
    {
      "cell_type": "code",
      "source": [
        "# imports\n",
        "from random import seed\n",
        "from random import randrange\n",
        "from csv import reader"
      ],
      "metadata": {
        "id": "cYa9krMGIsqi"
      },
      "execution_count": null,
      "outputs": []
    },
    {
      "cell_type": "markdown",
      "source": [
        "### Function to load the CSV file and create a list of dataset"
      ],
      "metadata": {
        "id": "SWHb6UI2cgxj"
      }
    },
    {
      "cell_type": "code",
      "source": [
        "def load_csv(filename):\n",
        "\n",
        "  # empty list of dataset\n",
        "  dataset = list()    \n",
        "\n",
        "  with open(filename, 'r') as file:\n",
        "    csv_reader = reader(file)\n",
        "    for row in csv_reader:\n",
        "      if not row:\n",
        "       continue\n",
        "      dataset.append(row)\n",
        "\n",
        "  return dataset"
      ],
      "metadata": {
        "id": "psceZz20JLid"
      },
      "execution_count": null,
      "outputs": []
    },
    {
      "cell_type": "markdown",
      "source": [
        "### Function to covert string to float type"
      ],
      "metadata": {
        "id": "Yq2tGqGXcp-U"
      }
    },
    {
      "cell_type": "code",
      "source": [
        "def str_column_to_float(raw_dataset, column):\n",
        "  for row in raw_dataset:\n",
        "    row[column] = float(row[column].strip())"
      ],
      "metadata": {
        "id": "Uafn61XZJh5c"
      },
      "execution_count": null,
      "outputs": []
    },
    {
      "cell_type": "markdown",
      "source": [
        "# Splitting a dataset & evaluating all splits"
      ],
      "metadata": {
        "id": "3M_oNle3grX0"
      }
    },
    {
      "cell_type": "markdown",
      "source": [
        "### Function to split a dataset \n",
        "##### Splits a dataset into two lists of rows given the index of an feature and split value for that particular feature"
      ],
      "metadata": {
        "id": "Am3keyC_c8EO"
      }
    },
    {
      "cell_type": "code",
      "source": [
        "def test_split(index, value, dataset):\n",
        "\n",
        "  left, right = list(), list()\n",
        "  \n",
        "  for row in dataset:\n",
        "    if row[index] < value:\n",
        "      left.append(row)\n",
        "    else:\n",
        "      right.append(row)\n",
        "  \n",
        "  return left, right"
      ],
      "metadata": {
        "id": "J6uBVlhTLXPI"
      },
      "execution_count": null,
      "outputs": []
    },
    {
      "cell_type": "markdown",
      "source": [
        "### Function to calculate Gini Index "
      ],
      "metadata": {
        "id": "cFhVlQz-cywE"
      }
    },
    {
      "cell_type": "code",
      "source": [
        "def gini_index(groups, class_values):\n",
        "\n",
        "  gini = 0.0\n",
        "\n",
        "  for class_value in class_values:\n",
        "    for group in groups:\n",
        "      size = len(group)\n",
        "      if size == 0:\n",
        "        continue\n",
        "      proportion = [row[-1] for row in group].count(class_value) / float(size)\n",
        "      gini += (proportion * (1.0 - proportion))\n",
        "\n",
        "  return gini"
      ],
      "metadata": {
        "id": "WafytE6NLj31"
      },
      "execution_count": null,
      "outputs": []
    },
    {
      "cell_type": "markdown",
      "source": [
        "### Function to evaluate all splits\n",
        "##### With the gini_index() and test_split(), get_split() searches best split point of an chosen feature and value of that feature"
      ],
      "metadata": {
        "id": "-jwaGwRSdZEs"
      }
    },
    {
      "cell_type": "code",
      "source": [
        "# select the best split point for a dataset\n",
        "\n",
        "def get_split(dataset):\n",
        "\n",
        "  class_values = list(set(row[-1] for row in dataset))\n",
        "  b_index, b_value, b_score, b_groups = 999, 999, 999, None\n",
        "\n",
        "  for index in range(len(dataset[0])-1):\n",
        "    for row in dataset:\n",
        "      groups = test_split(index, row[index], dataset)\n",
        "      gini = gini_index(groups, class_values)\n",
        "      if gini < b_score:\n",
        "        b_index, b_value, b_score, b_groups = index, row[index], gini, groups\n",
        "        \n",
        "  return {'index':b_index, 'value':b_value, 'groups':b_groups}"
      ],
      "metadata": {
        "id": "n6dqALxxL38e"
      },
      "execution_count": null,
      "outputs": []
    },
    {
      "cell_type": "markdown",
      "source": [
        "# Build a tree: terminal nodes, recurisive splitting, & building a tree\n"
      ],
      "metadata": {
        "id": "dMxc32RegY3P"
      }
    },
    {
      "cell_type": "markdown",
      "source": [
        "### to_terminal() determines when to stop growing at a given point and is used to make a final prediction "
      ],
      "metadata": {
        "id": "StwXRp-dh5Pg"
      }
    },
    {
      "cell_type": "code",
      "source": [
        "# create a terminal node value\n",
        "def to_terminal(group):\n",
        "  outcomes = [row[-1] for row in group]\n",
        "  return max(set(outcomes), key=outcomes.count)"
      ],
      "metadata": {
        "id": "1UgGS5vYMSRC"
      },
      "execution_count": null,
      "outputs": []
    },
    {
      "cell_type": "markdown",
      "source": [
        "### split() recursively splits a node to create child nodes "
      ],
      "metadata": {
        "id": "6247SEC6iYSP"
      }
    },
    {
      "cell_type": "code",
      "source": [
        "# create child splits for a node or make terminal\n",
        "\n",
        "def split(node, max_depth, min_size, depth):\n",
        "\n",
        "  left, right = node['groups']\n",
        "\n",
        "  del(node['groups'])\n",
        "\n",
        "   # check for a no split\n",
        "  if not left or not right:\n",
        "    node['left'] = node['right'] = to_terminal(left + right)\n",
        "    return\n",
        "\n",
        "  # check for max depth\n",
        "  if depth >= max_depth:\n",
        "    node['left'], node['right'] = to_terminal(left), to_terminal(right)\n",
        "    return\n",
        "\n",
        "  # process left child\n",
        "  if len(left) <= min_size:\n",
        "    node['left'] = to_terminal(left)\n",
        "  else:\n",
        "    node['left'] = get_split(left)\n",
        "    split(node['left'], max_depth, min_size, depth+1) \n",
        "\n",
        "  # process right child\n",
        "  if len(right) <= min_size:\n",
        "    node['right'] = to_terminal(right)\n",
        "  else:\n",
        "    node['right'] = get_split(right)\n",
        "    split(node['right'], max_depth, min_size, depth+1)\n"
      ],
      "metadata": {
        "id": "2lzLdugxMW1l"
      },
      "execution_count": null,
      "outputs": []
    },
    {
      "cell_type": "markdown",
      "source": [
        "### build_tree() creates a node and calls the split()  that then calls itself recursively to build a whole tree"
      ],
      "metadata": {
        "id": "wbQfdw55i2qc"
      }
    },
    {
      "cell_type": "code",
      "source": [
        "# build a decision tree\n",
        "def build_tree(train, max_depth, min_size):\n",
        "\n",
        "  root = get_split(train)\n",
        "  split(root, max_depth, min_size, 1)\n",
        "  return root\n",
        "  "
      ],
      "metadata": {
        "id": "QtCEJ98BMbpK"
      },
      "execution_count": null,
      "outputs": []
    },
    {
      "cell_type": "markdown",
      "source": [
        "### Making a prediction with the specifically provided row of data "
      ],
      "metadata": {
        "id": "YIZQP2zHjlt9"
      }
    },
    {
      "cell_type": "code",
      "source": [
        "# make a prediction\n",
        "\n",
        "def predict(node, row):\n",
        "\n",
        "  if row[node['index']] < node['value']:\n",
        "    if isinstance(node['left'], dict):\n",
        "      return predict(node['left'], row)\n",
        "    else:\n",
        "      return node['left']\n",
        "\n",
        "  else:\n",
        "    if isinstance(node['right'], dict):\n",
        "      return predict(node['right'], row)\n",
        "    else:\n",
        "      return node['right']\n",
        "      "
      ],
      "metadata": {
        "id": "5tORB9JhNILq"
      },
      "execution_count": null,
      "outputs": []
    },
    {
      "cell_type": "markdown",
      "source": [
        "# Functions to Implement k-fold cross-validation approach"
      ],
      "metadata": {
        "id": "E2sPPgXCkCsv"
      }
    },
    {
      "cell_type": "markdown",
      "source": [
        "### Split dataset into _k_-folds defined by user input value\n"
      ],
      "metadata": {
        "id": "urEktm7molK2"
      }
    },
    {
      "cell_type": "code",
      "source": [
        "def cross_validation_split(dataset, n_folds):\n",
        "\n",
        "  dataset_split = list()\n",
        "  dataset_copy = list(dataset)\n",
        "  fold_size = int(len(dataset) / n_folds)\n",
        "\n",
        "  for i in range(n_folds):\n",
        "    fold = list()\n",
        "    while len(fold) < fold_size:\n",
        "      index = randrange(len(dataset_copy))\n",
        "      fold.append(dataset_copy.pop(index))\n",
        "    dataset_split.append(fold)\n",
        "    \n",
        "  return dataset_split"
      ],
      "metadata": {
        "id": "IbeJThsEKQmh"
      },
      "execution_count": null,
      "outputs": []
    },
    {
      "cell_type": "markdown",
      "source": [
        "### decision_tree() to manage the application of the training and prediction functions\n"
      ],
      "metadata": {
        "id": "ZkVr-wqzobE7"
      }
    },
    {
      "cell_type": "code",
      "source": [
        "def decision_tree(train, test, max_depth, min_size):\n",
        "\n",
        "  tree = build_tree(train, max_depth, min_size)\n",
        "  predictions = list()\n",
        "\n",
        "  for row in test:\n",
        "    prediction = predict(tree, row)\n",
        "    predictions.append(prediction)\n",
        "    \n",
        "  return predictions"
      ],
      "metadata": {
        "id": "tqrrLWgENgQ8"
      },
      "execution_count": null,
      "outputs": []
    },
    {
      "cell_type": "markdown",
      "source": [
        "### evaluate_algorithm() to evaluate the algorithm with cross-validation  \n"
      ],
      "metadata": {
        "id": "bZdSproKofH6"
      }
    },
    {
      "cell_type": "code",
      "source": [
        "# evaluate a tree using cross validation\n",
        "\n",
        "def evaluate_algorithm(dataset, algorithm, n_folds, *args):\n",
        "\n",
        "  folds = cross_validation_split(dataset, n_folds)\n",
        "  scores = list()\n",
        "\n",
        "  for fold in folds:\n",
        "    train_set = list(folds)\n",
        "    train_set.remove(fold)\n",
        "    train_set = sum(train_set, [])\n",
        "    test_set = list()\n",
        "    for row in fold:\n",
        "      row_copy = list(row)\n",
        "      test_set.append(row_copy)\n",
        "      row_copy[-1] = None\n",
        "    predicted = algorithm(train_set, test_set, *args)\n",
        "    actual = [row[-1] for row in fold]\n",
        "    accuracy = accuracy_metric(actual, predicted)\n",
        "    scores.append(accuracy)\n",
        "    \n",
        "  return scores"
      ],
      "metadata": {
        "id": "Ahthk8YAK4FX"
      },
      "execution_count": null,
      "outputs": []
    },
    {
      "cell_type": "markdown",
      "source": [
        "### accuracy_metrics() to calculate accuracy of prediction"
      ],
      "metadata": {
        "id": "D0w1Wp9coiUJ"
      }
    },
    {
      "cell_type": "code",
      "source": [
        "def accuracy_metric(actual, predicted):\n",
        "\n",
        "  correct = 0\n",
        "\n",
        "  for i in range(len(actual)):\n",
        "    if actual[i] == predicted[i]:\n",
        "      correct += 1\n",
        "      \n",
        "  return correct / float(len(actual)) * 100.0"
      ],
      "metadata": {
        "id": "JUh83Z7sKpAO"
      },
      "execution_count": null,
      "outputs": []
    },
    {
      "cell_type": "markdown",
      "source": [
        "# Load banknote data"
      ],
      "metadata": {
        "id": "_fp9n3K2N519"
      }
    },
    {
      "cell_type": "code",
      "source": [
        "# imports to upload the datafile\n",
        "import io\n",
        "from google.colab import files  "
      ],
      "metadata": {
        "id": "0bBqOR-gP4sJ"
      },
      "execution_count": null,
      "outputs": []
    },
    {
      "cell_type": "code",
      "source": [
        "# to upload local files\n",
        "uploaded = files.upload()"
      ],
      "metadata": {
        "colab": {
          "resources": {
            "http://localhost:8080/nbextensions/google.colab/files.js": {
              "data": "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",
              "ok": true,
              "headers": [
                [
                  "content-type",
                  "application/javascript"
                ]
              ],
              "status": 200,
              "status_text": ""
            }
          },
          "base_uri": "https://localhost:8080/",
          "height": 74
        },
        "id": "-4QZTW95dxRs",
        "outputId": "ee3acb43-1550-49f5-e570-ffacabb438b4"
      },
      "execution_count": null,
      "outputs": [
        {
          "output_type": "display_data",
          "data": {
            "text/html": [
              "\n",
              "     <input type=\"file\" id=\"files-245cbbcf-3991-4d9c-9ac4-3b5384cd09a3\" name=\"files[]\" multiple disabled\n",
              "        style=\"border:none\" />\n",
              "     <output id=\"result-245cbbcf-3991-4d9c-9ac4-3b5384cd09a3\">\n",
              "      Upload widget is only available when the cell has been executed in the\n",
              "      current browser session. Please rerun this cell to enable.\n",
              "      </output>\n",
              "      <script src=\"/nbextensions/google.colab/files.js\"></script> "
            ],
            "text/plain": [
              "<IPython.core.display.HTML object>"
            ]
          },
          "metadata": {}
        },
        {
          "output_type": "stream",
          "name": "stdout",
          "text": [
            "Saving data_banknote_authentication.csv to data_banknote_authentication.csv\n"
          ]
        }
      ]
    },
    {
      "cell_type": "code",
      "source": [
        "# load and prepare data\n",
        "filename = 'data_banknote_authentication.csv'\n",
        "raw_dataset = load_csv(filename)\n",
        "raw_dataset"
      ],
      "metadata": {
        "id": "iStwRsKjy6L5"
      },
      "execution_count": null,
      "outputs": []
    },
    {
      "cell_type": "code",
      "source": [
        "# convert string feature values to integers\n",
        "seed(12345)\n",
        "for i in range(len(raw_dataset[0])):\n",
        "  str_column_to_float(raw_dataset, i)\n",
        "dataset = raw_dataset"
      ],
      "metadata": {
        "id": "0bxc669SH9cT"
      },
      "execution_count": null,
      "outputs": []
    },
    {
      "cell_type": "markdown",
      "source": [
        "## Train decision tree on banknote data"
      ],
      "metadata": {
        "id": "lajMZvQcwVZW"
      }
    },
    {
      "cell_type": "code",
      "source": [
        "# define user input values\n",
        "# build decision tree and evaluate algorithm\n",
        "n_folds = 5\n",
        "max_depth = 5\n",
        "min_size = 10\n",
        "scores = evaluate_algorithm(dataset, decision_tree, n_folds, max_depth, min_size)\n",
        "print('Scores: %s' % scores)\n",
        "print('Mean Accuracy: %.3f%%' % (sum(scores)/float(len(scores))))"
      ],
      "metadata": {
        "id": "5qDS0MioOHEy",
        "colab": {
          "base_uri": "https://localhost:8080/"
        },
        "outputId": "72a31c17-ecf1-44b2-8e2f-91eccfa76baa"
      },
      "execution_count": null,
      "outputs": [
        {
          "output_type": "stream",
          "name": "stdout",
          "text": [
            "Scores: [81.38686131386861, 85.03649635036497, 81.75182481751825, 83.94160583941606, 83.57664233576642]\n",
            "Mean Accuracy: 83.139%\n"
          ]
        }
      ]
    }
  ]
}